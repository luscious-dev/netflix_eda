{
 "cells": [
  {
   "cell_type": "markdown",
   "id": "ceramic-valve",
   "metadata": {
    "papermill": {
     "duration": 0.060545,
     "end_time": "2021-06-22T09:26:57.939385",
     "exception": false,
     "start_time": "2021-06-22T09:26:57.878840",
     "status": "completed"
    },
    "tags": []
   },
   "source": [
    "## Netflix EDA "
   ]
  },
  {
   "cell_type": "markdown",
   "id": "maritime-horizon",
   "metadata": {
    "papermill": {
     "duration": 0.040893,
     "end_time": "2021-06-22T09:26:58.029407",
     "exception": false,
     "start_time": "2021-06-22T09:26:57.988514",
     "status": "completed"
    },
    "tags": []
   },
   "source": [
    "![](https://i2.wp.com/tvrev.com/wp-content/uploads/2020/02/thibault-penin-AWOl7qqsffM-unsplash-scaled.jpg?fit=2560%2C1709&ssl=1)"
   ]
  },
  {
   "cell_type": "markdown",
   "id": "placed-tragedy",
   "metadata": {
    "papermill": {
     "duration": 0.043376,
     "end_time": "2021-06-22T09:26:58.113509",
     "exception": false,
     "start_time": "2021-06-22T09:26:58.070133",
     "status": "completed"
    },
    "tags": []
   },
   "source": [
    "In these uniquely challenging times, Netfilx has proven to be a great source of entertainment. The platform has recorded an increase of 23 percent in the number of paid members during the final quarters of 2020 when compared with the same period an year earlier.\n",
    "\n",
    "Here is an exploratory data analysis done on the 'netflix-shows' dataset."
   ]
  },
  {
   "cell_type": "markdown",
   "id": "stunning-canal",
   "metadata": {
    "papermill": {
     "duration": 0.040062,
     "end_time": "2021-06-22T09:26:58.196460",
     "exception": false,
     "start_time": "2021-06-22T09:26:58.156398",
     "status": "completed"
    },
    "tags": []
   },
   "source": [
    "## Importing libraries"
   ]
  },
  {
   "cell_type": "code",
   "execution_count": 1,
   "id": "effective-perry",
   "metadata": {
    "execution": {
     "iopub.execute_input": "2021-06-22T09:26:58.291413Z",
     "iopub.status.busy": "2021-06-22T09:26:58.290723Z",
     "iopub.status.idle": "2021-06-22T09:27:00.538833Z",
     "shell.execute_reply": "2021-06-22T09:27:00.538159Z",
     "shell.execute_reply.started": "2021-06-22T09:18:25.217123Z"
    },
    "papermill": {
     "duration": 2.300829,
     "end_time": "2021-06-22T09:27:00.539021",
     "exception": false,
     "start_time": "2021-06-22T09:26:58.238192",
     "status": "completed"
    },
    "tags": []
   },
   "outputs": [],
   "source": [
    "import numpy as np\n",
    "import pandas as pd\n",
    "from pandas import DataFrame\n",
    "\n",
    "import missingno\n",
    "\n",
    "import seaborn as sns\n",
    "import matplotlib.pyplot as plt\n",
    "import plotly.express as px\n",
    "%matplotlib inline\n",
    "\n",
    "import warnings\n",
    "warnings.filterwarnings(\"ignore\")\n",
    "\n",
    "sns.set_theme(style=\"darkgrid\")"
   ]
  },
  {
   "cell_type": "markdown",
   "id": "radical-packaging",
   "metadata": {
    "papermill": {
     "duration": 0.039341,
     "end_time": "2021-06-22T09:27:00.618513",
     "exception": false,
     "start_time": "2021-06-22T09:27:00.579172",
     "status": "completed"
    },
    "tags": []
   },
   "source": [
    "## Importing Data"
   ]
  },
  {
   "cell_type": "code",
   "execution_count": 2,
   "id": "unique-thickness",
   "metadata": {
    "execution": {
     "iopub.execute_input": "2021-06-22T09:27:00.703766Z",
     "iopub.status.busy": "2021-06-22T09:27:00.703113Z",
     "iopub.status.idle": "2021-06-22T09:27:00.850201Z",
     "shell.execute_reply": "2021-06-22T09:27:00.849629Z",
     "shell.execute_reply.started": "2021-06-22T09:18:25.395648Z"
    },
    "papermill": {
     "duration": 0.191971,
     "end_time": "2021-06-22T09:27:00.850393",
     "exception": false,
     "start_time": "2021-06-22T09:27:00.658422",
     "status": "completed"
    },
    "tags": []
   },
   "outputs": [
    {
     "data": {
      "text/html": [
       "<div>\n",
       "<style scoped>\n",
       "    .dataframe tbody tr th:only-of-type {\n",
       "        vertical-align: middle;\n",
       "    }\n",
       "\n",
       "    .dataframe tbody tr th {\n",
       "        vertical-align: top;\n",
       "    }\n",
       "\n",
       "    .dataframe thead th {\n",
       "        text-align: right;\n",
       "    }\n",
       "</style>\n",
       "<table border=\"1\" class=\"dataframe\">\n",
       "  <thead>\n",
       "    <tr style=\"text-align: right;\">\n",
       "      <th></th>\n",
       "      <th>show_id</th>\n",
       "      <th>type</th>\n",
       "      <th>title</th>\n",
       "      <th>director</th>\n",
       "      <th>cast</th>\n",
       "      <th>country</th>\n",
       "      <th>date_added</th>\n",
       "      <th>release_year</th>\n",
       "      <th>rating</th>\n",
       "      <th>duration</th>\n",
       "      <th>listed_in</th>\n",
       "      <th>description</th>\n",
       "    </tr>\n",
       "  </thead>\n",
       "  <tbody>\n",
       "    <tr>\n",
       "      <th>0</th>\n",
       "      <td>s1</td>\n",
       "      <td>TV Show</td>\n",
       "      <td>3%</td>\n",
       "      <td>NaN</td>\n",
       "      <td>João Miguel, Bianca Comparato, Michel Gomes, R...</td>\n",
       "      <td>Brazil</td>\n",
       "      <td>August 14, 2020</td>\n",
       "      <td>2020</td>\n",
       "      <td>TV-MA</td>\n",
       "      <td>4 Seasons</td>\n",
       "      <td>International TV Shows, TV Dramas, TV Sci-Fi &amp;...</td>\n",
       "      <td>In a future where the elite inhabit an island ...</td>\n",
       "    </tr>\n",
       "    <tr>\n",
       "      <th>1</th>\n",
       "      <td>s2</td>\n",
       "      <td>Movie</td>\n",
       "      <td>7:19</td>\n",
       "      <td>Jorge Michel Grau</td>\n",
       "      <td>Demián Bichir, Héctor Bonilla, Oscar Serrano, ...</td>\n",
       "      <td>Mexico</td>\n",
       "      <td>December 23, 2016</td>\n",
       "      <td>2016</td>\n",
       "      <td>TV-MA</td>\n",
       "      <td>93 min</td>\n",
       "      <td>Dramas, International Movies</td>\n",
       "      <td>After a devastating earthquake hits Mexico Cit...</td>\n",
       "    </tr>\n",
       "    <tr>\n",
       "      <th>2</th>\n",
       "      <td>s3</td>\n",
       "      <td>Movie</td>\n",
       "      <td>23:59</td>\n",
       "      <td>Gilbert Chan</td>\n",
       "      <td>Tedd Chan, Stella Chung, Henley Hii, Lawrence ...</td>\n",
       "      <td>Singapore</td>\n",
       "      <td>December 20, 2018</td>\n",
       "      <td>2011</td>\n",
       "      <td>R</td>\n",
       "      <td>78 min</td>\n",
       "      <td>Horror Movies, International Movies</td>\n",
       "      <td>When an army recruit is found dead, his fellow...</td>\n",
       "    </tr>\n",
       "    <tr>\n",
       "      <th>3</th>\n",
       "      <td>s4</td>\n",
       "      <td>Movie</td>\n",
       "      <td>9</td>\n",
       "      <td>Shane Acker</td>\n",
       "      <td>Elijah Wood, John C. Reilly, Jennifer Connelly...</td>\n",
       "      <td>United States</td>\n",
       "      <td>November 16, 2017</td>\n",
       "      <td>2009</td>\n",
       "      <td>PG-13</td>\n",
       "      <td>80 min</td>\n",
       "      <td>Action &amp; Adventure, Independent Movies, Sci-Fi...</td>\n",
       "      <td>In a postapocalyptic world, rag-doll robots hi...</td>\n",
       "    </tr>\n",
       "    <tr>\n",
       "      <th>4</th>\n",
       "      <td>s5</td>\n",
       "      <td>Movie</td>\n",
       "      <td>21</td>\n",
       "      <td>Robert Luketic</td>\n",
       "      <td>Jim Sturgess, Kevin Spacey, Kate Bosworth, Aar...</td>\n",
       "      <td>United States</td>\n",
       "      <td>January 1, 2020</td>\n",
       "      <td>2008</td>\n",
       "      <td>PG-13</td>\n",
       "      <td>123 min</td>\n",
       "      <td>Dramas</td>\n",
       "      <td>A brilliant group of students become card-coun...</td>\n",
       "    </tr>\n",
       "  </tbody>\n",
       "</table>\n",
       "</div>"
      ],
      "text/plain": [
       "  show_id     type  title           director  \\\n",
       "0      s1  TV Show     3%                NaN   \n",
       "1      s2    Movie   7:19  Jorge Michel Grau   \n",
       "2      s3    Movie  23:59       Gilbert Chan   \n",
       "3      s4    Movie      9        Shane Acker   \n",
       "4      s5    Movie     21     Robert Luketic   \n",
       "\n",
       "                                                cast        country  \\\n",
       "0  João Miguel, Bianca Comparato, Michel Gomes, R...         Brazil   \n",
       "1  Demián Bichir, Héctor Bonilla, Oscar Serrano, ...         Mexico   \n",
       "2  Tedd Chan, Stella Chung, Henley Hii, Lawrence ...      Singapore   \n",
       "3  Elijah Wood, John C. Reilly, Jennifer Connelly...  United States   \n",
       "4  Jim Sturgess, Kevin Spacey, Kate Bosworth, Aar...  United States   \n",
       "\n",
       "          date_added  release_year rating   duration  \\\n",
       "0    August 14, 2020          2020  TV-MA  4 Seasons   \n",
       "1  December 23, 2016          2016  TV-MA     93 min   \n",
       "2  December 20, 2018          2011      R     78 min   \n",
       "3  November 16, 2017          2009  PG-13     80 min   \n",
       "4    January 1, 2020          2008  PG-13    123 min   \n",
       "\n",
       "                                           listed_in  \\\n",
       "0  International TV Shows, TV Dramas, TV Sci-Fi &...   \n",
       "1                       Dramas, International Movies   \n",
       "2                Horror Movies, International Movies   \n",
       "3  Action & Adventure, Independent Movies, Sci-Fi...   \n",
       "4                                             Dramas   \n",
       "\n",
       "                                         description  \n",
       "0  In a future where the elite inhabit an island ...  \n",
       "1  After a devastating earthquake hits Mexico Cit...  \n",
       "2  When an army recruit is found dead, his fellow...  \n",
       "3  In a postapocalyptic world, rag-doll robots hi...  \n",
       "4  A brilliant group of students become card-coun...  "
      ]
     },
     "execution_count": 2,
     "metadata": {},
     "output_type": "execute_result"
    }
   ],
   "source": [
    "data = pd.read_csv('../input/netflix-shows/netflix_titles.csv')\n",
    "data.head()"
   ]
  },
  {
   "cell_type": "code",
   "execution_count": null,
   "id": "organizational-shower",
   "metadata": {
    "papermill": {
     "duration": 0.041583,
     "end_time": "2021-06-22T09:27:00.933044",
     "exception": false,
     "start_time": "2021-06-22T09:27:00.891461",
     "status": "completed"
    },
    "tags": []
   },
   "outputs": [],
   "source": []
  },
  {
   "cell_type": "markdown",
   "id": "responsible-writer",
   "metadata": {
    "papermill": {
     "duration": 0.042072,
     "end_time": "2021-06-22T09:27:01.015894",
     "exception": false,
     "start_time": "2021-06-22T09:27:00.973822",
     "status": "completed"
    },
    "tags": []
   },
   "source": [
    "## 1. Data Overview"
   ]
  },
  {
   "cell_type": "code",
   "execution_count": 3,
   "id": "invalid-removal",
   "metadata": {
    "execution": {
     "iopub.execute_input": "2021-06-22T09:27:01.112093Z",
     "iopub.status.busy": "2021-06-22T09:27:01.111446Z",
     "iopub.status.idle": "2021-06-22T09:27:01.128774Z",
     "shell.execute_reply": "2021-06-22T09:27:01.129275Z",
     "shell.execute_reply.started": "2021-06-22T09:18:25.495798Z"
    },
    "papermill": {
     "duration": 0.072825,
     "end_time": "2021-06-22T09:27:01.129465",
     "exception": false,
     "start_time": "2021-06-22T09:27:01.056640",
     "status": "completed"
    },
    "tags": []
   },
   "outputs": [
    {
     "name": "stdout",
     "output_type": "stream",
     "text": [
      "<class 'pandas.core.frame.DataFrame'>\n",
      "RangeIndex: 7787 entries, 0 to 7786\n",
      "Data columns (total 12 columns):\n",
      " #   Column        Non-Null Count  Dtype \n",
      "---  ------        --------------  ----- \n",
      " 0   show_id       7787 non-null   object\n",
      " 1   type          7787 non-null   object\n",
      " 2   title         7787 non-null   object\n",
      " 3   director      5398 non-null   object\n",
      " 4   cast          7069 non-null   object\n",
      " 5   country       7280 non-null   object\n",
      " 6   date_added    7777 non-null   object\n",
      " 7   release_year  7787 non-null   int64 \n",
      " 8   rating        7780 non-null   object\n",
      " 9   duration      7787 non-null   object\n",
      " 10  listed_in     7787 non-null   object\n",
      " 11  description   7787 non-null   object\n",
      "dtypes: int64(1), object(11)\n",
      "memory usage: 730.2+ KB\n"
     ]
    }
   ],
   "source": [
    "data.info()"
   ]
  },
  {
   "cell_type": "code",
   "execution_count": 4,
   "id": "adolescent-crisis",
   "metadata": {
    "execution": {
     "iopub.execute_input": "2021-06-22T09:27:01.216826Z",
     "iopub.status.busy": "2021-06-22T09:27:01.215888Z",
     "iopub.status.idle": "2021-06-22T09:27:01.233175Z",
     "shell.execute_reply": "2021-06-22T09:27:01.232513Z",
     "shell.execute_reply.started": "2021-06-22T09:18:25.523912Z"
    },
    "papermill": {
     "duration": 0.061133,
     "end_time": "2021-06-22T09:27:01.233324",
     "exception": false,
     "start_time": "2021-06-22T09:27:01.172191",
     "status": "completed"
    },
    "tags": []
   },
   "outputs": [
    {
     "data": {
      "text/plain": [
       "show_id            0\n",
       "type               0\n",
       "title              0\n",
       "director        2389\n",
       "cast             718\n",
       "country          507\n",
       "date_added        10\n",
       "release_year       0\n",
       "rating             7\n",
       "duration           0\n",
       "listed_in          0\n",
       "description        0\n",
       "dtype: int64"
      ]
     },
     "execution_count": 4,
     "metadata": {},
     "output_type": "execute_result"
    }
   ],
   "source": [
    "data.isna().sum()"
   ]
  },
  {
   "cell_type": "code",
   "execution_count": 5,
   "id": "revolutionary-demographic",
   "metadata": {
    "execution": {
     "iopub.execute_input": "2021-06-22T09:27:01.331118Z",
     "iopub.status.busy": "2021-06-22T09:27:01.330429Z",
     "iopub.status.idle": "2021-06-22T09:27:02.070758Z",
     "shell.execute_reply": "2021-06-22T09:27:02.071268Z",
     "shell.execute_reply.started": "2021-06-22T09:18:25.553046Z"
    },
    "papermill": {
     "duration": 0.796506,
     "end_time": "2021-06-22T09:27:02.071474",
     "exception": false,
     "start_time": "2021-06-22T09:27:01.274968",
     "status": "completed"
    },
    "tags": []
   },
   "outputs": [
    {
     "data": {
      "text/plain": [
       "Text(0.5, 1.0, 'MISSING VALUES')"
      ]
     },
     "execution_count": 5,
     "metadata": {},
     "output_type": "execute_result"
    },
    {
     "data": {
      "image/png": "[encoded data removed]",
      "text/plain": [
       "<Figure size 720x360 with 3 Axes>"
      ]
     },
     "metadata": {},
     "output_type": "display_data"
    }
   ],
   "source": [
    "color= ['dimgrey','dimgrey','dimgrey','red','maroon','maroon','dimgrey','dimgrey','dimgrey','dimgrey','dimgrey','dimgrey']\n",
    "missingno.bar(data,fontsize=10,color=color,figsize=(10,5))\n",
    "plt.title('MISSING VALUES',fontsize=20)"
   ]
  },
  {
   "cell_type": "markdown",
   "id": "frank-smile",
   "metadata": {
    "papermill": {
     "duration": 0.044277,
     "end_time": "2021-06-22T09:27:02.160159",
     "exception": false,
     "start_time": "2021-06-22T09:27:02.115882",
     "status": "completed"
    },
    "tags": []
   },
   "source": [
    "As we can see, there are a lot of missing values in the director, cast and country columns. I will drop the director column as filling up the values will not be practically possible. Same for the cast column. For the country column, I am going to take the mode of available countries and assign it to the missing values. I will be doing the same for the date added and ratings column."
   ]
  },
  {
   "cell_type": "markdown",
   "id": "forty-vietnamese",
   "metadata": {
    "papermill": {
     "duration": 0.043067,
     "end_time": "2021-06-22T09:27:02.247084",
     "exception": false,
     "start_time": "2021-06-22T09:27:02.204017",
     "status": "completed"
    },
    "tags": []
   },
   "source": [
    "## MISSING VALUES"
   ]
  },
  {
   "cell_type": "code",
   "execution_count": 6,
   "id": "exotic-beginning",
   "metadata": {
    "execution": {
     "iopub.execute_input": "2021-06-22T09:27:02.348817Z",
     "iopub.status.busy": "2021-06-22T09:27:02.348129Z",
     "iopub.status.idle": "2021-06-22T09:27:02.351443Z",
     "shell.execute_reply": "2021-06-22T09:27:02.350788Z",
     "shell.execute_reply.started": "2021-06-22T09:18:26.398392Z"
    },
    "papermill": {
     "duration": 0.061036,
     "end_time": "2021-06-22T09:27:02.351588",
     "exception": false,
     "start_time": "2021-06-22T09:27:02.290552",
     "status": "completed"
    },
    "tags": []
   },
   "outputs": [],
   "source": [
    "data['country'] = data['country'].fillna(data['country'].mode()[0])\n",
    "data['date_added'] = data['date_added'].fillna(data['date_added'].mode()[0])\n",
    "data['rating'] = data['rating'].fillna(data['country'].mode()[0])"
   ]
  },
  {
   "cell_type": "code",
   "execution_count": 7,
   "id": "statutory-weekend",
   "metadata": {
    "execution": {
     "iopub.execute_input": "2021-06-22T09:27:02.444785Z",
     "iopub.status.busy": "2021-06-22T09:27:02.443653Z",
     "iopub.status.idle": "2021-06-22T09:27:02.447378Z",
     "shell.execute_reply": "2021-06-22T09:27:02.447896Z",
     "shell.execute_reply.started": "2021-06-22T09:18:26.416622Z"
    },
    "papermill": {
     "duration": 0.053361,
     "end_time": "2021-06-22T09:27:02.448081",
     "exception": false,
     "start_time": "2021-06-22T09:27:02.394720",
     "status": "completed"
    },
    "tags": []
   },
   "outputs": [],
   "source": [
    "data.drop(['cast','director'],axis='columns',inplace=True)"
   ]
  },
  {
   "cell_type": "code",
   "execution_count": 8,
   "id": "developing-homeless",
   "metadata": {
    "execution": {
     "iopub.execute_input": "2021-06-22T09:27:02.545680Z",
     "iopub.status.busy": "2021-06-22T09:27:02.544891Z",
     "iopub.status.idle": "2021-06-22T09:27:02.551278Z",
     "shell.execute_reply": "2021-06-22T09:27:02.550797Z",
     "shell.execute_reply.started": "2021-06-22T09:18:26.429040Z"
    },
    "papermill": {
     "duration": 0.060312,
     "end_time": "2021-06-22T09:27:02.551437",
     "exception": false,
     "start_time": "2021-06-22T09:27:02.491125",
     "status": "completed"
    },
    "tags": []
   },
   "outputs": [
    {
     "data": {
      "text/plain": [
       "show_id         0\n",
       "type            0\n",
       "title           0\n",
       "country         0\n",
       "date_added      0\n",
       "release_year    0\n",
       "rating          0\n",
       "duration        0\n",
       "listed_in       0\n",
       "description     0\n",
       "dtype: int64"
      ]
     },
     "execution_count": 8,
     "metadata": {},
     "output_type": "execute_result"
    }
   ],
   "source": [
    "data.isna().sum()"
   ]
  },
  {
   "cell_type": "markdown",
   "id": "martial-passage",
   "metadata": {
    "papermill": {
     "duration": 0.042777,
     "end_time": "2021-06-22T09:27:02.637413",
     "exception": false,
     "start_time": "2021-06-22T09:27:02.594636",
     "status": "completed"
    },
    "tags": []
   },
   "source": [
    "Conclusion: All the missing values in the dataset have either been removed or filled. There are no missing values left."
   ]
  },
  {
   "cell_type": "code",
   "execution_count": 9,
   "id": "existing-register",
   "metadata": {
    "execution": {
     "iopub.execute_input": "2021-06-22T09:27:02.729638Z",
     "iopub.status.busy": "2021-06-22T09:27:02.728950Z",
     "iopub.status.idle": "2021-06-22T09:27:02.751018Z",
     "shell.execute_reply": "2021-06-22T09:27:02.751495Z",
     "shell.execute_reply.started": "2021-06-22T09:18:26.451685Z"
    },
    "papermill": {
     "duration": 0.070949,
     "end_time": "2021-06-22T09:27:02.751676",
     "exception": false,
     "start_time": "2021-06-22T09:27:02.680727",
     "status": "completed"
    },
    "tags": []
   },
   "outputs": [
    {
     "data": {
      "text/plain": [
       "0"
      ]
     },
     "execution_count": 9,
     "metadata": {},
     "output_type": "execute_result"
    }
   ],
   "source": [
    "data.duplicated().sum()"
   ]
  },
  {
   "cell_type": "markdown",
   "id": "large-reaction",
   "metadata": {
    "papermill": {
     "duration": 0.04378,
     "end_time": "2021-06-22T09:27:02.838957",
     "exception": false,
     "start_time": "2021-06-22T09:27:02.795177",
     "status": "completed"
    },
    "tags": []
   },
   "source": [
    "Conclusion: The dataset has 0 duplicated values."
   ]
  },
  {
   "cell_type": "markdown",
   "id": "ordered-alberta",
   "metadata": {
    "papermill": {
     "duration": 0.043294,
     "end_time": "2021-06-22T09:27:02.925967",
     "exception": false,
     "start_time": "2021-06-22T09:27:02.882673",
     "status": "completed"
    },
    "tags": []
   },
   "source": [
    "## DATA CLEANING AND MANIPULATION"
   ]
  },
  {
   "cell_type": "markdown",
   "id": "combined-lambda",
   "metadata": {
    "papermill": {
     "duration": 0.046031,
     "end_time": "2021-06-22T09:27:03.015898",
     "exception": false,
     "start_time": "2021-06-22T09:27:02.969867",
     "status": "completed"
    },
    "tags": []
   },
   "source": [
    "Adding some new columns:\n",
    "* Year Added - y_add\n",
    "* Month Added - m_add\n",
    "* Princial Country - country_main \n",
    "* Target Age Groups - target_age"
   ]
  },
  {
   "cell_type": "code",
   "execution_count": 10,
   "id": "awful-spouse",
   "metadata": {
    "execution": {
     "iopub.execute_input": "2021-06-22T09:27:03.108314Z",
     "iopub.status.busy": "2021-06-22T09:27:03.107311Z",
     "iopub.status.idle": "2021-06-22T09:27:03.119893Z",
     "shell.execute_reply": "2021-06-22T09:27:03.120387Z",
     "shell.execute_reply.started": "2021-06-22T09:18:26.479687Z"
    },
    "papermill": {
     "duration": 0.060955,
     "end_time": "2021-06-22T09:27:03.120568",
     "exception": false,
     "start_time": "2021-06-22T09:27:03.059613",
     "status": "completed"
    },
    "tags": []
   },
   "outputs": [
    {
     "data": {
      "text/plain": [
       "0    2020\n",
       "1    2016\n",
       "2    2018\n",
       "3    2017\n",
       "4    2020\n",
       "Name: y_add, dtype: object"
      ]
     },
     "execution_count": 10,
     "metadata": {},
     "output_type": "execute_result"
    }
   ],
   "source": [
    "data['y_add'] = data['date_added'].apply(lambda x: x.split(\" \")[-1])\n",
    "data['y_add'].head()"
   ]
  },
  {
   "cell_type": "code",
   "execution_count": 11,
   "id": "genuine-possible",
   "metadata": {
    "execution": {
     "iopub.execute_input": "2021-06-22T09:27:03.212609Z",
     "iopub.status.busy": "2021-06-22T09:27:03.211607Z",
     "iopub.status.idle": "2021-06-22T09:27:03.224666Z",
     "shell.execute_reply": "2021-06-22T09:27:03.225099Z",
     "shell.execute_reply.started": "2021-06-22T09:18:26.495244Z"
    },
    "papermill": {
     "duration": 0.060476,
     "end_time": "2021-06-22T09:27:03.225275",
     "exception": false,
     "start_time": "2021-06-22T09:27:03.164799",
     "status": "completed"
    },
    "tags": []
   },
   "outputs": [
    {
     "data": {
      "text/plain": [
       "0      August\n",
       "1    December\n",
       "2    December\n",
       "3    November\n",
       "4     January\n",
       "Name: m_add, dtype: object"
      ]
     },
     "execution_count": 11,
     "metadata": {},
     "output_type": "execute_result"
    }
   ],
   "source": [
    "data['m_add'] = data['date_added'].apply(lambda x: x.split(\" \")[0])\n",
    "data['m_add'].head()"
   ]
  },
  {
   "cell_type": "code",
   "execution_count": 12,
   "id": "understanding-renaissance",
   "metadata": {
    "execution": {
     "iopub.execute_input": "2021-06-22T09:27:03.317546Z",
     "iopub.status.busy": "2021-06-22T09:27:03.316586Z",
     "iopub.status.idle": "2021-06-22T09:27:03.330560Z",
     "shell.execute_reply": "2021-06-22T09:27:03.331052Z",
     "shell.execute_reply.started": "2021-06-22T09:18:26.515806Z"
    },
    "papermill": {
     "duration": 0.061775,
     "end_time": "2021-06-22T09:27:03.331244",
     "exception": false,
     "start_time": "2021-06-22T09:27:03.269469",
     "status": "completed"
    },
    "tags": []
   },
   "outputs": [],
   "source": [
    "ratings_ages = {\n",
    "    'TV-PG': 'Older Kids',\n",
    "    'TV-MA': 'Adults',\n",
    "    'TV-Y7-FV': 'Older Kids',\n",
    "    'TV-Y7': 'Older Kids',\n",
    "    'TV-14': 'Teens',\n",
    "    'R': 'Adults',\n",
    "    'TV-Y': 'Kids',\n",
    "    'NR': 'Adults',\n",
    "    'PG-13': 'Teens',\n",
    "    'TV-G': 'Kids',\n",
    "    'PG': 'Older Kids',\n",
    "    'G': 'Kids',\n",
    "    'UR': 'Adults',\n",
    "    'NC-17': 'Adults'\n",
    "}\n",
    "data['target_age'] = data['rating'].replace(ratings_ages)"
   ]
  },
  {
   "cell_type": "code",
   "execution_count": 13,
   "id": "stopped-faith",
   "metadata": {
    "execution": {
     "iopub.execute_input": "2021-06-22T09:27:03.425291Z",
     "iopub.status.busy": "2021-06-22T09:27:03.424290Z",
     "iopub.status.idle": "2021-06-22T09:27:03.437428Z",
     "shell.execute_reply": "2021-06-22T09:27:03.436901Z",
     "shell.execute_reply.started": "2021-06-22T09:18:26.538976Z"
    },
    "papermill": {
     "duration": 0.061707,
     "end_time": "2021-06-22T09:27:03.437589",
     "exception": false,
     "start_time": "2021-06-22T09:27:03.375882",
     "status": "completed"
    },
    "tags": []
   },
   "outputs": [
    {
     "data": {
      "text/plain": [
       "0           Brazil\n",
       "1           Mexico\n",
       "2        Singapore\n",
       "3    United States\n",
       "4    United States\n",
       "Name: country_main, dtype: object"
      ]
     },
     "execution_count": 13,
     "metadata": {},
     "output_type": "execute_result"
    }
   ],
   "source": [
    "data['country_main'] = data['country'].apply(lambda x: x.split(\",\")[0])\n",
    "data['country_main'].head()"
   ]
  },
  {
   "cell_type": "markdown",
   "id": "occupational-valley",
   "metadata": {
    "papermill": {
     "duration": 0.044206,
     "end_time": "2021-06-22T09:27:03.528288",
     "exception": false,
     "start_time": "2021-06-22T09:27:03.484082",
     "status": "completed"
    },
    "tags": []
   },
   "source": [
    "Making two new dataframes, one with movies collection and other with TV shows collection:\n",
    "* movie_df\n",
    "* tv_df"
   ]
  },
  {
   "cell_type": "code",
   "execution_count": 14,
   "id": "consistent-stress",
   "metadata": {
    "execution": {
     "iopub.execute_input": "2021-06-22T09:27:03.625258Z",
     "iopub.status.busy": "2021-06-22T09:27:03.624116Z",
     "iopub.status.idle": "2021-06-22T09:27:03.633454Z",
     "shell.execute_reply": "2021-06-22T09:27:03.632907Z",
     "shell.execute_reply.started": "2021-06-22T09:18:26.558225Z"
    },
    "papermill": {
     "duration": 0.060657,
     "end_time": "2021-06-22T09:27:03.633611",
     "exception": false,
     "start_time": "2021-06-22T09:27:03.572954",
     "status": "completed"
    },
    "tags": []
   },
   "outputs": [],
   "source": [
    "movie_df = data[data['type'] == 'Movie']\n",
    "tv_df = data[data['type'] == 'TV Show']"
   ]
  },
  {
   "cell_type": "code",
   "execution_count": 15,
   "id": "mental-romania",
   "metadata": {
    "execution": {
     "iopub.execute_input": "2021-06-22T09:27:03.744686Z",
     "iopub.status.busy": "2021-06-22T09:27:03.743979Z",
     "iopub.status.idle": "2021-06-22T09:27:03.748208Z",
     "shell.execute_reply": "2021-06-22T09:27:03.747610Z",
     "shell.execute_reply.started": "2021-06-22T09:18:26.581010Z"
    },
    "papermill": {
     "duration": 0.06977,
     "end_time": "2021-06-22T09:27:03.748362",
     "exception": false,
     "start_time": "2021-06-22T09:27:03.678592",
     "status": "completed"
    },
    "tags": []
   },
   "outputs": [
    {
     "data": {
      "text/html": [
       "<div>\n",
       "<style scoped>\n",
       "    .dataframe tbody tr th:only-of-type {\n",
       "        vertical-align: middle;\n",
       "    }\n",
       "\n",
       "    .dataframe tbody tr th {\n",
       "        vertical-align: top;\n",
       "    }\n",
       "\n",
       "    .dataframe thead th {\n",
       "        text-align: right;\n",
       "    }\n",
       "</style>\n",
       "<table border=\"1\" class=\"dataframe\">\n",
       "  <thead>\n",
       "    <tr style=\"text-align: right;\">\n",
       "      <th></th>\n",
       "      <th>show_id</th>\n",
       "      <th>type</th>\n",
       "      <th>title</th>\n",
       "      <th>country</th>\n",
       "      <th>date_added</th>\n",
       "      <th>release_year</th>\n",
       "      <th>rating</th>\n",
       "      <th>duration</th>\n",
       "      <th>listed_in</th>\n",
       "      <th>description</th>\n",
       "      <th>y_add</th>\n",
       "      <th>m_add</th>\n",
       "      <th>target_age</th>\n",
       "      <th>country_main</th>\n",
       "    </tr>\n",
       "  </thead>\n",
       "  <tbody>\n",
       "    <tr>\n",
       "      <th>1</th>\n",
       "      <td>s2</td>\n",
       "      <td>Movie</td>\n",
       "      <td>7:19</td>\n",
       "      <td>Mexico</td>\n",
       "      <td>December 23, 2016</td>\n",
       "      <td>2016</td>\n",
       "      <td>TV-MA</td>\n",
       "      <td>93 min</td>\n",
       "      <td>Dramas, International Movies</td>\n",
       "      <td>After a devastating earthquake hits Mexico Cit...</td>\n",
       "      <td>2016</td>\n",
       "      <td>December</td>\n",
       "      <td>Adults</td>\n",
       "      <td>Mexico</td>\n",
       "    </tr>\n",
       "    <tr>\n",
       "      <th>2</th>\n",
       "      <td>s3</td>\n",
       "      <td>Movie</td>\n",
       "      <td>23:59</td>\n",
       "      <td>Singapore</td>\n",
       "      <td>December 20, 2018</td>\n",
       "      <td>2011</td>\n",
       "      <td>R</td>\n",
       "      <td>78 min</td>\n",
       "      <td>Horror Movies, International Movies</td>\n",
       "      <td>When an army recruit is found dead, his fellow...</td>\n",
       "      <td>2018</td>\n",
       "      <td>December</td>\n",
       "      <td>Adults</td>\n",
       "      <td>Singapore</td>\n",
       "    </tr>\n",
       "    <tr>\n",
       "      <th>3</th>\n",
       "      <td>s4</td>\n",
       "      <td>Movie</td>\n",
       "      <td>9</td>\n",
       "      <td>United States</td>\n",
       "      <td>November 16, 2017</td>\n",
       "      <td>2009</td>\n",
       "      <td>PG-13</td>\n",
       "      <td>80 min</td>\n",
       "      <td>Action &amp; Adventure, Independent Movies, Sci-Fi...</td>\n",
       "      <td>In a postapocalyptic world, rag-doll robots hi...</td>\n",
       "      <td>2017</td>\n",
       "      <td>November</td>\n",
       "      <td>Teens</td>\n",
       "      <td>United States</td>\n",
       "    </tr>\n",
       "    <tr>\n",
       "      <th>4</th>\n",
       "      <td>s5</td>\n",
       "      <td>Movie</td>\n",
       "      <td>21</td>\n",
       "      <td>United States</td>\n",
       "      <td>January 1, 2020</td>\n",
       "      <td>2008</td>\n",
       "      <td>PG-13</td>\n",
       "      <td>123 min</td>\n",
       "      <td>Dramas</td>\n",
       "      <td>A brilliant group of students become card-coun...</td>\n",
       "      <td>2020</td>\n",
       "      <td>January</td>\n",
       "      <td>Teens</td>\n",
       "      <td>United States</td>\n",
       "    </tr>\n",
       "    <tr>\n",
       "      <th>6</th>\n",
       "      <td>s7</td>\n",
       "      <td>Movie</td>\n",
       "      <td>122</td>\n",
       "      <td>Egypt</td>\n",
       "      <td>June 1, 2020</td>\n",
       "      <td>2019</td>\n",
       "      <td>TV-MA</td>\n",
       "      <td>95 min</td>\n",
       "      <td>Horror Movies, International Movies</td>\n",
       "      <td>After an awful accident, a couple admitted to ...</td>\n",
       "      <td>2020</td>\n",
       "      <td>June</td>\n",
       "      <td>Adults</td>\n",
       "      <td>Egypt</td>\n",
       "    </tr>\n",
       "  </tbody>\n",
       "</table>\n",
       "</div>"
      ],
      "text/plain": [
       "  show_id   type  title        country         date_added  release_year  \\\n",
       "1      s2  Movie   7:19         Mexico  December 23, 2016          2016   \n",
       "2      s3  Movie  23:59      Singapore  December 20, 2018          2011   \n",
       "3      s4  Movie      9  United States  November 16, 2017          2009   \n",
       "4      s5  Movie     21  United States    January 1, 2020          2008   \n",
       "6      s7  Movie    122          Egypt       June 1, 2020          2019   \n",
       "\n",
       "  rating duration                                          listed_in  \\\n",
       "1  TV-MA   93 min                       Dramas, International Movies   \n",
       "2      R   78 min                Horror Movies, International Movies   \n",
       "3  PG-13   80 min  Action & Adventure, Independent Movies, Sci-Fi...   \n",
       "4  PG-13  123 min                                             Dramas   \n",
       "6  TV-MA   95 min                Horror Movies, International Movies   \n",
       "\n",
       "                                         description y_add     m_add  \\\n",
       "1  After a devastating earthquake hits Mexico Cit...  2016  December   \n",
       "2  When an army recruit is found dead, his fellow...  2018  December   \n",
       "3  In a postapocalyptic world, rag-doll robots hi...  2017  November   \n",
       "4  A brilliant group of students become card-coun...  2020   January   \n",
       "6  After an awful accident, a couple admitted to ...  2020      June   \n",
       "\n",
       "  target_age   country_main  \n",
       "1     Adults         Mexico  \n",
       "2     Adults      Singapore  \n",
       "3      Teens  United States  \n",
       "4      Teens  United States  \n",
       "6     Adults          Egypt  "
      ]
     },
     "execution_count": 15,
     "metadata": {},
     "output_type": "execute_result"
    }
   ],
   "source": [
    "movie_df.head()"
   ]
  },
  {
   "cell_type": "markdown",
   "id": "naked-teach",
   "metadata": {
    "papermill": {
     "duration": 0.045331,
     "end_time": "2021-06-22T09:27:03.839030",
     "exception": false,
     "start_time": "2021-06-22T09:27:03.793699",
     "status": "completed"
    },
    "tags": []
   },
   "source": [
    "## Data Visualization"
   ]
  },
  {
   "cell_type": "code",
   "execution_count": 16,
   "id": "amber-assist",
   "metadata": {
    "execution": {
     "iopub.execute_input": "2021-06-22T09:27:03.934466Z",
     "iopub.status.busy": "2021-06-22T09:27:03.933710Z",
     "iopub.status.idle": "2021-06-22T09:27:05.182868Z",
     "shell.execute_reply": "2021-06-22T09:27:05.182258Z",
     "shell.execute_reply.started": "2021-06-22T09:18:26.603750Z"
    },
    "papermill": {
     "duration": 1.297567,
     "end_time": "2021-06-22T09:27:05.183027",
     "exception": false,
     "start_time": "2021-06-22T09:27:03.885460",
     "status": "completed"
    },
    "tags": []
   },
   "outputs": [
    {
     "data": {
      "text/html": [
       "        <script type=\"text/javascript\">\n",
       "        window.PlotlyConfig = {MathJaxConfig: 'local'};\n",
       "        if (window.MathJax) {MathJax.Hub.Config({SVG: {font: \"STIX-Web\"}});}\n",
       "        if (typeof require !== 'undefined') {\n",
       "        require.undef(\"plotly\");\n",
       "        requirejs.config({\n",
       "            paths: {\n",
       "                'plotly': ['https://cdn.plot.ly/plotly-latest.min']\n",
       "            }\n",
       "        });\n",
       "        require(['plotly'], function(Plotly) {\n",
       "            window._Plotly = Plotly;\n",
       "        });\n",
       "        }\n",
       "        </script>\n",
       "        "
      ]
     },
     "metadata": {},
     "output_type": "display_data"
    },
    {
     "data": {
      "text/html": [
       "<div>                            <div id=\"6c8eaad2-5417-4db5-897e-f2ed4693733b\" class=\"plotly-graph-div\" style=\"height:525px; width:100%;\"></div>            <script type=\"text/javascript\">                require([\"plotly\"], function(Plotly) {                    window.PLOTLYENV=window.PLOTLYENV || {};                                    if (document.getElementById(\"6c8eaad2-5417-4db5-897e-f2ed4693733b\")) {                    Plotly.newPlot(                        \"6c8eaad2-5417-4db5-897e-f2ed4693733b\",                        [{\"domain\": {\"x\": [0.0, 1.0], \"y\": [0.0, 1.0]}, \"hovertemplate\": \"index=%{label}<br>type=%{value}<extra></extra>\", \"labels\": [\"Movie\", \"TV Show\"], \"legendgroup\": \"\", \"marker\": {\"line\": {\"color\": \"white\", \"width\": 1}}, \"name\": \"\", \"showlegend\": true, \"textinfo\": \"percent+label\", \"textposition\": \"inside\", \"type\": \"pie\", \"values\": [5377, 2410]}],                        {\"legend\": {\"tracegroupgap\": 0}, \"margin\": {\"t\": 60}, \"piecolorway\": [\"rgb(103,0,31)\", \"rgb(178,24,43)\", \"rgb(214,96,77)\", \"rgb(244,165,130)\", \"rgb(253,219,199)\", \"rgb(247,247,247)\", \"rgb(209,229,240)\", \"rgb(146,197,222)\", \"rgb(67,147,195)\", \"rgb(33,102,172)\", \"rgb(5,48,97)\"], \"template\": {\"data\": {\"bar\": [{\"error_x\": {\"color\": \"#2a3f5f\"}, \"error_y\": {\"color\": \"#2a3f5f\"}, \"marker\": {\"line\": {\"color\": \"#E5ECF6\", \"width\": 0.5}}, \"type\": \"bar\"}], \"barpolar\": [{\"marker\": {\"line\": {\"color\": \"#E5ECF6\", \"width\": 0.5}}, \"type\": \"barpolar\"}], \"carpet\": [{\"aaxis\": {\"endlinecolor\": \"#2a3f5f\", \"gridcolor\": \"white\", \"linecolor\": \"white\", \"minorgridcolor\": \"white\", \"startlinecolor\": \"#2a3f5f\"}, \"baxis\": {\"endlinecolor\": \"#2a3f5f\", \"gridcolor\": \"white\", \"linecolor\": \"white\", \"minorgridcolor\": \"white\", \"startlinecolor\": \"#2a3f5f\"}, \"type\": \"carpet\"}], \"choropleth\": [{\"colorbar\": {\"outlinewidth\": 0, \"ticks\": \"\"}, \"type\": \"choropleth\"}], \"contour\": [{\"colorbar\": {\"outlinewidth\": 0, \"ticks\": \"\"}, \"colorscale\": [[0.0, \"#0d0887\"], [0.1111111111111111, \"#46039f\"], [0.2222222222222222, \"#7201a8\"], [0.3333333333333333, \"#9c179e\"], [0.4444444444444444, \"#bd3786\"], [0.5555555555555556, \"#d8576b\"], [0.6666666666666666, \"#ed7953\"], [0.7777777777777778, \"#fb9f3a\"], [0.8888888888888888, \"#fdca26\"], [1.0, \"#f0f921\"]], \"type\": \"contour\"}], \"contourcarpet\": [{\"colorbar\": {\"outlinewidth\": 0, \"ticks\": \"\"}, \"type\": \"contourcarpet\"}], \"heatmap\": [{\"colorbar\": {\"outlinewidth\": 0, \"ticks\": \"\"}, \"colorscale\": [[0.0, \"#0d0887\"], [0.1111111111111111, \"#46039f\"], [0.2222222222222222, \"#7201a8\"], [0.3333333333333333, \"#9c179e\"], [0.4444444444444444, \"#bd3786\"], [0.5555555555555556, \"#d8576b\"], [0.6666666666666666, \"#ed7953\"], [0.7777777777777778, \"#fb9f3a\"], [0.8888888888888888, \"#fdca26\"], [1.0, \"#f0f921\"]], \"type\": \"heatmap\"}], \"heatmapgl\": [{\"colorbar\": {\"outlinewidth\": 0, \"ticks\": \"\"}, \"colorscale\": [[0.0, \"#0d0887\"], [0.1111111111111111, \"#46039f\"], [0.2222222222222222, \"#7201a8\"], [0.3333333333333333, \"#9c179e\"], [0.4444444444444444, \"#bd3786\"], [0.5555555555555556, \"#d8576b\"], [0.6666666666666666, \"#ed7953\"], [0.7777777777777778, \"#fb9f3a\"], [0.8888888888888888, \"#fdca26\"], [1.0, \"#f0f921\"]], \"type\": \"heatmapgl\"}], \"histogram\": [{\"marker\": {\"colorbar\": {\"outlinewidth\": 0, \"ticks\": \"\"}}, \"type\": \"histogram\"}], \"histogram2d\": [{\"colorbar\": {\"outlinewidth\": 0, \"ticks\": \"\"}, \"colorscale\": [[0.0, \"#0d0887\"], [0.1111111111111111, \"#46039f\"], [0.2222222222222222, \"#7201a8\"], [0.3333333333333333, \"#9c179e\"], [0.4444444444444444, \"#bd3786\"], [0.5555555555555556, \"#d8576b\"], [0.6666666666666666, \"#ed7953\"], [0.7777777777777778, \"#fb9f3a\"], [0.8888888888888888, \"#fdca26\"], [1.0, \"#f0f921\"]], \"type\": \"histogram2d\"}], \"histogram2dcontour\": [{\"colorbar\": {\"outlinewidth\": 0, \"ticks\": \"\"}, \"colorscale\": [[0.0, \"#0d0887\"], [0.1111111111111111, \"#46039f\"], [0.2222222222222222, \"#7201a8\"], [0.3333333333333333, \"#9c179e\"], [0.4444444444444444, \"#bd3786\"], [0.5555555555555556, \"#d8576b\"], [0.6666666666666666, \"#ed7953\"], [0.7777777777777778, \"#fb9f3a\"], [0.8888888888888888, \"#fdca26\"], [1.0, \"#f0f921\"]], \"type\": \"histogram2dcontour\"}], \"mesh3d\": [{\"colorbar\": {\"outlinewidth\": 0, \"ticks\": \"\"}, \"type\": \"mesh3d\"}], \"parcoords\": [{\"line\": {\"colorbar\": {\"outlinewidth\": 0, \"ticks\": \"\"}}, \"type\": \"parcoords\"}], \"pie\": [{\"automargin\": true, \"type\": \"pie\"}], \"scatter\": [{\"marker\": {\"colorbar\": {\"outlinewidth\": 0, \"ticks\": \"\"}}, \"type\": \"scatter\"}], \"scatter3d\": [{\"line\": {\"colorbar\": {\"outlinewidth\": 0, \"ticks\": \"\"}}, \"marker\": {\"colorbar\": {\"outlinewidth\": 0, \"ticks\": \"\"}}, \"type\": \"scatter3d\"}], \"scattercarpet\": [{\"marker\": {\"colorbar\": {\"outlinewidth\": 0, \"ticks\": \"\"}}, \"type\": \"scattercarpet\"}], \"scattergeo\": [{\"marker\": {\"colorbar\": {\"outlinewidth\": 0, \"ticks\": \"\"}}, \"type\": \"scattergeo\"}], \"scattergl\": [{\"marker\": {\"colorbar\": {\"outlinewidth\": 0, \"ticks\": \"\"}}, \"type\": \"scattergl\"}], \"scattermapbox\": [{\"marker\": {\"colorbar\": {\"outlinewidth\": 0, \"ticks\": \"\"}}, \"type\": \"scattermapbox\"}], \"scatterpolar\": [{\"marker\": {\"colorbar\": {\"outlinewidth\": 0, \"ticks\": \"\"}}, \"type\": \"scatterpolar\"}], \"scatterpolargl\": [{\"marker\": {\"colorbar\": {\"outlinewidth\": 0, \"ticks\": \"\"}}, \"type\": \"scatterpolargl\"}], \"scatterternary\": [{\"marker\": {\"colorbar\": {\"outlinewidth\": 0, \"ticks\": \"\"}}, \"type\": \"scatterternary\"}], \"surface\": [{\"colorbar\": {\"outlinewidth\": 0, \"ticks\": \"\"}, \"colorscale\": [[0.0, \"#0d0887\"], [0.1111111111111111, \"#46039f\"], [0.2222222222222222, \"#7201a8\"], [0.3333333333333333, \"#9c179e\"], [0.4444444444444444, \"#bd3786\"], [0.5555555555555556, \"#d8576b\"], [0.6666666666666666, \"#ed7953\"], [0.7777777777777778, \"#fb9f3a\"], [0.8888888888888888, \"#fdca26\"], [1.0, \"#f0f921\"]], \"type\": \"surface\"}], \"table\": [{\"cells\": {\"fill\": {\"color\": \"#EBF0F8\"}, \"line\": {\"color\": \"white\"}}, \"header\": {\"fill\": {\"color\": \"#C8D4E3\"}, \"line\": {\"color\": \"white\"}}, \"type\": \"table\"}]}, \"layout\": {\"annotationdefaults\": {\"arrowcolor\": \"#2a3f5f\", \"arrowhead\": 0, \"arrowwidth\": 1}, \"autotypenumbers\": \"strict\", \"coloraxis\": {\"colorbar\": {\"outlinewidth\": 0, \"ticks\": \"\"}}, \"colorscale\": {\"diverging\": [[0, \"#8e0152\"], [0.1, \"#c51b7d\"], [0.2, \"#de77ae\"], [0.3, \"#f1b6da\"], [0.4, \"#fde0ef\"], [0.5, \"#f7f7f7\"], [0.6, \"#e6f5d0\"], [0.7, \"#b8e186\"], [0.8, \"#7fbc41\"], [0.9, \"#4d9221\"], [1, \"#276419\"]], \"sequential\": [[0.0, \"#0d0887\"], [0.1111111111111111, \"#46039f\"], [0.2222222222222222, \"#7201a8\"], [0.3333333333333333, \"#9c179e\"], [0.4444444444444444, \"#bd3786\"], [0.5555555555555556, \"#d8576b\"], [0.6666666666666666, \"#ed7953\"], [0.7777777777777778, \"#fb9f3a\"], [0.8888888888888888, \"#fdca26\"], [1.0, \"#f0f921\"]], \"sequentialminus\": [[0.0, \"#0d0887\"], [0.1111111111111111, \"#46039f\"], [0.2222222222222222, \"#7201a8\"], [0.3333333333333333, \"#9c179e\"], [0.4444444444444444, \"#bd3786\"], [0.5555555555555556, \"#d8576b\"], [0.6666666666666666, \"#ed7953\"], [0.7777777777777778, \"#fb9f3a\"], [0.8888888888888888, \"#fdca26\"], [1.0, \"#f0f921\"]]}, \"colorway\": [\"#636efa\", \"#EF553B\", \"#00cc96\", \"#ab63fa\", \"#FFA15A\", \"#19d3f3\", \"#FF6692\", \"#B6E880\", \"#FF97FF\", \"#FECB52\"], \"font\": {\"color\": \"#2a3f5f\"}, \"geo\": {\"bgcolor\": \"white\", \"lakecolor\": \"white\", \"landcolor\": \"#E5ECF6\", \"showlakes\": true, \"showland\": true, \"subunitcolor\": \"white\"}, \"hoverlabel\": {\"align\": \"left\"}, \"hovermode\": \"closest\", \"mapbox\": {\"style\": \"light\"}, \"paper_bgcolor\": \"white\", \"plot_bgcolor\": \"#E5ECF6\", \"polar\": {\"angularaxis\": {\"gridcolor\": \"white\", \"linecolor\": \"white\", \"ticks\": \"\"}, \"bgcolor\": \"#E5ECF6\", \"radialaxis\": {\"gridcolor\": \"white\", \"linecolor\": \"white\", \"ticks\": \"\"}}, \"scene\": {\"xaxis\": {\"backgroundcolor\": \"#E5ECF6\", \"gridcolor\": \"white\", \"gridwidth\": 2, \"linecolor\": \"white\", \"showbackground\": true, \"ticks\": \"\", \"zerolinecolor\": \"white\"}, \"yaxis\": {\"backgroundcolor\": \"#E5ECF6\", \"gridcolor\": \"white\", \"gridwidth\": 2, \"linecolor\": \"white\", \"showbackground\": true, \"ticks\": \"\", \"zerolinecolor\": \"white\"}, \"zaxis\": {\"backgroundcolor\": \"#E5ECF6\", \"gridcolor\": \"white\", \"gridwidth\": 2, \"linecolor\": \"white\", \"showbackground\": true, \"ticks\": \"\", \"zerolinecolor\": \"white\"}}, \"shapedefaults\": {\"line\": {\"color\": \"#2a3f5f\"}}, \"ternary\": {\"aaxis\": {\"gridcolor\": \"white\", \"linecolor\": \"white\", \"ticks\": \"\"}, \"baxis\": {\"gridcolor\": \"white\", \"linecolor\": \"white\", \"ticks\": \"\"}, \"bgcolor\": \"#E5ECF6\", \"caxis\": {\"gridcolor\": \"white\", \"linecolor\": \"white\", \"ticks\": \"\"}}, \"title\": {\"x\": 0.05}, \"xaxis\": {\"automargin\": true, \"gridcolor\": \"white\", \"linecolor\": \"white\", \"ticks\": \"\", \"title\": {\"standoff\": 15}, \"zerolinecolor\": \"white\", \"zerolinewidth\": 2}, \"yaxis\": {\"automargin\": true, \"gridcolor\": \"white\", \"linecolor\": \"white\", \"ticks\": \"\", \"title\": {\"standoff\": 15}, \"zerolinecolor\": \"white\", \"zerolinewidth\": 2}}}},                        {\"responsive\": true}                    ).then(function(){\n",
       "                            \n",
       "var gd = document.getElementById('6c8eaad2-5417-4db5-897e-f2ed4693733b');\n",
       "var x = new MutationObserver(function (mutations, observer) {{\n",
       "        var display = window.getComputedStyle(gd).display;\n",
       "        if (!display || display === 'none') {{\n",
       "            console.log([gd, 'removed!']);\n",
       "            Plotly.purge(gd);\n",
       "            observer.disconnect();\n",
       "        }}\n",
       "}});\n",
       "\n",
       "// Listen for the removal of the full notebook cells\n",
       "var notebookContainer = gd.closest('#notebook-container');\n",
       "if (notebookContainer) {{\n",
       "    x.observe(notebookContainer, {childList: true});\n",
       "}}\n",
       "\n",
       "// Listen for the clearing of the current output cell\n",
       "var outputEl = gd.closest('.output');\n",
       "if (outputEl) {{\n",
       "    x.observe(outputEl, {childList: true});\n",
       "}}\n",
       "\n",
       "                        })                };                });            </script>        </div>"
      ]
     },
     "metadata": {},
     "output_type": "display_data"
    }
   ],
   "source": [
    "x = data['type'].value_counts().reset_index()\n",
    "fig = px.pie(x,values='type',names='index',color_discrete_sequence=px.colors.sequential.RdBu)\n",
    "fig.update_traces(textposition='inside', textinfo='percent+label',\n",
    "                  marker = dict(line = dict(color = 'white', width = 1)))"
   ]
  },
  {
   "cell_type": "markdown",
   "id": "automated-wrong",
   "metadata": {
    "papermill": {
     "duration": 0.107193,
     "end_time": "2021-06-22T09:27:05.391031",
     "exception": false,
     "start_time": "2021-06-22T09:27:05.283838",
     "status": "completed"
    },
    "tags": []
   },
   "source": [
    "Conclusion: As we can see, the content on Netflix dataset has 30.9% TV shows and 69.1% Movies. \n",
    "\n",
    "Now let's look into categorization based upon other factors."
   ]
  },
  {
   "cell_type": "code",
   "execution_count": 17,
   "id": "ranging-murray",
   "metadata": {
    "execution": {
     "iopub.execute_input": "2021-06-22T09:27:05.636772Z",
     "iopub.status.busy": "2021-06-22T09:27:05.634941Z",
     "iopub.status.idle": "2021-06-22T09:27:05.705701Z",
     "shell.execute_reply": "2021-06-22T09:27:05.704836Z",
     "shell.execute_reply.started": "2021-06-22T09:18:26.672240Z"
    },
    "papermill": {
     "duration": 0.204734,
     "end_time": "2021-06-22T09:27:05.705898",
     "exception": false,
     "start_time": "2021-06-22T09:27:05.501164",
     "status": "completed"
    },
    "tags": []
   },
   "outputs": [
    {
     "data": {
      "text/html": [
       "<div>                            <div id=\"e37e10e1-872f-4a62-b976-a37a00e6e9d2\" class=\"plotly-graph-div\" style=\"height:525px; width:100%;\"></div>            <script type=\"text/javascript\">                require([\"plotly\"], function(Plotly) {                    window.PLOTLYENV=window.PLOTLYENV || {};                                    if (document.getElementById(\"e37e10e1-872f-4a62-b976-a37a00e6e9d2\")) {                    Plotly.newPlot(                        \"e37e10e1-872f-4a62-b976-a37a00e6e9d2\",                        [{\"domain\": {\"x\": [0.0, 1.0], \"y\": [0.0, 1.0]}, \"hovertemplate\": \"index=%{label}<br>country_main=%{value}<extra></extra>\", \"labels\": [\"United States\", \"India\", \"United Kingdom\", \"Canada\", \"Japan\", \"France\", \"South Korea\", \"Spain\", \"Mexico\", \"Australia\", \"Turkey\", \"Egypt\", \"Germany\", \"China\", \"Taiwan\", \"Brazil\"], \"legendgroup\": \"\", \"marker\": {\"line\": {\"color\": \"white\", \"width\": 1}}, \"name\": \"\", \"showlegend\": true, \"textinfo\": \"percent+label\", \"textposition\": \"inside\", \"type\": \"pie\", \"values\": [3390, 956, 577, 259, 237, 196, 194, 168, 123, 108, 106, 105, 92, 86, 82, 79]}],                        {\"legend\": {\"tracegroupgap\": 0}, \"margin\": {\"t\": 60}, \"piecolorway\": [\"rgb(103,0,31)\", \"rgb(178,24,43)\", \"rgb(214,96,77)\", \"rgb(244,165,130)\", \"rgb(253,219,199)\", \"rgb(247,247,247)\", \"rgb(209,229,240)\", \"rgb(146,197,222)\", \"rgb(67,147,195)\", \"rgb(33,102,172)\", \"rgb(5,48,97)\"], \"template\": {\"data\": {\"bar\": [{\"error_x\": {\"color\": \"#2a3f5f\"}, \"error_y\": {\"color\": \"#2a3f5f\"}, \"marker\": {\"line\": {\"color\": \"#E5ECF6\", \"width\": 0.5}}, \"type\": \"bar\"}], \"barpolar\": [{\"marker\": {\"line\": {\"color\": \"#E5ECF6\", \"width\": 0.5}}, \"type\": \"barpolar\"}], \"carpet\": [{\"aaxis\": {\"endlinecolor\": \"#2a3f5f\", \"gridcolor\": \"white\", \"linecolor\": \"white\", \"minorgridcolor\": \"white\", \"startlinecolor\": \"#2a3f5f\"}, \"baxis\": {\"endlinecolor\": \"#2a3f5f\", \"gridcolor\": \"white\", \"linecolor\": \"white\", \"minorgridcolor\": \"white\", \"startlinecolor\": \"#2a3f5f\"}, \"type\": \"carpet\"}], \"choropleth\": [{\"colorbar\": {\"outlinewidth\": 0, \"ticks\": \"\"}, \"type\": \"choropleth\"}], \"contour\": [{\"colorbar\": {\"outlinewidth\": 0, \"ticks\": \"\"}, \"colorscale\": [[0.0, \"#0d0887\"], [0.1111111111111111, \"#46039f\"], [0.2222222222222222, \"#7201a8\"], [0.3333333333333333, \"#9c179e\"], [0.4444444444444444, \"#bd3786\"], [0.5555555555555556, \"#d8576b\"], [0.6666666666666666, \"#ed7953\"], [0.7777777777777778, \"#fb9f3a\"], [0.8888888888888888, \"#fdca26\"], [1.0, \"#f0f921\"]], \"type\": \"contour\"}], \"contourcarpet\": [{\"colorbar\": {\"outlinewidth\": 0, \"ticks\": \"\"}, \"type\": \"contourcarpet\"}], \"heatmap\": [{\"colorbar\": {\"outlinewidth\": 0, \"ticks\": \"\"}, \"colorscale\": [[0.0, \"#0d0887\"], [0.1111111111111111, \"#46039f\"], [0.2222222222222222, \"#7201a8\"], [0.3333333333333333, \"#9c179e\"], [0.4444444444444444, \"#bd3786\"], [0.5555555555555556, \"#d8576b\"], [0.6666666666666666, \"#ed7953\"], [0.7777777777777778, \"#fb9f3a\"], [0.8888888888888888, \"#fdca26\"], [1.0, \"#f0f921\"]], \"type\": \"heatmap\"}], \"heatmapgl\": [{\"colorbar\": {\"outlinewidth\": 0, \"ticks\": \"\"}, \"colorscale\": [[0.0, \"#0d0887\"], [0.1111111111111111, \"#46039f\"], [0.2222222222222222, \"#7201a8\"], [0.3333333333333333, \"#9c179e\"], [0.4444444444444444, \"#bd3786\"], [0.5555555555555556, \"#d8576b\"], [0.6666666666666666, \"#ed7953\"], [0.7777777777777778, \"#fb9f3a\"], [0.8888888888888888, \"#fdca26\"], [1.0, \"#f0f921\"]], \"type\": \"heatmapgl\"}], \"histogram\": [{\"marker\": {\"colorbar\": {\"outlinewidth\": 0, \"ticks\": \"\"}}, \"type\": \"histogram\"}], \"histogram2d\": [{\"colorbar\": {\"outlinewidth\": 0, \"ticks\": \"\"}, \"colorscale\": [[0.0, \"#0d0887\"], [0.1111111111111111, \"#46039f\"], [0.2222222222222222, \"#7201a8\"], [0.3333333333333333, \"#9c179e\"], [0.4444444444444444, \"#bd3786\"], [0.5555555555555556, \"#d8576b\"], [0.6666666666666666, \"#ed7953\"], [0.7777777777777778, \"#fb9f3a\"], [0.8888888888888888, \"#fdca26\"], [1.0, \"#f0f921\"]], \"type\": \"histogram2d\"}], \"histogram2dcontour\": [{\"colorbar\": {\"outlinewidth\": 0, \"ticks\": \"\"}, \"colorscale\": [[0.0, \"#0d0887\"], [0.1111111111111111, \"#46039f\"], [0.2222222222222222, \"#7201a8\"], [0.3333333333333333, \"#9c179e\"], [0.4444444444444444, \"#bd3786\"], [0.5555555555555556, \"#d8576b\"], [0.6666666666666666, \"#ed7953\"], [0.7777777777777778, \"#fb9f3a\"], [0.8888888888888888, \"#fdca26\"], [1.0, \"#f0f921\"]], \"type\": \"histogram2dcontour\"}], \"mesh3d\": [{\"colorbar\": {\"outlinewidth\": 0, \"ticks\": \"\"}, \"type\": \"mesh3d\"}], \"parcoords\": [{\"line\": {\"colorbar\": {\"outlinewidth\": 0, \"ticks\": \"\"}}, \"type\": \"parcoords\"}], \"pie\": [{\"automargin\": true, \"type\": \"pie\"}], \"scatter\": [{\"marker\": {\"colorbar\": {\"outlinewidth\": 0, \"ticks\": \"\"}}, \"type\": \"scatter\"}], \"scatter3d\": [{\"line\": {\"colorbar\": {\"outlinewidth\": 0, \"ticks\": \"\"}}, \"marker\": {\"colorbar\": {\"outlinewidth\": 0, \"ticks\": \"\"}}, \"type\": \"scatter3d\"}], \"scattercarpet\": [{\"marker\": {\"colorbar\": {\"outlinewidth\": 0, \"ticks\": \"\"}}, \"type\": \"scattercarpet\"}], \"scattergeo\": [{\"marker\": {\"colorbar\": {\"outlinewidth\": 0, \"ticks\": \"\"}}, \"type\": \"scattergeo\"}], \"scattergl\": [{\"marker\": {\"colorbar\": {\"outlinewidth\": 0, \"ticks\": \"\"}}, \"type\": \"scattergl\"}], \"scattermapbox\": [{\"marker\": {\"colorbar\": {\"outlinewidth\": 0, \"ticks\": \"\"}}, \"type\": \"scattermapbox\"}], \"scatterpolar\": [{\"marker\": {\"colorbar\": {\"outlinewidth\": 0, \"ticks\": \"\"}}, \"type\": \"scatterpolar\"}], \"scatterpolargl\": [{\"marker\": {\"colorbar\": {\"outlinewidth\": 0, \"ticks\": \"\"}}, \"type\": \"scatterpolargl\"}], \"scatterternary\": [{\"marker\": {\"colorbar\": {\"outlinewidth\": 0, \"ticks\": \"\"}}, \"type\": \"scatterternary\"}], \"surface\": [{\"colorbar\": {\"outlinewidth\": 0, \"ticks\": \"\"}, \"colorscale\": [[0.0, \"#0d0887\"], [0.1111111111111111, \"#46039f\"], [0.2222222222222222, \"#7201a8\"], [0.3333333333333333, \"#9c179e\"], [0.4444444444444444, \"#bd3786\"], [0.5555555555555556, \"#d8576b\"], [0.6666666666666666, \"#ed7953\"], [0.7777777777777778, \"#fb9f3a\"], [0.8888888888888888, \"#fdca26\"], [1.0, \"#f0f921\"]], \"type\": \"surface\"}], \"table\": [{\"cells\": {\"fill\": {\"color\": \"#EBF0F8\"}, \"line\": {\"color\": \"white\"}}, \"header\": {\"fill\": {\"color\": \"#C8D4E3\"}, \"line\": {\"color\": \"white\"}}, \"type\": \"table\"}]}, \"layout\": {\"annotationdefaults\": {\"arrowcolor\": \"#2a3f5f\", \"arrowhead\": 0, \"arrowwidth\": 1}, \"autotypenumbers\": \"strict\", \"coloraxis\": {\"colorbar\": {\"outlinewidth\": 0, \"ticks\": \"\"}}, \"colorscale\": {\"diverging\": [[0, \"#8e0152\"], [0.1, \"#c51b7d\"], [0.2, \"#de77ae\"], [0.3, \"#f1b6da\"], [0.4, \"#fde0ef\"], [0.5, \"#f7f7f7\"], [0.6, \"#e6f5d0\"], [0.7, \"#b8e186\"], [0.8, \"#7fbc41\"], [0.9, \"#4d9221\"], [1, \"#276419\"]], \"sequential\": [[0.0, \"#0d0887\"], [0.1111111111111111, \"#46039f\"], [0.2222222222222222, \"#7201a8\"], [0.3333333333333333, \"#9c179e\"], [0.4444444444444444, \"#bd3786\"], [0.5555555555555556, \"#d8576b\"], [0.6666666666666666, \"#ed7953\"], [0.7777777777777778, \"#fb9f3a\"], [0.8888888888888888, \"#fdca26\"], [1.0, \"#f0f921\"]], \"sequentialminus\": [[0.0, \"#0d0887\"], [0.1111111111111111, \"#46039f\"], [0.2222222222222222, \"#7201a8\"], [0.3333333333333333, \"#9c179e\"], [0.4444444444444444, \"#bd3786\"], [0.5555555555555556, \"#d8576b\"], [0.6666666666666666, \"#ed7953\"], [0.7777777777777778, \"#fb9f3a\"], [0.8888888888888888, \"#fdca26\"], [1.0, \"#f0f921\"]]}, \"colorway\": [\"#636efa\", \"#EF553B\", \"#00cc96\", \"#ab63fa\", \"#FFA15A\", \"#19d3f3\", \"#FF6692\", \"#B6E880\", \"#FF97FF\", \"#FECB52\"], \"font\": {\"color\": \"#2a3f5f\"}, \"geo\": {\"bgcolor\": \"white\", \"lakecolor\": \"white\", \"landcolor\": \"#E5ECF6\", \"showlakes\": true, \"showland\": true, \"subunitcolor\": \"white\"}, \"hoverlabel\": {\"align\": \"left\"}, \"hovermode\": \"closest\", \"mapbox\": {\"style\": \"light\"}, \"paper_bgcolor\": \"white\", \"plot_bgcolor\": \"#E5ECF6\", \"polar\": {\"angularaxis\": {\"gridcolor\": \"white\", \"linecolor\": \"white\", \"ticks\": \"\"}, \"bgcolor\": \"#E5ECF6\", \"radialaxis\": {\"gridcolor\": \"white\", \"linecolor\": \"white\", \"ticks\": \"\"}}, \"scene\": {\"xaxis\": {\"backgroundcolor\": \"#E5ECF6\", \"gridcolor\": \"white\", \"gridwidth\": 2, \"linecolor\": \"white\", \"showbackground\": true, \"ticks\": \"\", \"zerolinecolor\": \"white\"}, \"yaxis\": {\"backgroundcolor\": \"#E5ECF6\", \"gridcolor\": \"white\", \"gridwidth\": 2, \"linecolor\": \"white\", \"showbackground\": true, \"ticks\": \"\", \"zerolinecolor\": \"white\"}, \"zaxis\": {\"backgroundcolor\": \"#E5ECF6\", \"gridcolor\": \"white\", \"gridwidth\": 2, \"linecolor\": \"white\", \"showbackground\": true, \"ticks\": \"\", \"zerolinecolor\": \"white\"}}, \"shapedefaults\": {\"line\": {\"color\": \"#2a3f5f\"}}, \"ternary\": {\"aaxis\": {\"gridcolor\": \"white\", \"linecolor\": \"white\", \"ticks\": \"\"}, \"baxis\": {\"gridcolor\": \"white\", \"linecolor\": \"white\", \"ticks\": \"\"}, \"bgcolor\": \"#E5ECF6\", \"caxis\": {\"gridcolor\": \"white\", \"linecolor\": \"white\", \"ticks\": \"\"}}, \"title\": {\"x\": 0.05}, \"xaxis\": {\"automargin\": true, \"gridcolor\": \"white\", \"linecolor\": \"white\", \"ticks\": \"\", \"title\": {\"standoff\": 15}, \"zerolinecolor\": \"white\", \"zerolinewidth\": 2}, \"yaxis\": {\"automargin\": true, \"gridcolor\": \"white\", \"linecolor\": \"white\", \"ticks\": \"\", \"title\": {\"standoff\": 15}, \"zerolinecolor\": \"white\", \"zerolinewidth\": 2}}}},                        {\"responsive\": true}                    ).then(function(){\n",
       "                            \n",
       "var gd = document.getElementById('e37e10e1-872f-4a62-b976-a37a00e6e9d2');\n",
       "var x = new MutationObserver(function (mutations, observer) {{\n",
       "        var display = window.getComputedStyle(gd).display;\n",
       "        if (!display || display === 'none') {{\n",
       "            console.log([gd, 'removed!']);\n",
       "            Plotly.purge(gd);\n",
       "            observer.disconnect();\n",
       "        }}\n",
       "}});\n",
       "\n",
       "// Listen for the removal of the full notebook cells\n",
       "var notebookContainer = gd.closest('#notebook-container');\n",
       "if (notebookContainer) {{\n",
       "    x.observe(notebookContainer, {childList: true});\n",
       "}}\n",
       "\n",
       "// Listen for the clearing of the current output cell\n",
       "var outputEl = gd.closest('.output');\n",
       "if (outputEl) {{\n",
       "    x.observe(outputEl, {childList: true});\n",
       "}}\n",
       "\n",
       "                        })                };                });            </script>        </div>"
      ]
     },
     "metadata": {},
     "output_type": "display_data"
    }
   ],
   "source": [
    "country_df = data['country_main'].value_counts().reset_index()\n",
    "country_df = country_df[country_df['country_main'] /  country_df['country_main'].sum() > 0.01]\n",
    "\n",
    "fig = px.pie(country_df, values='country_main', names='index',color_discrete_sequence=px.colors.sequential.RdBu)\n",
    "fig.update_traces(textposition='inside', textinfo='percent+label',\n",
    "                  marker = dict(line = dict(color = 'white', width = 1)))\n",
    "fig.show()"
   ]
  },
  {
   "cell_type": "markdown",
   "id": "vocational-affairs",
   "metadata": {
    "papermill": {
     "duration": 0.086445,
     "end_time": "2021-06-22T09:27:05.861429",
     "exception": false,
     "start_time": "2021-06-22T09:27:05.774984",
     "status": "completed"
    },
    "tags": []
   },
   "source": [
    "Conclusion: After dividing the dataset on the basis of country of production, we see that United States holds the highest percentage, of about half of the total content. India comes second in the list with about 14 percentage share.\n",
    "(Note: We have filled the NaN values in the country_main column with the mean() method. That can be counted as a factor of the dominance of United States)"
   ]
  },
  {
   "cell_type": "code",
   "execution_count": 18,
   "id": "seasonal-phrase",
   "metadata": {
    "execution": {
     "iopub.execute_input": "2021-06-22T09:27:06.011153Z",
     "iopub.status.busy": "2021-06-22T09:27:06.010286Z",
     "iopub.status.idle": "2021-06-22T09:27:06.013529Z",
     "shell.execute_reply": "2021-06-22T09:27:06.014689Z",
     "shell.execute_reply.started": "2021-06-22T09:18:26.737144Z"
    },
    "papermill": {
     "duration": 0.071287,
     "end_time": "2021-06-22T09:27:06.014945",
     "exception": false,
     "start_time": "2021-06-22T09:27:05.943658",
     "status": "completed"
    },
    "tags": []
   },
   "outputs": [],
   "source": [
    "def generate_df(df):\n",
    "    new_df = df.groupby(['y_add', 'm_add']).agg({'show_id': 'count'}).reset_index()\n",
    "    new_df = new_df[new_df['show_id'] != 0]\n",
    "    new_df.columns = ['y_add', 'm_add', 'counts']\n",
    "    new_df = new_df.sort_values('y_add')\n",
    "    return new_df"
   ]
  },
  {
   "cell_type": "code",
   "execution_count": 19,
   "id": "complete-pension",
   "metadata": {
    "execution": {
     "iopub.execute_input": "2021-06-22T09:27:06.119048Z",
     "iopub.status.busy": "2021-06-22T09:27:06.118333Z",
     "iopub.status.idle": "2021-06-22T09:27:06.196460Z",
     "shell.execute_reply": "2021-06-22T09:27:06.195892Z",
     "shell.execute_reply.started": "2021-06-22T09:18:26.747220Z"
    },
    "papermill": {
     "duration": 0.13215,
     "end_time": "2021-06-22T09:27:06.196623",
     "exception": false,
     "start_time": "2021-06-22T09:27:06.064473",
     "status": "completed"
    },
    "tags": []
   },
   "outputs": [
    {
     "data": {
      "text/html": [
       "<div>                            <div id=\"0a651661-b256-4ea3-b093-fbf79a30f932\" class=\"plotly-graph-div\" style=\"height:525px; width:100%;\"></div>            <script type=\"text/javascript\">                require([\"plotly\"], function(Plotly) {                    window.PLOTLYENV=window.PLOTLYENV || {};                                    if (document.getElementById(\"0a651661-b256-4ea3-b093-fbf79a30f932\")) {                    Plotly.newPlot(                        \"0a651661-b256-4ea3-b093-fbf79a30f932\",                        [{\"domain\": {\"x\": [0.0, 0.45], \"y\": [0.0, 1.0]}, \"hole\": 0.4, \"hoverinfo\": \"label+percent+name\", \"labels\": [\"2008\", \"2009\", \"2009\", \"2010\", \"2011\", \"2011\", \"2011\", \"2012\", \"2012\", \"2012\", \"2013\", \"2013\", \"2013\", \"2013\", \"2014\", \"2014\", \"2014\", \"2014\", \"2014\", \"2014\", \"2014\", \"2014\", \"2014\", \"2014\", \"2015\", \"2015\", \"2015\", \"2015\", \"2015\", \"2015\", \"2015\", \"2015\", \"2015\", \"2015\", \"2015\", \"2015\", \"2016\", \"2016\", \"2016\", \"2016\", \"2016\", \"2016\", \"2016\", \"2016\", \"2016\", \"2016\", \"2016\", \"2016\", \"2017\", \"2017\", \"2017\", \"2017\", \"2017\", \"2017\", \"2017\", \"2017\", \"2017\", \"2017\", \"2017\", \"2017\", \"2018\", \"2018\", \"2018\", \"2018\", \"2018\", \"2018\", \"2018\", \"2018\", \"2018\", \"2018\", \"2018\", \"2018\", \"2019\", \"2019\", \"2019\", \"2019\", \"2019\", \"2019\", \"2019\", \"2019\", \"2019\", \"2019\", \"2019\", \"2019\", \"2020\", \"2020\", \"2020\", \"2020\", \"2020\", \"2020\", \"2020\", \"2020\", \"2020\", \"2020\", \"2020\", \"2020\", \"2021\"], \"marker\": {\"line\": {\"color\": \"white\", \"width\": 2}}, \"textposition\": \"inside\", \"type\": \"pie\", \"values\": [1, 1, 1, 1, 1, 11, 1, 1, 1, 1, 2, 2, 1, 1, 1, 1, 4, 2, 1, 1, 1, 5, 1, 2, 3, 6, 10, 2, 5, 4, 16, 1, 3, 2, 1, 5, 29, 34, 28, 9, 14, 11, 15, 9, 52, 24, 14, 19, 102, 86, 99, 57, 63, 65, 66, 58, 66, 79, 77, 46, 83, 146, 119, 73, 137, 50, 108, 64, 126, 135, 87, 127, 119, 131, 195, 110, 92, 127, 113, 123, 172, 92, 121, 102, 117, 103, 109, 96, 119, 71, 164, 101, 83, 130, 116, 103, 88]}, {\"domain\": {\"x\": [0.55, 1.0], \"y\": [0.0, 1.0]}, \"hole\": 0.4, \"hoverinfo\": \"label+percent+name\", \"labels\": [\"2008\", \"2013\", \"2013\", \"2013\", \"2013\", \"2013\", \"2014\", \"2014\", \"2014\", \"2014\", \"2015\", \"2015\", \"2015\", \"2015\", \"2015\", \"2015\", \"2015\", \"2015\", \"2015\", \"2016\", \"2016\", \"2016\", \"2016\", \"2016\", \"2016\", \"2016\", \"2016\", \"2016\", \"2016\", \"2016\", \"2016\", \"2016\", \"2017\", \"2017\", \"2017\", \"2017\", \"2017\", \"2017\", \"2017\", \"2017\", \"2017\", \"2017\", \"2017\", \"2017\", \"2017\", \"2018\", \"2018\", \"2018\", \"2018\", \"2018\", \"2018\", \"2018\", \"2018\", \"2018\", \"2018\", \"2018\", \"2018\", \"2018\", \"2019\", \"2019\", \"2019\", \"2019\", \"2019\", \"2019\", \"2019\", \"2019\", \"2019\", \"2019\", \"2019\", \"2019\", \"2019\", \"2020\", \"2020\", \"2020\", \"2020\", \"2020\", \"2020\", \"2020\", \"2020\", \"2020\", \"2020\", \"2020\", \"2020\", \"2020\", \"2021\"], \"marker\": {\"line\": {\"color\": \"white\", \"width\": 2}}, \"textposition\": \"inside\", \"type\": \"pie\", \"values\": [1, 1, 1, 1, 1, 1, 1, 1, 1, 3, 1, 1, 1, 2, 5, 4, 4, 9, 3, 17, 18, 16, 2, 2, 10, 8, 7, 43, 17, 7, 11, 27, 28, 33, 31, 24, 36, 30, 28, 17, 36, 33, 14, 27, 24, 43, 45, 41, 26, 35, 27, 28, 16, 23, 59, 33, 30, 24, 71, 75, 49, 43, 59, 48, 47, 37, 43, 53, 49, 17, 65, 56, 55, 64, 56, 48, 53, 74, 46, 61, 58, 1, 62, 73, 29]}],                        {\"annotations\": [{\"font\": {\"color\": \"black\", \"size\": 17}, \"showarrow\": false, \"text\": \"Movies\", \"x\": 0.18, \"y\": 0.5}, {\"font\": {\"color\": \"black\", \"size\": 17}, \"showarrow\": false, \"text\": \"TV Shows\", \"x\": 0.83, \"y\": 0.5}], \"template\": {\"data\": {\"bar\": [{\"error_x\": {\"color\": \"#2a3f5f\"}, \"error_y\": {\"color\": \"#2a3f5f\"}, \"marker\": {\"line\": {\"color\": \"#E5ECF6\", \"width\": 0.5}}, \"type\": \"bar\"}], \"barpolar\": [{\"marker\": {\"line\": {\"color\": \"#E5ECF6\", \"width\": 0.5}}, \"type\": \"barpolar\"}], \"carpet\": [{\"aaxis\": {\"endlinecolor\": \"#2a3f5f\", \"gridcolor\": \"white\", \"linecolor\": \"white\", \"minorgridcolor\": \"white\", \"startlinecolor\": \"#2a3f5f\"}, \"baxis\": {\"endlinecolor\": \"#2a3f5f\", \"gridcolor\": \"white\", \"linecolor\": \"white\", \"minorgridcolor\": \"white\", \"startlinecolor\": \"#2a3f5f\"}, \"type\": \"carpet\"}], \"choropleth\": [{\"colorbar\": {\"outlinewidth\": 0, \"ticks\": \"\"}, \"type\": \"choropleth\"}], \"contour\": [{\"colorbar\": {\"outlinewidth\": 0, \"ticks\": \"\"}, \"colorscale\": [[0.0, \"#0d0887\"], [0.1111111111111111, \"#46039f\"], [0.2222222222222222, \"#7201a8\"], [0.3333333333333333, \"#9c179e\"], [0.4444444444444444, \"#bd3786\"], [0.5555555555555556, \"#d8576b\"], [0.6666666666666666, \"#ed7953\"], [0.7777777777777778, \"#fb9f3a\"], [0.8888888888888888, \"#fdca26\"], [1.0, \"#f0f921\"]], \"type\": \"contour\"}], \"contourcarpet\": [{\"colorbar\": {\"outlinewidth\": 0, \"ticks\": \"\"}, \"type\": \"contourcarpet\"}], \"heatmap\": [{\"colorbar\": {\"outlinewidth\": 0, \"ticks\": \"\"}, \"colorscale\": [[0.0, \"#0d0887\"], [0.1111111111111111, \"#46039f\"], [0.2222222222222222, \"#7201a8\"], [0.3333333333333333, \"#9c179e\"], [0.4444444444444444, \"#bd3786\"], [0.5555555555555556, \"#d8576b\"], [0.6666666666666666, \"#ed7953\"], [0.7777777777777778, \"#fb9f3a\"], [0.8888888888888888, \"#fdca26\"], [1.0, \"#f0f921\"]], \"type\": \"heatmap\"}], \"heatmapgl\": [{\"colorbar\": {\"outlinewidth\": 0, \"ticks\": \"\"}, \"colorscale\": [[0.0, \"#0d0887\"], [0.1111111111111111, \"#46039f\"], [0.2222222222222222, \"#7201a8\"], [0.3333333333333333, \"#9c179e\"], [0.4444444444444444, \"#bd3786\"], [0.5555555555555556, \"#d8576b\"], [0.6666666666666666, \"#ed7953\"], [0.7777777777777778, \"#fb9f3a\"], [0.8888888888888888, \"#fdca26\"], [1.0, \"#f0f921\"]], \"type\": \"heatmapgl\"}], \"histogram\": [{\"marker\": {\"colorbar\": {\"outlinewidth\": 0, \"ticks\": \"\"}}, \"type\": \"histogram\"}], \"histogram2d\": [{\"colorbar\": {\"outlinewidth\": 0, \"ticks\": \"\"}, \"colorscale\": [[0.0, \"#0d0887\"], [0.1111111111111111, \"#46039f\"], [0.2222222222222222, \"#7201a8\"], [0.3333333333333333, \"#9c179e\"], [0.4444444444444444, \"#bd3786\"], [0.5555555555555556, \"#d8576b\"], [0.6666666666666666, \"#ed7953\"], [0.7777777777777778, \"#fb9f3a\"], [0.8888888888888888, \"#fdca26\"], [1.0, \"#f0f921\"]], \"type\": \"histogram2d\"}], \"histogram2dcontour\": [{\"colorbar\": {\"outlinewidth\": 0, \"ticks\": \"\"}, \"colorscale\": [[0.0, \"#0d0887\"], [0.1111111111111111, \"#46039f\"], [0.2222222222222222, \"#7201a8\"], [0.3333333333333333, \"#9c179e\"], [0.4444444444444444, \"#bd3786\"], [0.5555555555555556, \"#d8576b\"], [0.6666666666666666, \"#ed7953\"], [0.7777777777777778, \"#fb9f3a\"], [0.8888888888888888, \"#fdca26\"], [1.0, \"#f0f921\"]], \"type\": \"histogram2dcontour\"}], \"mesh3d\": [{\"colorbar\": {\"outlinewidth\": 0, \"ticks\": \"\"}, \"type\": \"mesh3d\"}], \"parcoords\": [{\"line\": {\"colorbar\": {\"outlinewidth\": 0, \"ticks\": \"\"}}, \"type\": \"parcoords\"}], \"pie\": [{\"automargin\": true, \"type\": \"pie\"}], \"scatter\": [{\"marker\": {\"colorbar\": {\"outlinewidth\": 0, \"ticks\": \"\"}}, \"type\": \"scatter\"}], \"scatter3d\": [{\"line\": {\"colorbar\": {\"outlinewidth\": 0, \"ticks\": \"\"}}, \"marker\": {\"colorbar\": {\"outlinewidth\": 0, \"ticks\": \"\"}}, \"type\": \"scatter3d\"}], \"scattercarpet\": [{\"marker\": {\"colorbar\": {\"outlinewidth\": 0, \"ticks\": \"\"}}, \"type\": \"scattercarpet\"}], \"scattergeo\": [{\"marker\": {\"colorbar\": {\"outlinewidth\": 0, \"ticks\": \"\"}}, \"type\": \"scattergeo\"}], \"scattergl\": [{\"marker\": {\"colorbar\": {\"outlinewidth\": 0, \"ticks\": \"\"}}, \"type\": \"scattergl\"}], \"scattermapbox\": [{\"marker\": {\"colorbar\": {\"outlinewidth\": 0, \"ticks\": \"\"}}, \"type\": \"scattermapbox\"}], \"scatterpolar\": [{\"marker\": {\"colorbar\": {\"outlinewidth\": 0, \"ticks\": \"\"}}, \"type\": \"scatterpolar\"}], \"scatterpolargl\": [{\"marker\": {\"colorbar\": {\"outlinewidth\": 0, \"ticks\": \"\"}}, \"type\": \"scatterpolargl\"}], \"scatterternary\": [{\"marker\": {\"colorbar\": {\"outlinewidth\": 0, \"ticks\": \"\"}}, \"type\": \"scatterternary\"}], \"surface\": [{\"colorbar\": {\"outlinewidth\": 0, \"ticks\": \"\"}, \"colorscale\": [[0.0, \"#0d0887\"], [0.1111111111111111, \"#46039f\"], [0.2222222222222222, \"#7201a8\"], [0.3333333333333333, \"#9c179e\"], [0.4444444444444444, \"#bd3786\"], [0.5555555555555556, \"#d8576b\"], [0.6666666666666666, \"#ed7953\"], [0.7777777777777778, \"#fb9f3a\"], [0.8888888888888888, \"#fdca26\"], [1.0, \"#f0f921\"]], \"type\": \"surface\"}], \"table\": [{\"cells\": {\"fill\": {\"color\": \"#EBF0F8\"}, \"line\": {\"color\": \"white\"}}, \"header\": {\"fill\": {\"color\": \"#C8D4E3\"}, \"line\": {\"color\": \"white\"}}, \"type\": \"table\"}]}, \"layout\": {\"annotationdefaults\": {\"arrowcolor\": \"#2a3f5f\", \"arrowhead\": 0, \"arrowwidth\": 1}, \"autotypenumbers\": \"strict\", \"coloraxis\": {\"colorbar\": {\"outlinewidth\": 0, \"ticks\": \"\"}}, \"colorscale\": {\"diverging\": [[0, \"#8e0152\"], [0.1, \"#c51b7d\"], [0.2, \"#de77ae\"], [0.3, \"#f1b6da\"], [0.4, \"#fde0ef\"], [0.5, \"#f7f7f7\"], [0.6, \"#e6f5d0\"], [0.7, \"#b8e186\"], [0.8, \"#7fbc41\"], [0.9, \"#4d9221\"], [1, \"#276419\"]], \"sequential\": [[0.0, \"#0d0887\"], [0.1111111111111111, \"#46039f\"], [0.2222222222222222, \"#7201a8\"], [0.3333333333333333, \"#9c179e\"], [0.4444444444444444, \"#bd3786\"], [0.5555555555555556, \"#d8576b\"], [0.6666666666666666, \"#ed7953\"], [0.7777777777777778, \"#fb9f3a\"], [0.8888888888888888, \"#fdca26\"], [1.0, \"#f0f921\"]], \"sequentialminus\": [[0.0, \"#0d0887\"], [0.1111111111111111, \"#46039f\"], [0.2222222222222222, \"#7201a8\"], [0.3333333333333333, \"#9c179e\"], [0.4444444444444444, \"#bd3786\"], [0.5555555555555556, \"#d8576b\"], [0.6666666666666666, \"#ed7953\"], [0.7777777777777778, \"#fb9f3a\"], [0.8888888888888888, \"#fdca26\"], [1.0, \"#f0f921\"]]}, \"colorway\": [\"#636efa\", \"#EF553B\", \"#00cc96\", \"#ab63fa\", \"#FFA15A\", \"#19d3f3\", \"#FF6692\", \"#B6E880\", \"#FF97FF\", \"#FECB52\"], \"font\": {\"color\": \"#2a3f5f\"}, \"geo\": {\"bgcolor\": \"white\", \"lakecolor\": \"white\", \"landcolor\": \"#E5ECF6\", \"showlakes\": true, \"showland\": true, \"subunitcolor\": \"white\"}, \"hoverlabel\": {\"align\": \"left\"}, \"hovermode\": \"closest\", \"mapbox\": {\"style\": \"light\"}, \"paper_bgcolor\": \"white\", \"plot_bgcolor\": \"#E5ECF6\", \"polar\": {\"angularaxis\": {\"gridcolor\": \"white\", \"linecolor\": \"white\", \"ticks\": \"\"}, \"bgcolor\": \"#E5ECF6\", \"radialaxis\": {\"gridcolor\": \"white\", \"linecolor\": \"white\", \"ticks\": \"\"}}, \"scene\": {\"xaxis\": {\"backgroundcolor\": \"#E5ECF6\", \"gridcolor\": \"white\", \"gridwidth\": 2, \"linecolor\": \"white\", \"showbackground\": true, \"ticks\": \"\", \"zerolinecolor\": \"white\"}, \"yaxis\": {\"backgroundcolor\": \"#E5ECF6\", \"gridcolor\": \"white\", \"gridwidth\": 2, \"linecolor\": \"white\", \"showbackground\": true, \"ticks\": \"\", \"zerolinecolor\": \"white\"}, \"zaxis\": {\"backgroundcolor\": \"#E5ECF6\", \"gridcolor\": \"white\", \"gridwidth\": 2, \"linecolor\": \"white\", \"showbackground\": true, \"ticks\": \"\", \"zerolinecolor\": \"white\"}}, \"shapedefaults\": {\"line\": {\"color\": \"#2a3f5f\"}}, \"ternary\": {\"aaxis\": {\"gridcolor\": \"white\", \"linecolor\": \"white\", \"ticks\": \"\"}, \"baxis\": {\"gridcolor\": \"white\", \"linecolor\": \"white\", \"ticks\": \"\"}, \"bgcolor\": \"#E5ECF6\", \"caxis\": {\"gridcolor\": \"white\", \"linecolor\": \"white\", \"ticks\": \"\"}}, \"title\": {\"x\": 0.05}, \"xaxis\": {\"automargin\": true, \"gridcolor\": \"white\", \"linecolor\": \"white\", \"ticks\": \"\", \"title\": {\"standoff\": 15}, \"zerolinecolor\": \"white\", \"zerolinewidth\": 2}, \"yaxis\": {\"automargin\": true, \"gridcolor\": \"white\", \"linecolor\": \"white\", \"ticks\": \"\", \"title\": {\"standoff\": 15}, \"zerolinecolor\": \"white\", \"zerolinewidth\": 2}}}, \"title\": {\"text\": \"Content distribution by Year of Adding\"}},                        {\"responsive\": true}                    ).then(function(){\n",
       "                            \n",
       "var gd = document.getElementById('0a651661-b256-4ea3-b093-fbf79a30f932');\n",
       "var x = new MutationObserver(function (mutations, observer) {{\n",
       "        var display = window.getComputedStyle(gd).display;\n",
       "        if (!display || display === 'none') {{\n",
       "            console.log([gd, 'removed!']);\n",
       "            Plotly.purge(gd);\n",
       "            observer.disconnect();\n",
       "        }}\n",
       "}});\n",
       "\n",
       "// Listen for the removal of the full notebook cells\n",
       "var notebookContainer = gd.closest('#notebook-container');\n",
       "if (notebookContainer) {{\n",
       "    x.observe(notebookContainer, {childList: true});\n",
       "}}\n",
       "\n",
       "// Listen for the clearing of the current output cell\n",
       "var outputEl = gd.closest('.output');\n",
       "if (outputEl) {{\n",
       "    x.observe(outputEl, {childList: true});\n",
       "}}\n",
       "\n",
       "                        })                };                });            </script>        </div>"
      ]
     },
     "metadata": {},
     "output_type": "display_data"
    }
   ],
   "source": [
    "import plotly.graph_objects as go\n",
    "from plotly.subplots import make_subplots\n",
    "\n",
    "movie_new_df = generate_df(movie_df)\n",
    "tv_new_df = generate_df(tv_df)\n",
    "\n",
    "fig = make_subplots(rows=1, cols=2, specs=[[{\"type\": \"pie\"}, {\"type\": \"pie\"}]])\n",
    "fig.add_trace(\n",
    "    go.Pie(labels=movie_new_df['y_add'], values=movie_new_df['counts']),\n",
    "    row=1, col=1\n",
    ")\n",
    "\n",
    "fig.add_trace(\n",
    "    go.Pie(labels=tv_new_df['y_add'], values=tv_new_df['counts']),\n",
    "    row=1, col=2\n",
    ")\n",
    "\n",
    "fig.update_traces(textposition='inside', hole=.4, hoverinfo=\"label+percent+name\",\n",
    "                  marker = dict(line = dict(color = 'white', width = 2)))\n",
    "\n",
    "fig.update_layout(\n",
    "    title_text=\"Content distribution by Year of Adding\",\n",
    "    # Add annotations in the center of the donut pies.\n",
    "    annotations=[dict(text='Movies', x=0.18, y=0.5, font_size=17, showarrow=False, font_color='black'),\n",
    "                 dict(text='TV Shows', x=0.83, y=0.5, font_size=17, showarrow=False, font_color='black')])\n",
    "fig.show()"
   ]
  },
  {
   "cell_type": "markdown",
   "id": "illegal-color",
   "metadata": {
    "papermill": {
     "duration": 0.048099,
     "end_time": "2021-06-22T09:27:06.293250",
     "exception": false,
     "start_time": "2021-06-22T09:27:06.245151",
     "status": "completed"
    },
    "tags": []
   },
   "source": [
    "Conclusion: The above plot shows the distribution of Movies and TV Shows separately based upon the year of adding. There is a noticable increase in the number of shows added throughout the years. For movies 2019 records the maximum number while for TV shows the year 2020 records the maximum number of addition of shows. "
   ]
  },
  {
   "cell_type": "code",
   "execution_count": 20,
   "id": "angry-albania",
   "metadata": {
    "execution": {
     "iopub.execute_input": "2021-06-22T09:27:06.396042Z",
     "iopub.status.busy": "2021-06-22T09:27:06.395378Z",
     "iopub.status.idle": "2021-06-22T09:27:06.397421Z",
     "shell.execute_reply": "2021-06-22T09:27:06.397847Z",
     "shell.execute_reply.started": "2021-06-22T09:18:26.807857Z"
    },
    "papermill": {
     "duration": 0.056308,
     "end_time": "2021-06-22T09:27:06.398027",
     "exception": false,
     "start_time": "2021-06-22T09:27:06.341719",
     "status": "completed"
    },
    "tags": []
   },
   "outputs": [],
   "source": [
    "def generate_year_df(df,year):\n",
    "    new_df = df.groupby(['target_age', 'y_add']).agg({'show_id': 'count'}).reset_index()\n",
    "    new_df = new_df[new_df['show_id'] != 0]\n",
    "    new_df.columns = ['target_age', 'y_add', 'counts']\n",
    "    new_df = new_df.sort_values('y_add')\n",
    "    new_df= new_df[new_df['y_add']==year]\n",
    "    return new_df"
   ]
  },
  {
   "cell_type": "code",
   "execution_count": 21,
   "id": "hundred-philippines",
   "metadata": {
    "execution": {
     "iopub.execute_input": "2021-06-22T09:27:06.498793Z",
     "iopub.status.busy": "2021-06-22T09:27:06.498116Z",
     "iopub.status.idle": "2021-06-22T09:27:06.573989Z",
     "shell.execute_reply": "2021-06-22T09:27:06.573434Z",
     "shell.execute_reply.started": "2021-06-22T09:18:26.816746Z"
    },
    "papermill": {
     "duration": 0.127665,
     "end_time": "2021-06-22T09:27:06.574141",
     "exception": false,
     "start_time": "2021-06-22T09:27:06.446476",
     "status": "completed"
    },
    "tags": []
   },
   "outputs": [
    {
     "data": {
      "text/html": [
       "<div>                            <div id=\"5d70c341-ff31-4f33-9c9f-dfd48d95d908\" class=\"plotly-graph-div\" style=\"height:525px; width:100%;\"></div>            <script type=\"text/javascript\">                require([\"plotly\"], function(Plotly) {                    window.PLOTLYENV=window.PLOTLYENV || {};                                    if (document.getElementById(\"5d70c341-ff31-4f33-9c9f-dfd48d95d908\")) {                    Plotly.newPlot(                        \"5d70c341-ff31-4f33-9c9f-dfd48d95d908\",                        [{\"domain\": {\"x\": [0.0, 0.2888888888888889], \"y\": [0.0, 1.0]}, \"hoverinfo\": \"label+percent+name\", \"labels\": [\"Adults\", \"Older Kids\"], \"marker\": {\"colors\": [\"#3D0C02\", \"#800000\", \"#C11B17\", \"#C0C0C0\"], \"line\": {\"color\": \"white\", \"width\": 1}}, \"name\": \"Target audience 2012\", \"scalegroup\": \"one\", \"textposition\": \"inside\", \"type\": \"pie\", \"values\": [1, 2]}, {\"domain\": {\"x\": [0.35555555555555557, 0.6444444444444445], \"y\": [0.0, 1.0]}, \"hoverinfo\": \"label+percent+name\", \"labels\": [\"Teens\", \"Older Kids\", \"Adults\", \"Kids\"], \"marker\": {\"colors\": [\"#3D0C02\", \"#800000\", \"#C11B17\", \"#C0C0C0\"], \"line\": {\"color\": \"white\", \"width\": 1}}, \"name\": \"Target audience 2015\", \"scalegroup\": \"one\", \"textposition\": \"inside\", \"type\": \"pie\", \"values\": [17, 17, 37, 17]}, {\"domain\": {\"x\": [0.7111111111111111, 1.0], \"y\": [0.0, 1.0]}, \"hoverinfo\": \"label+percent+name\", \"labels\": [\"Older Kids\", \"Kids\", \"Teens\", \"Adults\"], \"marker\": {\"colors\": [\"#3D0C02\", \"#800000\", \"#C11B17\", \"#C0C0C0\"], \"line\": {\"color\": \"white\", \"width\": 1}}, \"name\": \"Target audience 2020\", \"scalegroup\": \"one\", \"textposition\": \"inside\", \"type\": \"pie\", \"values\": [310, 196, 599, 914]}],                        {\"annotations\": [{\"font\": {\"size\": 16}, \"showarrow\": false, \"text\": \"2012\", \"x\": 0.14444444444444446, \"xanchor\": \"center\", \"xref\": \"paper\", \"y\": 1.0, \"yanchor\": \"bottom\", \"yref\": \"paper\"}, {\"font\": {\"size\": 16}, \"showarrow\": false, \"text\": \"2015\", \"x\": 0.5, \"xanchor\": \"center\", \"xref\": \"paper\", \"y\": 1.0, \"yanchor\": \"bottom\", \"yref\": \"paper\"}, {\"font\": {\"size\": 16}, \"showarrow\": false, \"text\": \"2020\", \"x\": 0.8555555555555556, \"xanchor\": \"center\", \"xref\": \"paper\", \"y\": 1.0, \"yanchor\": \"bottom\", \"yref\": \"paper\"}], \"template\": {\"data\": {\"bar\": [{\"error_x\": {\"color\": \"#2a3f5f\"}, \"error_y\": {\"color\": \"#2a3f5f\"}, \"marker\": {\"line\": {\"color\": \"#E5ECF6\", \"width\": 0.5}}, \"type\": \"bar\"}], \"barpolar\": [{\"marker\": {\"line\": {\"color\": \"#E5ECF6\", \"width\": 0.5}}, \"type\": \"barpolar\"}], \"carpet\": [{\"aaxis\": {\"endlinecolor\": \"#2a3f5f\", \"gridcolor\": \"white\", \"linecolor\": \"white\", \"minorgridcolor\": \"white\", \"startlinecolor\": \"#2a3f5f\"}, \"baxis\": {\"endlinecolor\": \"#2a3f5f\", \"gridcolor\": \"white\", \"linecolor\": \"white\", \"minorgridcolor\": \"white\", \"startlinecolor\": \"#2a3f5f\"}, \"type\": \"carpet\"}], \"choropleth\": [{\"colorbar\": {\"outlinewidth\": 0, \"ticks\": \"\"}, \"type\": \"choropleth\"}], \"contour\": [{\"colorbar\": {\"outlinewidth\": 0, \"ticks\": \"\"}, \"colorscale\": [[0.0, \"#0d0887\"], [0.1111111111111111, \"#46039f\"], [0.2222222222222222, \"#7201a8\"], [0.3333333333333333, \"#9c179e\"], [0.4444444444444444, \"#bd3786\"], [0.5555555555555556, \"#d8576b\"], [0.6666666666666666, \"#ed7953\"], [0.7777777777777778, \"#fb9f3a\"], [0.8888888888888888, \"#fdca26\"], [1.0, \"#f0f921\"]], \"type\": \"contour\"}], \"contourcarpet\": [{\"colorbar\": {\"outlinewidth\": 0, \"ticks\": \"\"}, \"type\": \"contourcarpet\"}], \"heatmap\": [{\"colorbar\": {\"outlinewidth\": 0, \"ticks\": \"\"}, \"colorscale\": [[0.0, \"#0d0887\"], [0.1111111111111111, \"#46039f\"], [0.2222222222222222, \"#7201a8\"], [0.3333333333333333, \"#9c179e\"], [0.4444444444444444, \"#bd3786\"], [0.5555555555555556, \"#d8576b\"], [0.6666666666666666, \"#ed7953\"], [0.7777777777777778, \"#fb9f3a\"], [0.8888888888888888, \"#fdca26\"], [1.0, \"#f0f921\"]], \"type\": \"heatmap\"}], \"heatmapgl\": [{\"colorbar\": {\"outlinewidth\": 0, \"ticks\": \"\"}, \"colorscale\": [[0.0, \"#0d0887\"], [0.1111111111111111, \"#46039f\"], [0.2222222222222222, \"#7201a8\"], [0.3333333333333333, \"#9c179e\"], [0.4444444444444444, \"#bd3786\"], [0.5555555555555556, \"#d8576b\"], [0.6666666666666666, \"#ed7953\"], [0.7777777777777778, \"#fb9f3a\"], [0.8888888888888888, \"#fdca26\"], [1.0, \"#f0f921\"]], \"type\": \"heatmapgl\"}], \"histogram\": [{\"marker\": {\"colorbar\": {\"outlinewidth\": 0, \"ticks\": \"\"}}, \"type\": \"histogram\"}], \"histogram2d\": [{\"colorbar\": {\"outlinewidth\": 0, \"ticks\": \"\"}, \"colorscale\": [[0.0, \"#0d0887\"], [0.1111111111111111, \"#46039f\"], [0.2222222222222222, \"#7201a8\"], [0.3333333333333333, \"#9c179e\"], [0.4444444444444444, \"#bd3786\"], [0.5555555555555556, \"#d8576b\"], [0.6666666666666666, \"#ed7953\"], [0.7777777777777778, \"#fb9f3a\"], [0.8888888888888888, \"#fdca26\"], [1.0, \"#f0f921\"]], \"type\": \"histogram2d\"}], \"histogram2dcontour\": [{\"colorbar\": {\"outlinewidth\": 0, \"ticks\": \"\"}, \"colorscale\": [[0.0, \"#0d0887\"], [0.1111111111111111, \"#46039f\"], [0.2222222222222222, \"#7201a8\"], [0.3333333333333333, \"#9c179e\"], [0.4444444444444444, \"#bd3786\"], [0.5555555555555556, \"#d8576b\"], [0.6666666666666666, \"#ed7953\"], [0.7777777777777778, \"#fb9f3a\"], [0.8888888888888888, \"#fdca26\"], [1.0, \"#f0f921\"]], \"type\": \"histogram2dcontour\"}], \"mesh3d\": [{\"colorbar\": {\"outlinewidth\": 0, \"ticks\": \"\"}, \"type\": \"mesh3d\"}], \"parcoords\": [{\"line\": {\"colorbar\": {\"outlinewidth\": 0, \"ticks\": \"\"}}, \"type\": \"parcoords\"}], \"pie\": [{\"automargin\": true, \"type\": \"pie\"}], \"scatter\": [{\"marker\": {\"colorbar\": {\"outlinewidth\": 0, \"ticks\": \"\"}}, \"type\": \"scatter\"}], \"scatter3d\": [{\"line\": {\"colorbar\": {\"outlinewidth\": 0, \"ticks\": \"\"}}, \"marker\": {\"colorbar\": {\"outlinewidth\": 0, \"ticks\": \"\"}}, \"type\": \"scatter3d\"}], \"scattercarpet\": [{\"marker\": {\"colorbar\": {\"outlinewidth\": 0, \"ticks\": \"\"}}, \"type\": \"scattercarpet\"}], \"scattergeo\": [{\"marker\": {\"colorbar\": {\"outlinewidth\": 0, \"ticks\": \"\"}}, \"type\": \"scattergeo\"}], \"scattergl\": [{\"marker\": {\"colorbar\": {\"outlinewidth\": 0, \"ticks\": \"\"}}, \"type\": \"scattergl\"}], \"scattermapbox\": [{\"marker\": {\"colorbar\": {\"outlinewidth\": 0, \"ticks\": \"\"}}, \"type\": \"scattermapbox\"}], \"scatterpolar\": [{\"marker\": {\"colorbar\": {\"outlinewidth\": 0, \"ticks\": \"\"}}, \"type\": \"scatterpolar\"}], \"scatterpolargl\": [{\"marker\": {\"colorbar\": {\"outlinewidth\": 0, \"ticks\": \"\"}}, \"type\": \"scatterpolargl\"}], \"scatterternary\": [{\"marker\": {\"colorbar\": {\"outlinewidth\": 0, \"ticks\": \"\"}}, \"type\": \"scatterternary\"}], \"surface\": [{\"colorbar\": {\"outlinewidth\": 0, \"ticks\": \"\"}, \"colorscale\": [[0.0, \"#0d0887\"], [0.1111111111111111, \"#46039f\"], [0.2222222222222222, \"#7201a8\"], [0.3333333333333333, \"#9c179e\"], [0.4444444444444444, \"#bd3786\"], [0.5555555555555556, \"#d8576b\"], [0.6666666666666666, \"#ed7953\"], [0.7777777777777778, \"#fb9f3a\"], [0.8888888888888888, \"#fdca26\"], [1.0, \"#f0f921\"]], \"type\": \"surface\"}], \"table\": [{\"cells\": {\"fill\": {\"color\": \"#EBF0F8\"}, \"line\": {\"color\": \"white\"}}, \"header\": {\"fill\": {\"color\": \"#C8D4E3\"}, \"line\": {\"color\": \"white\"}}, \"type\": \"table\"}]}, \"layout\": {\"annotationdefaults\": {\"arrowcolor\": \"#2a3f5f\", \"arrowhead\": 0, \"arrowwidth\": 1}, \"autotypenumbers\": \"strict\", \"coloraxis\": {\"colorbar\": {\"outlinewidth\": 0, \"ticks\": \"\"}}, \"colorscale\": {\"diverging\": [[0, \"#8e0152\"], [0.1, \"#c51b7d\"], [0.2, \"#de77ae\"], [0.3, \"#f1b6da\"], [0.4, \"#fde0ef\"], [0.5, \"#f7f7f7\"], [0.6, \"#e6f5d0\"], [0.7, \"#b8e186\"], [0.8, \"#7fbc41\"], [0.9, \"#4d9221\"], [1, \"#276419\"]], \"sequential\": [[0.0, \"#0d0887\"], [0.1111111111111111, \"#46039f\"], [0.2222222222222222, \"#7201a8\"], [0.3333333333333333, \"#9c179e\"], [0.4444444444444444, \"#bd3786\"], [0.5555555555555556, \"#d8576b\"], [0.6666666666666666, \"#ed7953\"], [0.7777777777777778, \"#fb9f3a\"], [0.8888888888888888, \"#fdca26\"], [1.0, \"#f0f921\"]], \"sequentialminus\": [[0.0, \"#0d0887\"], [0.1111111111111111, \"#46039f\"], [0.2222222222222222, \"#7201a8\"], [0.3333333333333333, \"#9c179e\"], [0.4444444444444444, \"#bd3786\"], [0.5555555555555556, \"#d8576b\"], [0.6666666666666666, \"#ed7953\"], [0.7777777777777778, \"#fb9f3a\"], [0.8888888888888888, \"#fdca26\"], [1.0, \"#f0f921\"]]}, \"colorway\": [\"#636efa\", \"#EF553B\", \"#00cc96\", \"#ab63fa\", \"#FFA15A\", \"#19d3f3\", \"#FF6692\", \"#B6E880\", \"#FF97FF\", \"#FECB52\"], \"font\": {\"color\": \"#2a3f5f\"}, \"geo\": {\"bgcolor\": \"white\", \"lakecolor\": \"white\", \"landcolor\": \"#E5ECF6\", \"showlakes\": true, \"showland\": true, \"subunitcolor\": \"white\"}, \"hoverlabel\": {\"align\": \"left\"}, \"hovermode\": \"closest\", \"mapbox\": {\"style\": \"light\"}, \"paper_bgcolor\": \"white\", \"plot_bgcolor\": \"#E5ECF6\", \"polar\": {\"angularaxis\": {\"gridcolor\": \"white\", \"linecolor\": \"white\", \"ticks\": \"\"}, \"bgcolor\": \"#E5ECF6\", \"radialaxis\": {\"gridcolor\": \"white\", \"linecolor\": \"white\", \"ticks\": \"\"}}, \"scene\": {\"xaxis\": {\"backgroundcolor\": \"#E5ECF6\", \"gridcolor\": \"white\", \"gridwidth\": 2, \"linecolor\": \"white\", \"showbackground\": true, \"ticks\": \"\", \"zerolinecolor\": \"white\"}, \"yaxis\": {\"backgroundcolor\": \"#E5ECF6\", \"gridcolor\": \"white\", \"gridwidth\": 2, \"linecolor\": \"white\", \"showbackground\": true, \"ticks\": \"\", \"zerolinecolor\": \"white\"}, \"zaxis\": {\"backgroundcolor\": \"#E5ECF6\", \"gridcolor\": \"white\", \"gridwidth\": 2, \"linecolor\": \"white\", \"showbackground\": true, \"ticks\": \"\", \"zerolinecolor\": \"white\"}}, \"shapedefaults\": {\"line\": {\"color\": \"#2a3f5f\"}}, \"ternary\": {\"aaxis\": {\"gridcolor\": \"white\", \"linecolor\": \"white\", \"ticks\": \"\"}, \"baxis\": {\"gridcolor\": \"white\", \"linecolor\": \"white\", \"ticks\": \"\"}, \"bgcolor\": \"#E5ECF6\", \"caxis\": {\"gridcolor\": \"white\", \"linecolor\": \"white\", \"ticks\": \"\"}}, \"title\": {\"x\": 0.05}, \"xaxis\": {\"automargin\": true, \"gridcolor\": \"white\", \"linecolor\": \"white\", \"ticks\": \"\", \"title\": {\"standoff\": 15}, \"zerolinecolor\": \"white\", \"zerolinewidth\": 2}, \"yaxis\": {\"automargin\": true, \"gridcolor\": \"white\", \"linecolor\": \"white\", \"ticks\": \"\", \"title\": {\"standoff\": 15}, \"zerolinecolor\": \"white\", \"zerolinewidth\": 2}}}, \"title\": {\"text\": \"Content distribution by target audience 2012 vs 2015 vs 2020\"}},                        {\"responsive\": true}                    ).then(function(){\n",
       "                            \n",
       "var gd = document.getElementById('5d70c341-ff31-4f33-9c9f-dfd48d95d908');\n",
       "var x = new MutationObserver(function (mutations, observer) {{\n",
       "        var display = window.getComputedStyle(gd).display;\n",
       "        if (!display || display === 'none') {{\n",
       "            console.log([gd, 'removed!']);\n",
       "            Plotly.purge(gd);\n",
       "            observer.disconnect();\n",
       "        }}\n",
       "}});\n",
       "\n",
       "// Listen for the removal of the full notebook cells\n",
       "var notebookContainer = gd.closest('#notebook-container');\n",
       "if (notebookContainer) {{\n",
       "    x.observe(notebookContainer, {childList: true});\n",
       "}}\n",
       "\n",
       "// Listen for the clearing of the current output cell\n",
       "var outputEl = gd.closest('.output');\n",
       "if (outputEl) {{\n",
       "    x.observe(outputEl, {childList: true});\n",
       "}}\n",
       "\n",
       "                        })                };                });            </script>        </div>"
      ]
     },
     "metadata": {},
     "output_type": "display_data"
    }
   ],
   "source": [
    "group_2012 = generate_year_df(data,'2012')\n",
    "group_2015 = generate_year_df(data,'2015')\n",
    "group_2020 = generate_year_df(data,'2020')\n",
    "\n",
    "fig = make_subplots(1, 3, specs=[[{'type':'pie'}, {'type':'pie'}, {'type':'pie'}]],\n",
    "                    subplot_titles=['2012', '2015','2020'])\n",
    "fig.add_trace(go.Pie(labels=group_2012['target_age'], values=group_2012['counts'],scalegroup='one', \n",
    "                     name=\"Target audience 2012\"), 1, 1)\n",
    "\n",
    "fig.add_trace(go.Pie(labels=group_2015['target_age'], values=group_2015['counts'],scalegroup='one', \n",
    "                     name=\"Target audience 2015\"), 1, 2)\n",
    "fig.add_trace(go.Pie(labels=group_2020['target_age'], values=group_2020['counts'],scalegroup='one', \n",
    "                     name=\"Target audience 2020\"), 1, 3)\n",
    "\n",
    "fig.update_traces(textposition='inside',  hoverinfo=\"label+percent+name\",\n",
    "                  marker = dict(line = dict(color = 'white', width = 1),\n",
    "                                colors = ['#3D0C02', '#800000' , '#C11B17','#C0C0C0'],))\n",
    "\n",
    "fig.update_layout(title_text='Content distribution by target audience 2012 vs 2015 vs 2020')\n",
    "fig.show()"
   ]
  },
  {
   "cell_type": "markdown",
   "id": "limiting-thermal",
   "metadata": {
    "papermill": {
     "duration": 0.048919,
     "end_time": "2021-06-22T09:27:06.671941",
     "exception": false,
     "start_time": "2021-06-22T09:27:06.623022",
     "status": "completed"
    },
    "tags": []
   },
   "source": [
    "Conclusion: The above plot shows content distribution by target age. The sizes of te plot is relative to the number of content added in the mentioned years. As it is clear from the plot, there was a huge increase in the number of content from the year 2012 to 2015 to 2020."
   ]
  },
  {
   "cell_type": "code",
   "execution_count": 22,
   "id": "changing-cornell",
   "metadata": {
    "execution": {
     "iopub.execute_input": "2021-06-22T09:27:06.796102Z",
     "iopub.status.busy": "2021-06-22T09:27:06.787953Z",
     "iopub.status.idle": "2021-06-22T09:27:06.939589Z",
     "shell.execute_reply": "2021-06-22T09:27:06.940098Z",
     "shell.execute_reply.started": "2021-06-22T09:18:26.890628Z"
    },
    "papermill": {
     "duration": 0.216429,
     "end_time": "2021-06-22T09:27:06.940274",
     "exception": false,
     "start_time": "2021-06-22T09:27:06.723845",
     "status": "completed"
    },
    "tags": []
   },
   "outputs": [
    {
     "data": {
      "text/html": [
       "<div>                            <div id=\"b0d2545f-1268-43d6-8f01-e7c43f069893\" class=\"plotly-graph-div\" style=\"height:525px; width:100%;\"></div>            <script type=\"text/javascript\">                require([\"plotly\"], function(Plotly) {                    window.PLOTLYENV=window.PLOTLYENV || {};                                    if (document.getElementById(\"b0d2545f-1268-43d6-8f01-e7c43f069893\")) {                    Plotly.newPlot(                        \"b0d2545f-1268-43d6-8f01-e7c43f069893\",                        [{\"alignmentgroup\": \"True\", \"bingroup\": \"x\", \"hovertemplate\": \"country_main=%{x}<br>count=%{y}<extra></extra>\", \"legendgroup\": \"\", \"marker\": {\"color\": \"indianred\"}, \"name\": \"\", \"offsetgroup\": \"\", \"orientation\": \"v\", \"showlegend\": false, \"type\": \"histogram\", \"x\": [\"Brazil\", \"Mexico\", \"Singapore\", \"United States\", \"United States\", \"Turkey\", \"Egypt\", \"United States\", \"India\", \"India\", \"United States\", \"Poland\", \"Mexico\", \"Thailand\", \"United States\", \"Nigeria\", \"United States\", \"Norway\", \"India\", \"United Kingdom\", \"India\", \"India\", \"India\", \"India\", \"Japan\", \"United States\", \"United States\", \"South Korea\", \"Italy\", \"United States\", \"Canada\", \"Indonesia\", \"Indonesia\", \"United States\", \"Canada\", \"United States\", \"Romania\", \"Romania\", \"United States\", \"Spain\", \"Turkey\", \"Iceland\", \"Turkey\", \"Nigeria\", \"United States\", \"Turkey\", \"United States\", \"United States\", \"South Africa\", \"France\", \"United States\", \"South Korea\", \"Spain\", \"United States\", \"Portugal\", \"United States\", \"United States\", \"Indonesia\", \"United Kingdom\", \"India\", \"United States\", \"South Korea\", \"United States\", \"United States\", \"United States\", \"United States\", \"United States\", \"United States\", \"Hong Kong\", \"United States\", \"United States\", \"United States\", \"United States\", \"Italy\", \"Spain\", \"United States\", \"United States\", \"France\", \"India\", \"United States\", \"Turkey\", \"South Korea\", \"United Kingdom\", \"United States\", \"United States\", \"United Kingdom\", \"India\", \"Canada\", \"United States\", \"South Africa\", \"India\", \"South Korea\", \"Argentina\", \"United Kingdom\", \"United States\", \"South Korea\", \"United States\", \"United States\", \"United States\", \"Indonesia\", \"India\", \"Canada\", \"Germany\", \"Egypt\", \"United States\", \"Denmark\", \"Poland\", \"Japan\", \"United States\", \"Kenya\", \"United States\", \"Italy\", \"Spain\", \"Canada\", \"Spain\", \"United States\", \"Nigeria\", \"United States\", \"United States\", \"Italy\", \"United States\", \"United States\", \"United States\", \"Indonesia\", \"Romania\", \"United States\", \"New Zealand\", \"United States\", \"United States\", \"India\", \"United States\", \"United States\", \"India\", \"Spain\", \"United States\", \"Pakistan\", \"India\", \"Australia\", \"Australia\", \"Australia\", \"Australia\", \"United States\", \"United States\", \"India\", \"Nigeria\", \"Australia\", \"Mexico\", \"United States\", \"United States\", \"China\", \"India\", \"United States\", \"Taiwan\", \"United States\", \"United States\", \"United States\", \"Turkey\", \"Taiwan\", \"Canada\", \"United States\", \"United States\", \"United States\", \"France\", \"United States\", \"United States\", \"United Kingdom\", \"United States\", \"United States\", \"United States\", \"Netherlands\", \"Canada\", \"United States\", \"India\", \"Denmark\", \"United States\", \"United States\", \"United States\", \"United States\", \"United States\", \"United States\", \"Taiwan\", \"United Kingdom\", \"United States\", \"United States\", \"United States\", \"Germany\", \"United States\", \"Hong Kong\", \"Taiwan\", \"United States\", \"United States\", \"South Korea\", \"France\", \"United States\", \"Argentina\", \"United States\", \"United Kingdom\", \"United States\", \"China\", \"South Korea\", \"United States\", \"Philippines\", \"South Korea\", \"France\", \"United States\", \"United Kingdom\", \"United Arab Emirates\", \"United States\", \"Brazil\", \"United States\", \"United States\", \"Netherlands\", \"United Kingdom\", \"Germany\", \"United States\", \"United States\", \"United Kingdom\", \"United States\", \"Brazil\", \"Spain\", \"Canada\", \"India\", \"Philippines\", \"United States\", \"Iran\", \"United States\", \"United States\", \"United Kingdom\", \"Japan\", \"United States\", \"Argentina\", \"United States\", \"United States\", \"United States\", \"Taiwan\", \"Taiwan\", \"Israel\", \"United States\", \"United States\", \"Taiwan\", \"United States\", \"Taiwan\", \"United States\", \"Nigeria\", \"India\", \"Uruguay\", \"United States\", \"United States\", \"France\", \"Philippines\", \"United States\", \"India\", \"United States\", \"Japan\", \"Canada\", \"United States\", \"United States\", \"Singapore\", \"United Kingdom\", \"United States\", \"Japan\", \"Canada\", \"United States\", \"Turkey\", \"India\", \"India\", \"India\", \"India\", \"India\", \"India\", \"India\", \"India\", \"India\", \"India\", \"India\", \"India\", \"United States\", \"India\", \"India\", \"India\", \"Egypt\", \"United States\", \"Pakistan\", \"India\", \"South Korea\", \"United States\", \"United Kingdom\", \"United Kingdom\", \"United States\", \"United States\", \"South Korea\", \"Argentina\", \"Mexico\", \"Hong Kong\", \"China\", \"United States\", \"Canada\", \"United States\", \"United States\", \"Turkey\", \"India\", \"Bulgaria\", \"Canada\", \"France\", \"Spain\", \"United States\", \"United States\", \"United States\", \"United States\", \"France\", \"United States\", \"India\", \"India\", \"Australia\", \"Hong Kong\", \"India\", \"United States\", \"Canada\", \"United Arab Emirates\", \"United States\", \"Brazil\", \"United Kingdom\", \"Brazil\", \"United States\", \"United Kingdom\", \"United States\", \"United States\", \"United States\", \"United States\", \"United States\", \"United Kingdom\", \"United States\", \"United States\", \"Singapore\", \"United Kingdom\", \"United Kingdom\", \"United States\", \"Taiwan\", \"Germany\", \"Mauritius\", \"India\", \"Japan\", \"Japan\", \"India\", \"Argentina\", \"India\", \"India\", \"United States\", \"Japan\", \"Japan\", \"United Kingdom\", \"United States\", \"United States\", \"India\", \"India\", \"India\", \"India\", \"United States\", \"India\", \"United States\", \"Japan\", \"India\", \"India\", \"Japan\", \"India\", \"United States\", \"United States\", \"Lebanon\", \"India\", \"United States\", \"Mexico\", \"Egypt\", \"United States\", \"India\", \"United States\", \"Colombia\", \"Spain\", \"Uruguay\", \"Mexico\", \"United States\", \"United States\", \"Egypt\", \"France\", \"Uruguay\", \"United Arab Emirates\", \"Turkey\", \"United States\", \"United States\", \"Australia\", \"Canada\", \"United States\", \"Soviet Union\", \"United States\", \"Japan\", \"Brazil\", \"United States\", \"United States\", \"United States\", \"United Kingdom\", \"United States\", \"United States\", \"Sweden\", \"South Africa\", \"United States\", \"United States\", \"United States\", \"Malaysia\", \"United States\", \"Ireland\", \"Colombia\", \"Spain\", \"United States\", \"United States\", \"United States\", \"United States\", \"United States\", \"Philippines\", \"United States\", \"United States\", \"United Kingdom\", \"Mexico\", \"Brazil\", \"United States\", \"Hong Kong\", \"Germany\", \"United States\", \"Argentina\", \"United States\", \"United States\", \"United Kingdom\", \"Philippines\", \"United States\", \"United States\", \"United States\", \"United Kingdom\", \"United States\", \"United States\", \"United States\", \"Japan\", \"United States\", \"Colombia\", \"Philippines\", \"Denmark\", \"South Africa\", \"Spain\", \"United Kingdom\", \"India\", \"Egypt\", \"United States\", \"United Kingdom\", \"United Kingdom\", \"United States\", \"United States\", \"United States\", \"United States\", \"United States\", \"United States\", \"United States\", \"United States\", \"United States\", \"United States\", \"United States\", \"United States\", \"United States\", \"Canada\", \"Canada\", \"United States\", \"United Kingdom\", \"United States\", \"United States\", \"United States\", \"United States\", \"United States\", \"United States\", \"United States\", \"United States\", \"United States\", \"India\", \"Philippines\", \"Turkey\", \"India\", \"United Kingdom\", \"United States\", \"United States\", \"India\", \"United States\", \"United States\", \"United States\", \"United States\", \"France\", \"Egypt\", \"United Kingdom\", \"Egypt\", \"United States\", \"Taiwan\", \"United States\", \"Serbia\", \"Colombia\", \"Egypt\", \"Brazil\", \"India\", \"India\", \"Spain\", \"Canada\", \"United States\", \"Iceland\", \"Egypt\", \"India\", \"India\", \"United States\", \"India\", \"Singapore\", \"France\", \"United States\", \"India\", \"Taiwan\", \"Japan\", \"United States\", \"United States\", \"Ireland\", \"United States\", \"United States\", \"United States\", \"Finland\", \"India\", \"United States\", \"India\", \"United Kingdom\", \"China\", \"China\", \"Spain\", \"Brazil\", \"India\", \"India\", \"India\", \"United States\", \"India\", \"India\", \"United States\", \"Canada\", \"Japan\", \"United Kingdom\", \"Brazil\", \"United States\", \"South Korea\", \"United States\", \"United States\", \"Egypt\", \"United States\", \"United States\", \"United States\", \"United States\", \"India\", \"United States\", \"United States\", \"India\", \"Japan\", \"United States\", \"Argentina\", \"Spain\", \"India\", \"United States\", \"United States\", \"United Kingdom\", \"France\", \"United States\", \"France\", \"United States\", \"Colombia\", \"Japan\", \"United States\", \"India\", \"France\", \"Egypt\", \"United States\", \"Netherlands\", \"South Korea\", \"Iceland\", \"United States\", \"United States\", \"Indonesia\", \"India\", \"Canada\", \"United States\", \"United States\", \"United States\", \"South Korea\", \"United States\", \"United Kingdom\", \"India\", \"Indonesia\", \"United States\", \"United States\", \"India\", \"India\", \"United States\", \"China\", \"Australia\", \"United States\", \"India\", \"United States\", \"Norway\", \"United States\", \"United States\", \"Peru\", \"India\", \"South Korea\", \"United States\", \"Canada\", \"Taiwan\", \"Japan\", \"United States\", \"France\", \"United States\", \"United States\", \"Canada\", \"Japan\", \"United Kingdom\", \"Chile\", \"United States\", \"United States\", \"Australia\", \"Romania\", \"United Kingdom\", \"Australia\", \"United States\", \"United States\", \"United States\", \"India\", \"Bulgaria\", \"Taiwan\", \"United States\", \"United States\", \"Indonesia\", \"United Kingdom\", \"United States\", \"Sweden\", \"United Kingdom\", \"United States\", \"United States\", \"United States\", \"United States\", \"India\", \"India\", \"India\", \"Mexico\", \"Ghana\", \"India\", \"United States\", \"United States\", \"United States\", \"Japan\", \"India\", \"India\", \"India\", \"India\", \"India\", \"United States\", \"United States\", \"United States\", \"India\", \"United States\", \"United States\", \"India\", \"Turkey\", \"Turkey\", \"France\", \"United States\", \"Italy\", \"United Kingdom\", \"India\", \"South Africa\", \"Germany\", \"India\", \"Brazil\", \"Australia\", \"Japan\", \"Taiwan\", \"United States\", \"Thailand\", \"United States\", \"Canada\", \"United States\", \"United States\", \"Australia\", \"Canada\", \"India\", \"United States\", \"United States\", \"United Kingdom\", \"United Kingdom\", \"Thailand\", \"United States\", \"South Korea\", \"South Korea\", \"Singapore\", \"United States\", \"France\", \"India\", \"India\", \"India\", \"United States\", \"United States\", \"Japan\", \"United States\", \"Japan\", \"United States\", \"Chile\", \"United States\", \"United States\", \"United States\", \"Pakistan\", \"Turkey\", \"Nigeria\", \"United States\", \"United States\", \"United States\", \"India\", \"Thailand\", \"India\", \"United States\", \"Thailand\", \"Thailand\", \"United States\", \"Thailand\", \"Thailand\", \"Thailand\", \"Thailand\", \"Spain\", \"India\", \"Saudi Arabia\", \"Germany\", \"Australia\", \"United States\", \"United States\", \"United States\", \"United States\", \"United States\", \"United States\", \"United States\", \"United States\", \"United States\", \"United States\", \"United States\", \"United States\", \"United States\", \"United States\", \"United States\", \"United States\", \"Philippines\", \"India\", \"India\", \"United States\", \"India\", \"Chile\", \"United States\", \"India\", \"United States\", \"United States\", \"United States\", \"Italy\", \"United States\", \"India\", \"United States\", \"United States\", \"Norway\", \"United States\", \"United States\", \"United Kingdom\", \"United States\", \"India\", \"Namibia\", \"Mexico\", \"India\", \"India\", \"United States\", \"United States\", \"Taiwan\", \"Taiwan\", \"Russia\", \"Germany\", \"United Kingdom\", \"United States\", \"Canada\", \"Japan\", \"United States\", \"Australia\", \"Australia\", \"South Korea\", \"United States\", \"Mexico\", \"Canada\", \"Philippines\", \"United States\", \"United States\", \"United States\", \"Indonesia\", \"South Korea\", \"Egypt\", \"United States\", \"Mexico\", \"United Kingdom\", \"United States\", \"United States\", \"United States\", \"Nigeria\", \"United States\", \"United States\", \"United States\", \"Egypt\", \"Japan\", \"United States\", \"United States\", \"United States\", \"United States\", \"Turkey\", \"India\", \"United Kingdom\", \"United States\", \"United States\", \"Nigeria\", \"United States\", \"Lebanon\", \"Belgium\", \"New Zealand\", \"United States\", \"Uruguay\", \"Canada\", \"United Kingdom\", \"United States\", \"United States\", \"United States\", \"United States\", \"United States\", \"United Arab Emirates\", \"United States\", \"United States\", \"United States\", \"Germany\", \"Turkey\", \"Australia\", \"Germany\", \"Germany\", \"Japan\", \"Japan\", \"Japan\", \"United States\", \"United States\", \"United States\", \"United States\", \"South Korea\", \"United States\", \"United States\", \"Canada\", \"United States\", \"United States\", \"India\", \"United States\", \"United States\", \"Russia\", \"United States\", \"United States\", \"Canada\", \"Philippines\", \"United States\", \"Spain\", \"India\", \"Egypt\", \"Japan\", \"United States\", \"Japan\", \"United States\", \"Japan\", \"Turkey\", \"United States\", \"United States\", \"United States\", \"United States\", \"India\", \"India\", \"India\", \"India\", \"India\", \"India\", \"India\", \"India\", \"India\", \"India\", \"India\", \"United States\", \"India\", \"India\", \"India\", \"India\", \"Germany\", \"Germany\", \"Germany\", \"Germany\", \"United States\", \"United States\", \"United States\", \"United States\", \"United Kingdom\", \"United States\", \"United States\", \"United States\", \"United States\", \"United States\", \"Denmark\", \"United States\", \"France\", \"United States\", \"United Kingdom\", \"United States\", \"United States\", \"United States\", \"United States\", \"United States\", \"United States\", \"United Kingdom\", \"United States\", \"United Kingdom\", \"United Kingdom\", \"United States\", \"United States\", \"United States\", \"India\", \"United Kingdom\", \"United States\", \"United States\", \"India\", \"Germany\", \"India\", \"Turkey\", \"United States\", \"United States\", \"Philippines\", \"Canada\", \"United States\", \"Vietnam\", \"Canada\", \"Spain\", \"Egypt\", \"India\", \"India\", \"Ireland\", \"United States\", \"Japan\", \"Saudi Arabia\", \"United Kingdom\", \"India\", \"United States\", \"Turkey\", \"United States\", \"United States\", \"Spain\", \"United Kingdom\", \"United States\", \"Turkey\", \"United States\", \"Russia\", \"United Kingdom\", \"United States\", \"United States\", \"Argentina\", \"France\", \"Canada\", \"United States\", \"United States\", \"United States\", \"Japan\", \"United States\", \"Japan\", \"Japan\", \"Japan\", \"Japan\", \"United States\", \"Germany\", \"France\", \"Hong Kong\", \"United States\", \"Australia\", \"South Africa\", \"France\", \"Thailand\", \"South Africa\", \"France\", \"India\", \"United States\", \"Brazil\", \"Argentina\", \"United States\", \"Norway\", \"United States\", \"Canada\", \"Japan\", \"France\", \"United States\", \"United States\", \"United States\", \"United Kingdom\", \"United States\", \"Germany\", \"United States\", \"India\", \"Canada\", \"Japan\", \"Thailand\", \"United States\", \"United States\", \"Canada\", \"United States\", \"United States\", \"Canada\", \"Denmark\", \"United States\", \"India\", \"India\", \"United States\", \"United Kingdom\", \"Ireland\", \"United States\", \"India\", \"India\", \"Spain\", \"United States\", \"United States\", \"United States\", \"Colombia\", \"India\", \"United States\", \"Spain\", \"United Arab Emirates\", \"India\", \"New Zealand\", \"United States\", \"Netherlands\", \"Canada\", \"Canada\", \"Australia\", \"United States\", \"United States\", \"Sweden\", \"Russia\", \"United States\", \"India\", \"United States\", \"Canada\", \"United Kingdom\", \"Norway\", \"Finland\", \"Denmark\", \"Brazil\", \"Philippines\", \"Spain\", \"Denmark\", \"New Zealand\", \"United States\", \"United Kingdom\", \"India\", \"Lebanon\", \"United Kingdom\", \"United States\", \"Canada\", \"Singapore\", \"Egypt\", \"Brazil\", \"United States\", \"Spain\", \"Bulgaria\", \"South Korea\", \"United States\", \"India\", \"United States\", \"United States\", \"United States\", \"United States\", \"United States\", \"Canada\", \"United States\", \"United States\", \"Canada\", \"United States\", \"United States\", \"France\", \"United States\", \"India\", \"Hong Kong\", \"United States\", \"United States\", \"India\", \"United Kingdom\", \"United States\", \"Australia\", \"United States\", \"United States\", \"United States\", \"United States\", \"Philippines\", \"Indonesia\", \"United States\", \"United Kingdom\", \"United States\", \"United States\", \"India\", \"South Korea\", \"United States\", \"United States\", \"United Kingdom\", \"United States\", \"Taiwan\", \"United States\", \"France\", \"Turkey\", \"United States\", \"Brazil\", \"China\", \"India\", \"United States\", \"Canada\", \"Canada\", \"Canada\", \"India\", \"France\", \"United States\", \"United Kingdom\", \"Brazil\", \"United States\", \"United States\", \"India\", \"Indonesia\", \"Netherlands\", \"India\", \"India\", \"Bulgaria\", \"United States\", \"United States\", \"United States\", \"United States\", \"United States\", \"United States\", \"United States\", \"United States\", \"France\", \"Turkey\", \"South Korea\", \"United States\", \"United States\", \"United Kingdom\", \"United States\", \"South Korea\", \"United States\", \"United States\", \"Philippines\", \"Philippines\", \"France\", \"Kuwait\", \"Turkey\", \"India\", \"India\", \"Belgium\", \"United States\", \"United Kingdom\", \"Spain\", \"Norway\", \"Japan\", \"Indonesia\", \"Argentina\", \"South Korea\", \"Egypt\", \"United Kingdom\", \"India\", \"United Kingdom\", \"United States\", \"United States\", \"United States\", \"United States\", \"United States\", \"Sweden\", \"Italy\", \"France\", \"United Kingdom\", \"United States\", \"United States\", \"United States\", \"Spain\", \"Mexico\", \"United States\", \"United States\", \"Canada\", \"United States\", \"South Korea\", \"Canada\", \"Ireland\", \"United States\", \"Philippines\", \"Egypt\", \"United States\", \"Taiwan\", \"India\", \"United States\", \"France\", \"United States\", \"United States\", \"France\", \"India\", \"United States\", \"United States\", \"United Kingdom\", \"United States\", \"France\", \"Ireland\", \"Japan\", \"United States\", \"United States\", \"India\", \"Philippines\", \"India\", \"United States\", \"Mexico\", \"Mexico\", \"Argentina\", \"United States\", \"Canada\", \"United Kingdom\", \"Japan\", \"United States\", \"United States\", \"United States\", \"United States\", \"France\", \"Iceland\", \"United States\", \"Japan\", \"United Kingdom\", \"Hong Kong\", \"Hong Kong\", \"United States\", \"Nigeria\", \"United States\", \"United States\", \"United States\", \"United States\", \"South Africa\", \"China\", \"United States\", \"Spain\", \"United States\", \"Canada\", \"United Kingdom\", \"Norway\", \"United States\", \"United States\", \"Japan\", \"India\", \"Indonesia\", \"United States\", \"India\", \"India\", \"India\", \"India\", \"India\", \"India\", \"Pakistan\", \"United States\", \"India\", \"India\", \"India\", \"United States\", \"India\", \"United States\", \"India\", \"Germany\", \"United States\", \"Indonesia\", \"United States\", \"South Africa\", \"Germany\", \"United States\", \"United Kingdom\", \"United States\", \"United States\", \"United States\", \"United States\", \"United States\", \"Canada\", \"India\", \"India\", \"United States\", \"United States\", \"United States\", \"Canada\", \"Hong Kong\", \"United States\", \"Brazil\", \"India\", \"Australia\", \"Indonesia\", \"United States\", \"United States\", \"United States\", \"South Korea\", \"United States\", \"South Korea\", \"United States\", \"United States\", \"United States\", \"United States\", \"United States\", \"United States\", \"United States\", \"India\", \"United States\", \"United States\", \"United Kingdom\", \"United Kingdom\", \"India\", \"India\", \"United States\", \"United States\", \"United States\", \"United States\", \"India\", \"South Korea\", \"India\", \"United States\", \"United States\", \"United States\", \"United States\", \"Nigeria\", \"South Korea\", \"United States\", \"Lebanon\", \"United Kingdom\", \"Japan\", \"Japan\", \"United States\", \"India\", \"United States\", \"China\", \"United States\", \"United Kingdom\", \"India\", \"United States\", \"United Kingdom\", \"United States\", \"South Korea\", \"United States\", \"India\", \"India\", \"China\", \"United States\", \"United States\", \"United States\", \"United States\", \"United States\", \"United States\", \"United States\", \"United States\", \"United States\", \"United States\", \"United Kingdom\", \"United States\", \"Germany\", \"Canada\", \"United States\", \"United States\", \"United States\", \"United Kingdom\", \"Canada\", \"Canada\", \"Canada\", \"United States\", \"United States\", \"United States\", \"Argentina\", \"United States\", \"India\", \"United States\", \"United States\", \"United States\", \"United States\", \"Malaysia\", \"India\", \"Pakistan\", \"India\", \"United Kingdom\", \"India\", \"Turkey\", \"South Korea\", \"United States\", \"United States\", \"United States\", \"United States\", \"United States\", \"United States\", \"United States\", \"Nigeria\", \"Taiwan\", \"United Kingdom\", \"Brazil\", \"Brazil\", \"United States\", \"United Kingdom\", \"United Kingdom\", \"Turkey\", \"Japan\", \"United States\", \"United States\", \"United States\", \"India\", \"United States\", \"India\", \"Spain\", \"United States\", \"Australia\", \"United States\", \"United Kingdom\", \"United States\", \"United States\", \"United Kingdom\", \"France\", \"Taiwan\", \"United Kingdom\", \"Germany\", \"France\", \"United States\", \"United States\", \"United States\", \"Mexico\", \"United States\", \"United States\", \"United States\", \"United States\", \"United States\", \"United States\", \"United States\", \"Mexico\", \"United States\", \"United States\", \"United States\", \"United Kingdom\", \"Spain\", \"Mexico\", \"United States\", \"United States\", \"Canada\", \"Japan\", \"France\", \"United States\", \"United States\", \"Italy\", \"India\", \"United States\", \"United States\", \"United States\", \"Nigeria\", \"South Africa\", \"United States\", \"United States\", \"United States\", \"India\", \"United Kingdom\", \"India\", \"Germany\", \"United States\", \"South Korea\", \"India\", \"Canada\", \"United States\", \"United States\", \"United States\", \"United States\", \"United States\", \"United States\", \"United States\", \"Mexico\", \"India\", \"United Kingdom\", \"United States\", \"Czech Republic\", \"United States\", \"Vietnam\", \"United Kingdom\", \"Ireland\", \"Turkey\", \"Turkey\", \"United Kingdom\", \"United States\", \"India\", \"Mexico\", \"United States\", \"United States\", \"Zimbabwe\", \"United States\", \"United States\", \"United States\", \"United States\", \"Canada\", \"United States\", \"United States\", \"United States\", \"United States\", \"United States\", \"Netherlands\", \"United States\", \"Canada\", \"United States\", \"United States\", \"Nigeria\", \"Brazil\", \"Australia\", \"United States\", \"United States\", \"United States\", \"United States\", \"United States\", \"United States\", \"South Korea\", \"United Kingdom\", \"Indonesia\", \"Philippines\", \"United Kingdom\", \"United States\", \"Nigeria\", \"Nigeria\", \"United Kingdom\", \"India\", \"United States\", \"Argentina\", \"United States\", \"United States\", \"United Kingdom\", \"India\", \"Mexico\", \"Mexico\", \"France\", \"United States\", \"United States\", \"Germany\", \"Spain\", \"United Kingdom\", \"United States\", \"United States\", \"United States\", \"Malaysia\", \"Taiwan\", \"China\", \"United States\", \"United Kingdom\", \"Philippines\", \"United States\", \"United States\", \"Canada\", \"Italy\", \"United Kingdom\", \"Hungary\", \"United States\", \"United States\", \"France\", \"Japan\", \"Japan\", \"India\", \"United States\", \"United States\", \"United States\", \"United States\", \"Turkey\", \"Turkey\", \"United States\", \"Australia\", \"India\", \"Turkey\", \"Turkey\", \"Turkey\", \"United States\", \"Mexico\", \"United Kingdom\", \"United States\", \"United States\", \"Argentina\", \"India\", \"United States\", \"United States\", \"United States\", \"United States\", \"United States\", \"Australia\", \"Germany\", \"United States\", \"United States\", \"United States\", \"Germany\", \"United States\", \"Mexico\", \"India\", \"United Kingdom\", \"United Kingdom\", \"United States\", \"United Kingdom\", \"United States\", \"Mexico\", \"Mexico\", \"United States\", \"United States\", \"Indonesia\", \"France\", \"United States\", \"United States\", \"Ireland\", \"Germany\", \"India\", \"United Kingdom\", \"Mexico\", \"Mexico\", \"United States\", \"Canada\", \"United States\", \"United States\", \"New Zealand\", \"Egypt\", \"India\", \"India\", \"India\", \"United States\", \"United States\", \"Brazil\", \"United States\", \"United Kingdom\", \"United States\", \"United States\", \"United States\", \"United States\", \"United States\", \"Sweden\", \"United Kingdom\", \"United States\", \"Canada\", \"United States\", \"United States\", \"United States\", \"China\", \"Bulgaria\", \"United States\", \"Taiwan\", \"United States\", \"United States\", \"United States\", \"Netherlands\", \"United States\", \"United Kingdom\", \"Philippines\", \"United Kingdom\", \"United States\", \"United States\", \"India\", \"United States\", \"United States\", \"Finland\", \"United States\", \"United States\", \"India\", \"United States\", \"Taiwan\", \"South Korea\", \"Canada\", \"United States\", \"India\", \"United States\", \"United States\", \"Colombia\", \"United States\", \"United States\", \"United States\", \"United States\", \"United States\", \"United Kingdom\", \"Turkey\", \"India\", \"Spain\", \"United States\", \"Australia\", \"India\", \"India\", \"United States\", \"United States\", \"United States\", \"Canada\", \"United States\", \"India\", \"India\", \"India\", \"Turkey\", \"Turkey\", \"United States\", \"United States\", \"United States\", \"United States\", \"Denmark\", \"United States\", \"United States\", \"United States\", \"United States\", \"United Kingdom\", \"United States\", \"United States\", \"United Kingdom\", \"United Kingdom\", \"United States\", \"United Kingdom\", \"United Kingdom\", \"United States\", \"South Korea\", \"Argentina\", \"United States\", \"United States\", \"United States\", \"Argentina\", \"Spain\", \"France\", \"Taiwan\", \"Egypt\", \"United Kingdom\", \"United States\", \"India\", \"United States\", \"Finland\", \"Canada\", \"Japan\", \"India\", \"India\", \"United States\", \"India\", \"United Kingdom\", \"India\", \"India\", \"India\", \"India\", \"Malaysia\", \"India\", \"India\", \"China\", \"Mexico\", \"United States\", \"United States\", \"China\", \"United States\", \"United Kingdom\", \"United Kingdom\", \"France\", \"United States\", \"United Kingdom\", \"South Africa\", \"Germany\", \"United States\", \"United States\", \"India\", \"India\", \"India\", \"India\", \"India\", \"India\", \"Indonesia\", \"Indonesia\", \"India\", \"United States\", \"United States\", \"United States\", \"Canada\", \"Japan\", \"United States\", \"United States\", \"United States\", \"United States\", \"Egypt\", \"Hong Kong\", \"United States\", \"India\", \"Kenya\", \"United States\", \"United States\", \"United States\", \"United States\", \"South Africa\", \"United States\", \"France\", \"Brazil\", \"United States\", \"France\", \"South Korea\", \"India\", \"India\", \"United Kingdom\", \"United States\", \"United States\", \"United States\", \"United States\", \"Germany\", \"United States\", \"Lebanon\", \"India\", \"United Kingdom\", \"United States\", \"United States\", \"United States\", \"United States\", \"Denmark\", \"India\", \"India\", \"United States\", \"United States\", \"United States\", \"France\", \"France\", \"France\", \"United Kingdom\", \"Hong Kong\", \"Hong Kong\", \"United Kingdom\", \"United Kingdom\", \"United States\", \"Spain\", \"United States\", \"United States\", \"United Kingdom\", \"United States\", \"United States\", \"India\", \"United States\", \"India\", \"Japan\", \"India\", \"Brazil\", \"United States\", \"China\", \"Hong Kong\", \"United States\", \"Russia\", \"United States\", \"United States\", \"United States\", \"United States\", \"France\", \"United States\", \"United Kingdom\", \"Japan\", \"Japan\", \"Hong Kong\", \"United States\", \"United States\", \"United States\", \"United States\", \"United States\", \"United States\", \"United States\", \"United States\", \"United States\", \"United States\", \"United States\", \"United States\", \"United States\", \"United States\", \"United States\", \"Germany\", \"United States\", \"United States\", \"United States\", \"United States\", \"United States\", \"United States\", \"United States\", \"United States\", \"United States\", \"United States\", \"Germany\", \"Japan\", \"Hong Kong\", \"India\", \"India\", \"United States\", \"United States\", \"United States\", \"Spain\", \"United States\", \"United States\", \"Chile\", \"Japan\", \"United States\", \"China\", \"United States\", \"United States\", \"Pakistan\", \"India\", \"United States\", \"United States\", \"India\", \"India\", \"Japan\", \"United States\", \"Spain\", \"United States\", \"United Kingdom\", \"United States\", \"France\", \"United States\", \"Brazil\", \"United Kingdom\", \"United States\", \"United Kingdom\", \"United States\", \"United States\", \"United States\", \"United States\", \"Taiwan\", \"United States\", \"India\", \"United States\", \"United Kingdom\", \"United States\", \"United States\", \"United States\", \"United States\", \"United States\", \"United Kingdom\", \"Argentina\", \"Brazil\", \"Italy\", \"India\", \"India\", \"Philippines\", \"United Kingdom\", \"Indonesia\", \"India\", \"France\", \"Egypt\", \"India\", \"India\", \"India\", \"India\", \"India\", \"India\", \"Turkey\", \"United States\", \"Spain\", \"United States\", \"United States\", \"Colombia\", \"Colombia\", \"Mexico\", \"Mexico\", \"Venezuela\", \"United States\", \"Spain\", \"Mexico\", \"United States\", \"Mexico\", \"Mexico\", \"Spain\", \"United States\", \"Argentina\", \"Argentina\", \"United States\", \"Chile\", \"United States\", \"Colombia\", \"Mexico\", \"Colombia\", \"United States\", \"United States\", \"Egypt\", \"India\", \"Brazil\", \"Netherlands\", \"Nigeria\", \"United States\", \"United States\", \"United States\", \"Spain\", \"Spain\", \"United Kingdom\", \"United States\", \"United States\", \"France\", \"United States\", \"United States\", \"Canada\", \"United Kingdom\", \"United States\", \"India\", \"Brazil\", \"United States\", \"United States\", \"Indonesia\", \"Australia\", \"United States\", \"Czech Republic\", \"Canada\", \"United States\", \"United States\", \"India\", \"United Kingdom\", \"United States\", \"United States\", \"United States\", \"Canada\", \"India\", \"India\", \"Germany\", \"United States\", \"United Kingdom\", \"South Korea\", \"Canada\", \"United States\", \"Hong Kong\", \"France\", \"United Kingdom\", \"United States\", \"United States\", \"United States\", \"Denmark\", \"Japan\", \"United States\", \"United States\", \"Spain\", \"United States\", \"Poland\", \"Egypt\", \"United States\", \"Argentina\", \"Mexico\", \"China\", \"India\", \"Turkey\", \"Egypt\", \"Italy\", \"United States\", \"United States\", \"United States\", \"Japan\", \"Spain\", \"United Kingdom\", \"Spain\", \"India\", \"United Kingdom\", \"Canada\", \"United States\", \"Spain\", \"Philippines\", \"United Kingdom\", \"Philippines\", \"United States\", \"United States\", \"United States\", \"United States\", \"India\", \"United Kingdom\", \"China\", \"Spain\", \"United States\", \"United States\", \"Philippines\", \"United States\", \"Norway\", \"United States\", \"United States\", \"United States\", \"Germany\", \"Japan\", \"United States\", \"United States\", \"United States\", \"United States\", \"South Korea\", \"United Kingdom\", \"United States\", \"United States\", \"United States\", \"Spain\", \"Turkey\", \"Turkey\", \"Turkey\", \"Turkey\", \"United States\", \"United States\", \"United States\", \"United States\", \"Chile\", \"India\", \"United States\", \"France\", \"Japan\", \"United States\", \"United Kingdom\", \"Singapore\", \"India\", \"United States\", \"Taiwan\", \"United States\", \"Sweden\", \"United States\", \"Mexico\", \"United States\", \"South Korea\", \"Germany\", \"United States\", \"France\", \"United States\", \"India\", \"United Arab Emirates\", \"United States\", \"Poland\", \"India\", \"Canada\", \"Philippines\", \"Australia\", \"Egypt\", \"Russia\", \"France\", \"France\", \"India\", \"United States\", \"United States\", \"United States\", \"United States\", \"United States\", \"Japan\", \"Japan\", \"Japan\", \"Japan\", \"Japan\", \"United Kingdom\", \"United States\", \"United States\", \"India\", \"Israel\", \"United States\", \"United States\", \"India\", \"Canada\", \"United Kingdom\", \"United States\", \"United States\", \"United States\", \"United States\", \"Brazil\", \"Germany\", \"United States\", \"Colombia\", \"Argentina\", \"India\", \"United States\", \"India\", \"United States\", \"Poland\", \"Nigeria\", \"United States\", \"Nigeria\", \"United Kingdom\", \"United States\", \"United States\", \"Turkey\", \"United States\", \"Indonesia\", \"United States\", \"United States\", \"United States\", \"Japan\", \"Philippines\", \"United States\", \"Philippines\", \"Italy\", \"United States\", \"United States\", \"India\", \"India\", \"India\", \"United Kingdom\", \"United States\", \"United States\", \"Japan\", \"United States\", \"United States\", \"United Kingdom\", \"Netherlands\", \"Philippines\", \"United States\", \"United States\", \"Cambodia\", \"United Kingdom\", \"United Kingdom\", \"United States\", \"United States\", \"Brazil\", \"United States\", \"India\", \"United Arab Emirates\", \"United States\", \"Hong Kong\", \"United States\", \"United States\", \"India\", \"United States\", \"Canada\", \"China\", \"China\", \"Egypt\", \"United Kingdom\", \"United States\", \"United States\", \"United States\", \"South Korea\", \"United Kingdom\", \"Hong Kong\", \"United Arab Emirates\", \"United States\", \"Japan\", \"Argentina\", \"Japan\", \"United States\", \"United States\", \"Spain\", \"United States\", \"United States\", \"Mexico\", \"United States\", \"United Kingdom\", \"United States\", \"Philippines\", \"United States\", \"Canada\", \"United States\", \"Spain\", \"United Kingdom\", \"United States\", \"India\", \"United Kingdom\", \"India\", \"United States\", \"Japan\", \"Brazil\", \"United Kingdom\", \"United States\", \"United Kingdom\", \"Italy\", \"South Korea\", \"United States\", \"United Kingdom\", \"United States\", \"Germany\", \"Spain\", \"Philippines\", \"United Kingdom\", \"United States\", \"United States\", \"United States\", \"United States\", \"Italy\", \"Mexico\", \"Mexico\", \"United States\", \"United States\", \"Germany\", \"United States\", \"United States\", \"United States\", \"United States\", \"United States\", \"Germany\", \"United States\", \"United States\", \"United Kingdom\", \"United States\", \"United States\", \"United States\", \"United States\", \"United States\", \"United States\", \"United Arab Emirates\", \"United States\", \"Egypt\", \"United States\", \"South Africa\", \"United States\", \"United States\", \"Austria\", \"United States\", \"United States\", \"Germany\", \"United States\", \"United States\", \"India\", \"United Arab Emirates\", \"United States\", \"Egypt\", \"United States\", \"France\", \"United States\", \"United States\", \"Canada\", \"United Kingdom\", \"United Kingdom\", \"United Kingdom\", \"United States\", \"United States\", \"Spain\", \"India\", \"United States\", \"India\", \"United States\", \"Canada\", \"United States\", \"United States\", \"Japan\", \"Japan\", \"United States\", \"France\", \"United States\", \"Canada\", \"Vietnam\", \"United States\", \"United States\", \"United States\", \"Italy\", \"United States\", \"Turkey\", \"Turkey\", \"India\", \"United States\", \"United States\", \"Brazil\", \"United States\", \"India\", \"United States\", \"France\", \"India\", \"United States\", \"Russia\", \"United States\", \"Indonesia\", \"India\", \"United States\", \"Egypt\", \"United States\", \"India\", \"United States\", \"United States\", \"Taiwan\", \"United States\", \"France\", \"India\", \"India\", \"United States\", \"Japan\", \"India\", \"Kenya\", \"United States\", \"United States\", \"South Korea\", \"United States\", \"Japan\", \"United States\", \"Indonesia\", \"Indonesia\", \"Taiwan\", \"Nigeria\", \"Japan\", \"India\", \"India\", \"United States\", \"United States\", \"United States\", \"United States\", \"India\", \"United Kingdom\", \"United Kingdom\", \"United States\", \"Sweden\", \"United States\", \"United States\", \"United States\", \"Italy\", \"United Kingdom\", \"United States\", \"France\", \"United States\", \"United States\", \"United Kingdom\", \"United States\", \"United States\", \"Spain\", \"United States\", \"Lebanon\", \"India\", \"India\", \"Thailand\", \"Japan\", \"United States\", \"Japan\", \"Canada\", \"United States\", \"India\", \"Japan\", \"United States\", \"Japan\", \"United States\", \"United Kingdom\", \"India\", \"India\", \"Indonesia\", \"United States\", \"United States\", \"United States\", \"United States\", \"United States\", \"France\", \"United States\", \"United Kingdom\", \"United Kingdom\", \"India\", \"United Kingdom\", \"Netherlands\", \"Thailand\", \"United States\", \"Philippines\", \"Taiwan\", \"United States\", \"United States\", \"United States\", \"United States\", \"India\", \"United States\", \"Japan\", \"Japan\", \"France\", \"United States\", \"United States\", \"Australia\", \"United States\", \"Japan\", \"Japan\", \"United States\", \"United Kingdom\", \"United States\", \"United States\", \"United Kingdom\", \"Australia\", \"United States\", \"United States\", \"Argentina\", \"Argentina\", \"United States\", \"Japan\", \"United States\", \"China\", \"United States\", \"United States\", \"United Kingdom\", \"United States\", \"Japan\", \"Japan\", \"Japan\", \"South Korea\", \"Australia\", \"India\", \"Japan\", \"United Kingdom\", \"United States\", \"United States\", \"Australia\", \"India\", \"India\", \"India\", \"Italy\", \"United States\", \"Turkey\", \"Egypt\", \"United States\", \"Turkey\", \"United States\", \"United States\", \"United States\", \"United States\", \"United States\", \"Egypt\", \"United States\", \"Japan\", \"Brazil\", \"United States\", \"United States\", \"United States\", \"United States\", \"United States\", \"South Korea\", \"United States\", \"United States\", \"United States\", \"United States\", \"Canada\", \"Canada\", \"United States\", \"India\", \"Spain\", \"United States\", \"United States\", \"United States\", \"United States\", \"India\", \"Philippines\", \"United States\", \"South Korea\", \"Germany\", \"Japan\", \"United States\", \"United Kingdom\", \"Spain\", \"India\", \"United States\", \"India\", \"United Arab Emirates\", \"United Arab Emirates\", \"United States\", \"United States\", \"United States\", \"United Kingdom\", \"United States\", \"Japan\", \"United Kingdom\", \"United States\", \"United Kingdom\", \"Taiwan\", \"United Kingdom\", \"Colombia\", \"United States\", \"Nigeria\", \"United States\", \"United States\", \"United Kingdom\", \"Argentina\", \"United States\", \"Canada\", \"Italy\", \"United States\", \"Canada\", \"France\", \"United States\", \"United States\", \"Uruguay\", \"United States\", \"Argentina\", \"India\", \"India\", \"Spain\", \"Canada\", \"India\", \"India\", \"Japan\", \"India\", \"Japan\", \"India\", \"United States\", \"United Kingdom\", \"India\", \"United States\", \"France\", \"Chile\", \"Turkey\", \"Turkey\", \"Australia\", \"Germany\", \"United States\", \"India\", \"India\", \"Indonesia\", \"Spain\", \"Turkey\", \"India\", \"Japan\", \"United States\", \"United States\", \"United Arab Emirates\", \"United Arab Emirates\", \"Nigeria\", \"United States\", \"India\", \"India\", \"United States\", \"United States\", \"United States\", \"India\", \"United States\", \"India\", \"Egypt\", \"Ireland\", \"China\", \"United States\", \"United States\", \"United States\", \"United States\", \"Australia\", \"Australia\", \"United States\", \"United States\", \"Netherlands\", \"United Kingdom\", \"Malaysia\", \"United States\", \"Taiwan\", \"South Korea\", \"United States\", \"Italy\", \"India\", \"United States\", \"United States\", \"India\", \"Thailand\", \"Mexico\", \"United Kingdom\", \"United States\", \"United States\", \"India\", \"India\", \"United States\", \"United States\", \"United Kingdom\", \"Russia\", \"Ireland\", \"United States\", \"India\", \"United States\", \"United States\", \"United States\", \"United States\", \"United States\", \"United Kingdom\", \"United States\", \"Malaysia\", \"United States\", \"United States\", \"United States\", \"India\", \"United States\", \"United States\", \"India\", \"India\", \"Israel\", \"India\", \"Mexico\", \"United States\", \"United States\", \"Indonesia\", \"India\", \"United States\", \"United States\", \"United States\", \"United States\", \"United States\", \"United States\", \"Australia\", \"Canada\", \"United States\", \"India\", \"Turkey\", \"Ireland\", \"India\", \"Germany\", \"France\", \"United States\", \"Canada\", \"United States\", \"United States\", \"Australia\", \"Indonesia\", \"United States\", \"France\", \"United States\", \"United States\", \"Australia\", \"United States\", \"Canada\", \"United States\", \"Lebanon\", \"South Korea\", \"Canada\", \"United States\", \"France\", \"Argentina\", \"Hong Kong\", \"United States\", \"United States\", \"Canada\", \"United States\", \"United States\", \"India\", \"United States\", \"Philippines\", \"South Korea\", \"United States\", \"United States\", \"Philippines\", \"United States\", \"United States\", \"Colombia\", \"United States\", \"India\", \"United States\", \"China\", \"Lebanon\", \"Hong Kong\", \"United States\", \"Spain\", \"United States\", \"India\", \"Denmark\", \"United States\", \"South Korea\", \"Japan\", \"Japan\", \"United States\", \"United States\", \"South Korea\", \"Egypt\", \"India\", \"China\", \"Japan\", \"Japan\", \"Japan\", \"Japan\", \"United States\", \"India\", \"United States\", \"United States\", \"United States\", \"Spain\", \"South Korea\", \"Romania\", \"Thailand\", \"Australia\", \"India\", \"Canada\", \"United States\", \"Japan\", \"United Kingdom\", \"United States\", \"India\", \"United Kingdom\", \"Canada\", \"United Kingdom\", \"United Kingdom\", \"India\", \"Argentina\", \"United States\", \"United Kingdom\", \"India\", \"United States\", \"Australia\", \"United States\", \"United States\", \"West Germany\", \"United Kingdom\", \"United Kingdom\", \"France\", \"Denmark\", \"Pakistan\", \"United States\", \"United Kingdom\", \"United States\", \"Turkey\", \"United States\", \"Australia\", \"South Africa\", \"United States\", \"United States\", \"United States\", \"United States\", \"Germany\", \"United States\", \"United States\", \"United States\", \"Spain\", \"United States\", \"Spain\", \"United States\", \"Thailand\", \"Thailand\", \"India\", \"Norway\", \"United States\", \"United States\", \"United States\", \"United States\", \"United States\", \"Chile\", \"Canada\", \"United States\", \"United States\", \"India\", \"United Kingdom\", \"Hong Kong\", \"United States\", \"United States\", \"United States\", \"United States\", \"India\", \"Thailand\", \"United States\", \"United States\", \"Thailand\", \"United States\", \"United Kingdom\", \"United Kingdom\", \"United Kingdom\", \"India\", \"United States\", \"South Korea\", \"Ireland\", \"United States\", \"United States\", \"United States\", \"United States\", \"Japan\", \"United States\", \"United States\", \"United Kingdom\", \"United States\", \"Turkey\", \"Belgium\", \"Germany\", \"Poland\", \"United States\", \"United States\", \"India\", \"United States\", \"United States\", \"United States\", \"United States\", \"Slovenia\", \"United States\", \"United States\", \"United States\", \"United States\", \"Mexico\", \"United States\", \"Canada\", \"United States\", \"United States\", \"Peru\", \"United States\", \"United States\", \"South Africa\", \"Germany\", \"United Kingdom\", \"United States\", \"United States\", \"United Kingdom\", \"India\", \"United States\", \"United States\", \"United Kingdom\", \"United States\", \"India\", \"India\", \"United States\", \"India\", \"India\", \"Pakistan\", \"United Kingdom\", \"New Zealand\", \"Canada\", \"Indonesia\", \"Japan\", \"United States\", \"India\", \"United Kingdom\", \"United States\", \"United States\", \"United States\", \"India\", \"United States\", \"United States\", \"South Korea\", \"South Korea\", \"United States\", \"United States\", \"United States\", \"Argentina\", \"India\", \"United Kingdom\", \"United Kingdom\", \"United Kingdom\", \"United States\", \"United States\", \"France\", \"India\", \"United States\", \"Mexico\", \"United States\", \"Australia\", \"France\", \"China\", \"United States\", \"Switzerland\", \"China\", \"Canada\", \"United Kingdom\", \"United Kingdom\", \"Australia\", \"United States\", \"Sweden\", \"United States\", \"United States\", \"United States\", \"Thailand\", \"India\", \"United States\", \"United States\", \"France\", \"Spain\", \"United States\", \"United States\", \"United Kingdom\", \"United States\", \"United States\", \"United States\", \"United States\", \"United States\", \"Mexico\", \"United States\", \"United States\", \"United States\", \"South Korea\", \"United States\", \"United Kingdom\", \"United States\", \"China\", \"Canada\", \"China\", \"Japan\", \"India\", \"United States\", \"United States\", \"Spain\", \"United States\", \"United States\", \"India\", \"United States\", \"United States\", \"United States\", \"United States\", \"United States\", \"South Korea\", \"United States\", \"India\", \"United States\", \"France\", \"South Korea\", \"Turkey\", \"Singapore\", \"United States\", \"United States\", \"United States\", \"Taiwan\", \"United Kingdom\", \"United States\", \"Spain\", \"Thailand\", \"United States\", \"Nigeria\", \"United States\", \"Kuwait\", \"United States\", \"Kuwait\", \"United States\", \"United Kingdom\", \"France\", \"United States\", \"Canada\", \"Japan\", \"Taiwan\", \"United States\", \"United States\", \"Turkey\", \"Serbia\", \"India\", \"United Kingdom\", \"United States\", \"United States\", \"India\", \"United Kingdom\", \"Canada\", \"United States\", \"United States\", \"United States\", \"United States\", \"United States\", \"United States\", \"United States\", \"United Kingdom\", \"Germany\", \"Mexico\", \"Japan\", \"South Korea\", \"Thailand\", \"France\", \"China\", \"United States\", \"India\", \"Germany\", \"India\", \"Turkey\", \"India\", \"United States\", \"United States\", \"United States\", \"United States\", \"United Kingdom\", \"United States\", \"Israel\", \"United States\", \"United Kingdom\", \"United States\", \"Canada\", \"United Kingdom\", \"Australia\", \"Mexico\", \"Canada\", \"United Kingdom\", \"United States\", \"India\", \"Turkey\", \"United States\", \"United States\", \"Canada\", \"United Kingdom\", \"Belgium\", \"United States\", \"Argentina\", \"Japan\", \"Japan\", \"Japan\", \"Japan\", \"Japan\", \"South Korea\", \"United States\", \"Argentina\", \"Canada\", \"South Africa\", \"United States\", \"Hong Kong\", \"Hong Kong\", \"China\", \"Hong Kong\", \"India\", \"India\", \"South Korea\", \"United States\", \"Australia\", \"Taiwan\", \"United States\", \"Canada\", \"Finland\", \"United States\", \"Japan\", \"India\", \"Philippines\", \"India\", \"India\", \"India\", \"Germany\", \"Indonesia\", \"United Kingdom\", \"Nigeria\", \"South Korea\", \"India\", \"United States\", \"United States\", \"Philippines\", \"United States\", \"United States\", \"United States\", \"Nigeria\", \"Spain\", \"South Korea\", \"Egypt\", \"South Korea\", \"India\", \"United States\", \"Nigeria\", \"United States\", \"Australia\", \"United States\", \"Taiwan\", \"India\", \"India\", \"India\", \"India\", \"India\", \"France\", \"Canada\", \"United States\", \"United Kingdom\", \"United Kingdom\", \"United Kingdom\", \"United Kingdom\", \"United States\", \"United Kingdom\", \"Vietnam\", \"United States\", \"India\", \"Sweden\", \"Malaysia\", \"India\", \"India\", \"India\", \"United States\", \"Cambodia\", \"United States\", \"India\", \"India\", \"United Kingdom\", \"India\", \"Pakistan\", \"United Kingdom\", \"United States\", \"Chile\", \"India\", \"Japan\", \"Japan\", \"Israel\", \"India\", \"India\", \"United States\", \"Poland\", \"Spain\", \"United States\", \"United States\", \"United States\", \"United States\", \"United States\", \"United States\", \"United States\", \"United States\", \"United States\", \"United States\", \"United States\", \"United States\", \"United States\", \"United States\", \"United States\", \"United States\", \"United States\", \"Mexico\", \"United States\", \"United States\", \"United States\", \"United States\", \"United States\", \"United States\", \"United States\", \"United States\", \"Ireland\", \"United States\", \"United States\", \"United Kingdom\", \"India\", \"India\", \"Canada\", \"United States\", \"United States\", \"United States\", \"United States\", \"United States\", \"United States\", \"United States\", \"United States\", \"United States\", \"United States\", \"United States\", \"United Kingdom\", \"United States\", \"United States\", \"Japan\", \"India\", \"United States\", \"Russia\", \"Jordan\", \"United States\", \"United States\", \"United States\", \"United States\", \"United States\", \"United States\", \"South Korea\", \"United States\", \"United States\", \"United States\", \"India\", \"United Kingdom\", \"United States\", \"United States\", \"United States\", \"India\", \"United Kingdom\", \"United States\", \"India\", \"United States\", \"United States\", \"United States\", \"United States\", \"United States\", \"United States\", \"United States\", \"United States\", \"United States\", \"Japan\", \"Taiwan\", \"India\", \"India\", \"Brazil\", \"United States\", \"United Kingdom\", \"India\", \"United States\", \"United States\", \"United States\", \"France\", \"Austria\", \"Japan\", \"Chile\", \"Mexico\", \"United States\", \"United States\", \"United States\", \"India\", \"India\", \"India\", \"United States\", \"United States\", \"United States\", \"United States\", \"United States\", \"United States\", \"Kuwait\", \"South Korea\", \"United States\", \"United States\", \"United States\", \"United States\", \"Brazil\", \"Denmark\", \"Germany\", \"Argentina\", \"Philippines\", \"Taiwan\", \"United States\", \"United States\", \"Hong Kong\", \"United States\", \"United States\", \"Canada\", \"United States\", \"United States\", \"Japan\", \"United Kingdom\", \"Japan\", \"Japan\", \"South Korea\", \"United States\", \"Taiwan\", \"Turkey\", \"Turkey\", \"India\", \"India\", \"India\", \"India\", \"India\", \"India\", \"India\", \"India\", \"India\", \"Japan\", \"India\", \"India\", \"India\", \"India\", \"India\", \"India\", \"United States\", \"India\", \"India\", \"United States\", \"India\", \"India\", \"United Kingdom\", \"United Arab Emirates\", \"Philippines\", \"India\", \"South Africa\", \"India\", \"India\", \"South Africa\", \"India\", \"India\", \"Japan\", \"India\", \"India\", \"Turkey\", \"Brazil\", \"Egypt\", \"United States\", \"India\", \"Indonesia\", \"India\", \"Nigeria\", \"United States\", \"United States\", \"Australia\", \"Australia\", \"India\", \"United States\", \"United Kingdom\", \"United States\", \"United States\", \"United States\", \"United States\", \"United States\", \"United States\", \"India\", \"United States\", \"India\", \"India\", \"Australia\", \"India\", \"United States\", \"United States\", \"United States\", \"United States\", \"United States\", \"United States\", \"United States\", \"India\", \"United States\", \"United States\", \"United States\", \"United States\", \"United States\", \"United States\", \"United States\", \"United States\", \"United States\", \"United States\", \"United States\", \"United States\", \"Pakistan\", \"India\", \"India\", \"India\", \"India\", \"India\", \"India\", \"India\", \"India\", \"India\", \"India\", \"India\", \"China\", \"United States\", \"United States\", \"United States\", \"United States\", \"Philippines\", \"Russia\", \"Netherlands\", \"Germany\", \"Turkey\", \"United States\", \"United States\", \"United States\", \"United Kingdom\", \"France\", \"Japan\", \"Turkey\", \"United States\", \"United States\", \"United States\", \"India\", \"United States\", \"United States\", \"United States\", \"United States\", \"United Kingdom\", \"United States\", \"United States\", \"United States\", \"Hungary\", \"United Kingdom\", \"Canada\", \"United States\", \"Nigeria\", \"China\", \"United States\", \"China\", \"United States\", \"United Kingdom\", \"United States\", \"United States\", \"France\", \"South Africa\", \"United States\", \"India\", \"India\", \"India\", \"Canada\", \"United Kingdom\", \"United States\", \"United States\", \"United States\", \"Brazil\", \"Philippines\", \"United Kingdom\", \"Malaysia\", \"Spain\", \"United States\", \"Japan\", \"United States\", \"United States\", \"United States\", \"United States\", \"Taiwan\", \"United States\", \"Turkey\", \"Turkey\", \"Canada\", \"India\", \"United Kingdom\", \"India\", \"Bangladesh\", \"United States\", \"United Kingdom\", \"United States\", \"United States\", \"Malaysia\", \"United States\", \"India\", \"Norway\", \"United States\", \"United States\", \"United States\", \"United States\", \"India\", \"United States\", \"United States\", \"United States\", \"United States\", \"India\", \"United States\", \"India\", \"United States\", \"India\", \"United States\", \"India\", \"India\", \"India\", \"United States\", \"United States\", \"Hong Kong\", \"Mexico\", \"United States\", \"United States\", \"China\", \"Indonesia\", \"United States\", \"India\", \"Japan\", \"Japan\", \"United Kingdom\", \"Turkey\", \"Turkey\", \"India\", \"India\", \"India\", \"United States\", \"India\", \"India\", \"United States\", \"United States\", \"Argentina\", \"United States\", \"United States\", \"Spain\", \"Italy\", \"United States\", \"Colombia\", \"United States\", \"United States\", \"United States\", \"Taiwan\", \"Spain\", \"Mexico\", \"France\", \"Colombia\", \"United States\", \"Mexico\", \"France\", \"Mexico\", \"Taiwan\", \"Mexico\", \"Colombia\", \"India\", \"India\", \"Thailand\", \"India\", \"India\", \"United States\", \"Hong Kong\", \"United States\", \"United States\", \"United States\", \"France\", \"United States\", \"Colombia\", \"Brazil\", \"India\", \"United States\", \"India\", \"India\", \"India\", \"India\", \"United Kingdom\", \"Singapore\", \"Nigeria\", \"United States\", \"United States\", \"United States\", \"Russia\", \"United States\", \"Colombia\", \"South Korea\", \"United Kingdom\", \"United States\", \"United States\", \"Nigeria\", \"Japan\", \"United Kingdom\", \"United States\", \"United Kingdom\", \"United States\", \"Germany\", \"United States\", \"Taiwan\", \"United States\", \"United States\", \"United Kingdom\", \"Netherlands\", \"France\", \"France\", \"United States\", \"United States\", \"United States\", \"France\", \"United States\", \"United States\", \"United States\", \"United States\", \"United States\", \"United Kingdom\", \"India\", \"United States\", \"United States\", \"United States\", \"United Kingdom\", \"United States\", \"China\", \"Mexico\", \"Mexico\", \"Hong Kong\", \"United States\", \"United States\", \"United States\", \"United States\", \"United States\", \"United States\", \"United States\", \"Denmark\", \"Denmark\", \"United States\", \"United States\", \"United States\", \"United States\", \"United States\", \"United States\", \"United States\", \"Canada\", \"Denmark\", \"Denmark\", \"United States\", \"United States\", \"India\", \"United States\", \"United States\", \"India\", \"United States\", \"United States\", \"France\", \"United Kingdom\", \"United States\", \"United States\", \"United States\", \"United States\", \"United States\", \"Egypt\", \"Malaysia\", \"South Korea\", \"Japan\", \"Turkey\", \"Turkey\", \"United States\", \"United States\", \"India\", \"United States\", \"Canada\", \"South Africa\", \"South Korea\", \"United States\", \"United States\", \"India\", \"United States\", \"India\", \"India\", \"United States\", \"Sweden\", \"Taiwan\", \"United States\", \"United Kingdom\", \"Egypt\", \"Canada\", \"Hong Kong\", \"Nigeria\", \"United States\", \"United States\", \"Mexico\", \"United States\", \"United States\", \"India\", \"Norway\", \"India\", \"United Kingdom\", \"United States\", \"China\", \"United States\", \"Taiwan\", \"Egypt\", \"Nigeria\", \"Brazil\", \"Lebanon\", \"United States\", \"United States\", \"United Kingdom\", \"United States\", \"Hong Kong\", \"United States\", \"Australia\", \"Australia\", \"Australia\", \"United States\", \"United Kingdom\", \"United States\", \"United States\", \"India\", \"United States\", \"United States\", \"United States\", \"United States\", \"United States\", \"United States\", \"United States\", \"United States\", \"India\", \"Japan\", \"United States\", \"United States\", \"South Korea\", \"Spain\", \"South Korea\", \"Nigeria\", \"United States\", \"United States\", \"United States\", \"United States\", \"United States\", \"Mexico\", \"Spain\", \"Mexico\", \"United Kingdom\", \"India\", \"United States\", \"United Kingdom\", \"United Kingdom\", \"Canada\", \"Turkey\", \"Spain\", \"France\", \"Mexico\", \"Russia\", \"India\", \"United States\", \"Philippines\", \"South Korea\", \"United Kingdom\", \"Germany\", \"United Kingdom\", \"United States\", \"United Kingdom\", \"United States\", \"Canada\", \"United States\", \"United States\", \"Hong Kong\", \"Hong Kong\", \"Germany\", \"India\", \"Mexico\", \"United States\", \"Mexico\", \"United States\", \"Colombia\", \"United States\", \"United States\", \"United States\", \"Canada\", \"France\", \"Canada\", \"United States\", \"Nigeria\", \"United States\", \"Japan\", \"United States\", \"United States\", \"United States\", \"United States\", \"United States\", \"Taiwan\", \"Sweden\", \"Turkey\", \"India\", \"South Korea\", \"Japan\", \"Japan\", \"India\", \"Taiwan\", \"United States\", \"Taiwan\", \"Taiwan\", \"United States\", \"Taiwan\", \"Indonesia\", \"Indonesia\", \"South Korea\", \"Hong Kong\", \"Romania\", \"United States\", \"United Kingdom\", \"Nigeria\", \"Canada\", \"United States\", \"Indonesia\", \"Turkey\", \"Taiwan\", \"India\", \"Taiwan\", \"China\", \"China\", \"Hong Kong\", \"Australia\", \"India\", \"South Korea\", \"United States\", \"United States\", \"Egypt\", \"United States\", \"United Kingdom\", \"Philippines\", \"Indonesia\", \"United Kingdom\", \"Japan\", \"United States\", \"United States\", \"Germany\", \"Turkey\", \"Brazil\", \"United States\", \"United States\", \"South Korea\", \"United States\", \"United Kingdom\", \"United States\", \"Colombia\", \"Hong Kong\", \"India\", \"Japan\", \"United States\", \"Brazil\", \"United States\", \"Brazil\", \"Brazil\", \"Argentina\", \"Argentina\", \"South Korea\", \"United States\", \"India\", \"India\", \"India\", \"China\", \"India\", \"India\", \"Brazil\", \"Mexico\", \"India\", \"Italy\", \"United States\", \"Canada\", \"Australia\", \"China\", \"United States\", \"Japan\", \"India\", \"Argentina\", \"India\", \"India\", \"United States\", \"India\", \"United States\", \"United States\", \"India\", \"United States\", \"India\", \"United States\", \"Mexico\", \"Australia\", \"United States\", \"United States\", \"United States\", \"Hong Kong\", \"India\", \"United States\", \"United States\", \"United States\", \"India\", \"United States\", \"India\", \"India\", \"Chile\", \"Italy\", \"Japan\", \"Japan\", \"United States\", \"South Korea\", \"France\", \"Uruguay\", \"France\", \"India\", \"United States\", \"Norway\", \"India\", \"United States\", \"India\", \"India\", \"United Kingdom\", \"India\", \"Hong Kong\", \"Turkey\", \"Japan\", \"India\", \"India\", \"India\", \"India\", \"India\", \"United States\", \"United States\", \"United States\", \"Germany\", \"Australia\", \"Israel\", \"India\", \"India\", \"India\", \"Argentina\", \"United Kingdom\", \"United States\", \"United States\", \"United States\", \"United States\", \"India\", \"Egypt\", \"United Kingdom\", \"United Kingdom\", \"United States\", \"South Korea\", \"United Kingdom\", \"United States\", \"United States\", \"India\", \"India\", \"United States\", \"United States\", \"United States\", \"China\", \"United States\", \"United States\", \"India\", \"India\", \"United States\", \"India\", \"India\", \"United Kingdom\", \"India\", \"India\", \"United Kingdom\", \"United States\", \"India\", \"India\", \"India\", \"India\", \"India\", \"Canada\", \"Spain\", \"United Kingdom\", \"Argentina\", \"Canada\", \"United States\", \"United States\", \"United States\", \"United Kingdom\", \"Japan\", \"United States\", \"Brazil\", \"United States\", \"United States\", \"Philippines\", \"United States\", \"United States\", \"United States\", \"France\", \"United States\", \"United States\", \"United States\", \"United States\", \"United States\", \"India\", \"India\", \"United Kingdom\", \"United States\", \"United States\", \"France\", \"Hong Kong\", \"United States\", \"United States\", \"Canada\", \"India\", \"United States\", \"United States\", \"Japan\", \"United States\", \"United States\", \"United States\", \"United States\", \"United States\", \"United States\", \"United States\", \"United States\", \"United States\", \"United States\", \"Japan\", \"India\", \"United States\", \"United Kingdom\", \"India\", \"Saudi Arabia\", \"Saudi Arabia\", \"United States\", \"Russia\", \"United States\", \"United States\", \"India\", \"India\", \"South Korea\", \"United States\", \"Hong Kong\", \"United States\", \"Argentina\", \"South Africa\", \"India\", \"Mexico\", \"India\", \"Brazil\", \"United States\", \"Indonesia\", \"Hong Kong\", \"Egypt\", \"United States\", \"France\", \"China\", \"United States\", \"United States\", \"India\", \"Mexico\", \"Mexico\", \"Canada\", \"United States\", \"United States\", \"United States\", \"United States\", \"United States\", \"Italy\", \"Canada\", \"Poland\", \"United Kingdom\", \"Nigeria\", \"United Kingdom\", \"United Kingdom\", \"Japan\", \"Australia\", \"India\", \"India\", \"India\", \"United States\", \"United States\", \"South Korea\", \"Argentina\", \"South Korea\", \"Germany\", \"United States\", \"United States\", \"United States\", \"South Korea\", \"Saudi Arabia\", \"United States\", \"Canada\", \"Indonesia\", \"New Zealand\", \"France\", \"United States\", \"United States\", \"United States\", \"United States\", \"India\", \"India\", \"Spain\", \"United Kingdom\", \"United States\", \"Nigeria\", \"Nigeria\", \"India\", \"United Kingdom\", \"United States\", \"United States\", \"United States\", \"China\", \"India\", \"Mexico\", \"United States\", \"France\", \"Chile\", \"Argentina\", \"India\", \"United Kingdom\", \"Netherlands\", \"India\", \"United States\", \"United States\", \"Canada\", \"United Kingdom\", \"United States\", \"United States\", \"United States\", \"United States\", \"United States\", \"Canada\", \"Japan\", \"Japan\", \"India\", \"United States\", \"United States\", \"Canada\", \"United States\", \"India\", \"India\", \"India\", \"United States\", \"United States\", \"India\", \"United States\", \"United States\", \"United States\", \"United States\", \"United States\", \"United States\", \"Czech Republic\", \"United States\", \"Indonesia\", \"United States\", \"France\", \"United States\", \"Argentina\", \"United States\", \"United Kingdom\", \"Japan\", \"Singapore\", \"Austria\", \"United Kingdom\", \"United States\", \"United States\", \"United States\", \"United States\", \"France\", \"United States\", \"South Korea\", \"United States\", \"India\", \"United States\", \"Canada\", \"Turkey\", \"France\", \"Spain\", \"Japan\", \"United States\", \"United States\", \"India\", \"South Korea\", \"India\", \"Netherlands\", \"Netherlands\", \"India\", \"United States\", \"United States\", \"Mexico\", \"Japan\", \"Taiwan\", \"India\", \"Singapore\", \"Norway\", \"United States\", \"South Korea\", \"United States\", \"Taiwan\", \"United States\", \"United States\", \"United States\", \"United States\", \"United States\", \"India\", \"United Kingdom\", \"Malaysia\", \"United States\", \"United States\", \"United States\", \"United Kingdom\", \"Japan\", \"Japan\", \"Japan\", \"Japan\", \"United States\", \"India\", \"Egypt\", \"United States\", \"India\", \"United States\", \"Nigeria\", \"France\", \"China\", \"India\", \"South Korea\", \"Nigeria\", \"United States\", \"Mexico\", \"United States\", \"United States\", \"Spain\", \"United States\", \"Turkey\", \"United States\", \"United Kingdom\", \"Thailand\", \"Canada\", \"Egypt\", \"Germany\", \"United States\", \"United States\", \"United States\", \"United States\", \"United States\", \"United States\", \"United States\", \"United States\", \"United States\", \"United States\", \"United States\", \"United States\", \"United States\", \"United States\", \"United States\", \"India\", \"Canada\", \"United States\", \"United Kingdom\", \"Japan\", \"United Kingdom\", \"United Kingdom\", \"United Kingdom\", \"United Kingdom\", \"United States\", \"United Kingdom\", \"United Kingdom\", \"United States\", \"United Kingdom\", \"United Kingdom\", \"United Kingdom\", \"United Kingdom\", \"United Kingdom\", \"United Kingdom\", \"United States\", \"Argentina\", \"United Kingdom\", \"United States\", \"France\", \"Pakistan\", \"Egypt\", \"Netherlands\", \"Germany\", \"France\", \"United States\", \"India\", \"United States\", \"Israel\", \"Brazil\", \"Canada\", \"United States\", \"Japan\", \"United States\", \"India\", \"India\", \"Australia\", \"India\", \"Australia\", \"United States\", \"United States\", \"United States\", \"United States\", \"United Kingdom\", \"India\", \"United States\", \"United States\", \"Israel\", \"United States\", \"United States\", \"Mexico\", \"United States\", \"United States\", \"United States\", \"South Korea\", \"Hong Kong\", \"United States\", \"Canada\", \"India\", \"Egypt\", \"India\", \"Chile\", \"France\", \"United States\", \"Turkey\", \"United States\", \"United States\", \"India\", \"Chile\", \"India\", \"India\", \"Malaysia\", \"India\", \"India\", \"India\", \"India\", \"Malaysia\", \"India\", \"France\", \"United States\", \"India\", \"India\", \"India\", \"United Kingdom\", \"United States\", \"United States\", \"United States\", \"United States\", \"United States\", \"Taiwan\", \"India\", \"Philippines\", \"United States\", \"Spain\", \"United Kingdom\", \"Mexico\", \"United States\", \"India\", \"Philippines\", \"Canada\", \"Canada\", \"United Kingdom\", \"Spain\", \"India\", \"India\", \"South Korea\", \"United States\", \"Taiwan\", \"Thailand\", \"Egypt\", \"United States\", \"Philippines\", \"Canada\", \"South Korea\", \"India\", \"Germany\", \"United States\", \"Georgia\", \"United States\", \"Italy\", \"Egypt\", \"United Kingdom\", \"Japan\", \"Switzerland\", \"United States\", \"South Korea\", \"United States\", \"United States\", \"United States\", \"United States\", \"United States\", \"United States\", \"United States\", \"South Korea\", \"United States\", \"Taiwan\", \"United States\", \"United States\", \"South Africa\", \"South Korea\", \"United States\", \"United States\", \"Canada\", \"Canada\", \"United States\", \"South Korea\", \"South Korea\", \"Hong Kong\", \"United Kingdom\", \"South Korea\", \"South Korea\", \"United States\", \"Egypt\", \"Turkey\", \"Indonesia\", \"Indonesia\", \"United States\", \"United Kingdom\", \"United States\", \"Turkey\", \"Thailand\", \"Italy\", \"United Kingdom\", \"South Africa\", \"United States\", \"Brazil\", \"United States\", \"United States\", \"United States\", \"South Korea\", \"United States\", \"Singapore\", \"India\", \"France\", \"United Kingdom\", \"India\", \"India\", \"India\", \"United States\", \"United Kingdom\", \"Italy\", \"Japan\", \"United States\", \"France\", \"Germany\", \"United States\", \"Mexico\", \"Spain\", \"Ireland\", \"United States\", \"United States\", \"India\", \"India\", \"United States\", \"Thailand\", \"United States\", \"United States\", \"United States\", \"Mexico\", \"United States\", \"Japan\", \"Japan\", \"Japan\", \"Japan\", \"Japan\", \"Japan\", \"Japan\", \"Japan\", \"Japan\", \"India\", \"Uruguay\", \"Chile\", \"United States\", \"United States\", \"United States\", \"United States\", \"India\", \"United States\", \"United States\", \"United States\", \"United States\", \"India\", \"United States\", \"United States\", \"United Kingdom\", \"United States\", \"United States\", \"United States\", \"United States\", \"United Kingdom\", \"United Kingdom\", \"India\", \"United States\", \"United States\", \"United States\", \"China\", \"United States\", \"United States\", \"India\", \"India\", \"United States\", \"Japan\", \"Chile\", \"Turkey\", \"United States\", \"United States\", \"United States\", \"United States\", \"Nigeria\", \"United States\", \"United States\", \"United States\", \"United States\", \"India\", \"China\", \"United States\", \"India\", \"Puerto Rico\", \"United States\", \"United States\", \"United States\", \"Turkey\", \"United Kingdom\", \"United Kingdom\", \"United States\", \"United States\", \"United States\", \"South Korea\", \"United States\", \"United States\", \"United States\", \"India\", \"Nigeria\", \"Germany\", \"Japan\", \"Canada\", \"Japan\", \"Spain\", \"Turkey\", \"India\", \"United Kingdom\", \"India\", \"Chile\", \"Japan\", \"Japan\", \"United States\", \"Egypt\", \"India\", \"Mexico\", \"Philippines\", \"United States\", \"Argentina\", \"United States\", \"Norway\", \"India\", \"Chile\", \"Poland\", \"Netherlands\", \"Brazil\", \"United States\", \"France\", \"United States\", \"United States\", \"United States\", \"India\", \"United States\", \"United States\", \"Norway\", \"United Kingdom\", \"Canada\", \"United States\", \"Argentina\", \"United Kingdom\", \"France\", \"Brazil\", \"Brazil\", \"United States\", \"United States\", \"United States\", \"United States\", \"United States\", \"United States\", \"United States\", \"United States\", \"United States\", \"United States\", \"United States\", \"United States\", \"United States\", \"United States\", \"United States\", \"United States\", \"United States\", \"United States\", \"United States\", \"United States\", \"France\", \"United States\", \"United States\", \"United States\", \"United Kingdom\", \"Taiwan\", \"Germany\", \"United States\", \"United Kingdom\", \"Israel\", \"Italy\", \"Japan\", \"United States\", \"United Kingdom\", \"Denmark\", \"Denmark\", \"Brazil\", \"United States\", \"United Kingdom\", \"United States\", \"France\", \"Australia\", \"Norway\", \"United States\", \"United States\", \"United States\", \"Hong Kong\", \"United States\", \"United States\", \"United Kingdom\", \"United Kingdom\", \"United Kingdom\", \"United States\", \"United States\", \"India\", \"United States\", \"Spain\", \"Spain\", \"Taiwan\", \"United States\", \"Germany\", \"Australia\", \"France\", \"India\", \"South Korea\", \"Thailand\", \"Thailand\", \"United States\", \"India\", \"Canada\", \"Canada\", \"United States\", \"Romania\", \"India\", \"United States\", \"United States\", \"Nigeria\", \"Nigeria\", \"South Korea\", \"Japan\", \"United States\", \"Germany\", \"Brazil\", \"United States\", \"United States\", \"France\", \"Denmark\", \"United States\", \"India\", \"Egypt\", \"Egypt\", \"Brazil\", \"Hungary\", \"Taiwan\", \"United States\", \"Italy\", \"Nigeria\", \"Hong Kong\", \"Brazil\", \"India\", \"Hong Kong\", \"India\", \"United States\", \"United States\", \"United States\", \"United States\", \"United States\", \"United States\", \"United States\", \"United States\", \"Egypt\", \"China\", \"United Kingdom\", \"India\", \"India\", \"Italy\", \"India\", \"India\", \"Thailand\", \"United States\", \"Indonesia\", \"India\", \"United States\", \"India\", \"United States\", \"Canada\", \"United States\", \"United States\", \"South Korea\", \"Philippines\", \"India\", \"United States\", \"United States\", \"Japan\", \"South Korea\", \"United States\", \"Thailand\", \"Japan\", \"Turkey\", \"United States\", \"Denmark\", \"United States\", \"Australia\", \"United States\", \"United States\", \"Brazil\", \"United States\", \"South Korea\", \"United Kingdom\", \"China\", \"United States\", \"United Kingdom\", \"South Korea\", \"China\", \"United States\", \"Hong Kong\", \"United States\", \"United States\", \"Spain\", \"United States\", \"Philippines\", \"United States\", \"Turkey\", \"United States\", \"India\", \"France\", \"France\", \"United States\", \"United Kingdom\", \"Australia\", \"India\", \"India\", \"United Kingdom\", \"Canada\", \"United States\", \"Spain\", \"United States\", \"United Kingdom\", \"China\", \"United States\", \"Japan\", \"France\", \"United States\", \"United States\", \"Australia\", \"United States\", \"United States\", \"United Kingdom\", \"United Kingdom\", \"United States\", \"United States\", \"Germany\", \"China\", \"Turkey\", \"Thailand\", \"India\", \"United States\", \"United Kingdom\", \"India\", \"United States\", \"United States\", \"India\", \"United States\", \"India\", \"India\", \"United Kingdom\", \"Colombia\", \"Venezuela\", \"United States\", \"United States\", \"France\", \"Australia\", \"Peru\", \"India\", \"United States\", \"United States\", \"Philippines\", \"India\", \"India\", \"India\", \"Thailand\", \"United States\", \"United States\", \"Hong Kong\", \"United States\", \"United States\", \"Argentina\", \"United Kingdom\", \"Spain\", \"Mexico\", \"United States\", \"India\", \"South Korea\", \"United States\", \"India\", \"Lebanon\", \"Canada\", \"India\", \"Canada\", \"United States\", \"Spain\", \"France\", \"Brazil\", \"United States\", \"United States\", \"United Kingdom\", \"Egypt\", \"United States\", \"United States\", \"Canada\", \"United States\", \"Japan\", \"Spain\", \"India\", \"India\", \"Pakistan\", \"United States\", \"France\", \"South Korea\", \"United States\", \"India\", \"United Kingdom\", \"United States\", \"United States\", \"Colombia\", \"Malaysia\", \"United States\", \"United States\", \"United States\", \"India\", \"United States\", \"Mexico\", \"United Kingdom\", \"United States\", \"United States\", \"Turkey\", \"United States\", \"United States\", \"United States\", \"United States\", \"United Kingdom\", \"India\", \"United States\", \"Nigeria\", \"India\", \"India\", \"United Kingdom\", \"Lebanon\", \"Germany\", \"Thailand\", \"United States\", \"United States\", \"United States\", \"India\", \"China\", \"Turkey\", \"Malaysia\", \"India\", \"Colombia\", \"United Kingdom\", \"United States\", \"Ireland\", \"United Kingdom\", \"United States\", \"Hong Kong\", \"Uruguay\", \"Argentina\", \"Canada\", \"United States\", \"Germany\", \"United States\", \"United States\", \"South Korea\", \"France\", \"United States\", \"United States\", \"United States\", \"Germany\", \"India\", \"United States\", \"Germany\", \"United States\", \"India\", \"France\", \"United States\", \"India\", \"India\", \"India\", \"Thailand\", \"Nigeria\", \"India\", \"India\", \"United States\", \"Colombia\", \"Canada\", \"United States\", \"United States\", \"India\", \"United States\", \"India\", \"Australia\", \"United States\", \"India\", \"United States\", \"United States\", \"Pakistan\", \"United States\", \"United States\", \"India\", \"India\", \"Argentina\", \"France\", \"India\", \"France\", \"Spain\", \"United Kingdom\", \"United Kingdom\", \"United States\", \"France\", \"United States\", \"India\", \"United States\", \"United States\", \"Canada\", \"United States\", \"United States\", \"United Kingdom\", \"Spain\", \"United States\", \"Spain\", \"United States\", \"United States\", \"United States\", \"United States\", \"France\", \"United States\", \"Japan\", \"Japan\", \"United States\", \"Japan\", \"Japan\", \"United States\", \"United States\", \"Canada\", \"Canada\", \"India\", \"Japan\", \"South Africa\", \"Switzerland\", \"United States\", \"United States\", \"South Korea\", \"United States\", \"Portugal\", \"United States\", \"United States\", \"Indonesia\", \"India\", \"South Korea\", \"United Kingdom\", \"India\", \"Ghana\", \"United States\", \"India\", \"United States\", \"India\", \"United States\", \"United States\", \"United States\", \"United States\", \"United States\", \"United States\", \"United States\", \"France\", \"United States\", \"United States\", \"United States\", \"United States\", \"United States\", \"United States\", \"United States\", \"United States\", \"United States\", \"United States\", \"United States\", \"United States\", \"United States\", \"United States\", \"United States\", \"United States\", \"United States\", \"United States\", \"United States\", \"United States\", \"United States\", \"United States\", \"United States\", \"India\", \"India\", \"United States\", \"United States\", \"India\", \"India\", \"United States\", \"South Korea\", \"United States\", \"United States\", \"United States\", \"South Africa\", \"United States\", \"India\", \"Hong Kong\", \"United States\", \"United States\", \"United States\", \"United States\", \"United States\", \"South Korea\", \"United States\", \"South Korea\", \"United States\", \"India\", \"United States\", \"United States\", \"India\", \"United States\", \"India\", \"United States\", \"Thailand\", \"United States\", \"Canada\", \"Canada\", \"Argentina\", \"India\", \"South Korea\", \"United States\", \"Japan\", \"Argentina\", \"United States\", \"Ireland\", \"India\", \"Malaysia\", \"United States\", \"Canada\", \"United States\", \"Canada\", \"Canada\", \"Canada\", \"United States\", \"India\", \"United Kingdom\", \"United States\", \"United States\", \"China\", \"India\", \"India\", \"India\", \"India\", \"India\", \"United States\", \"India\", \"United States\", \"India\", \"China\", \"India\", \"Netherlands\", \"United States\", \"United States\", \"United Kingdom\", \"United Kingdom\", \"India\", \"Taiwan\", \"United States\", \"United States\", \"South Africa\", \"United States\", \"United States\", \"United States\", \"United States\", \"Spain\", \"Sweden\", \"United States\", \"Australia\", \"United States\", \"United States\", \"India\", \"United States\", \"India\", \"India\", \"United States\", \"France\", \"Malaysia\", \"India\", \"India\", \"United States\", \"United States\", \"Brazil\", \"United States\", \"India\", \"United States\", \"India\", \"United States\", \"Brazil\", \"United States\", \"India\", \"India\", \"Norway\", \"India\", \"United States\", \"China\", \"United States\", \"India\", \"South Korea\", \"United States\", \"United States\", \"Australia\", \"France\", \"India\", \"India\", \"India\", \"India\", \"India\", \"Australia\", \"India\", \"United States\", \"United States\", \"United States\", \"United States\", \"India\", \"India\", \"India\", \"India\", \"Singapore\", \"India\", \"Canada\", \"South Korea\", \"India\", \"India\", \"United States\", \"India\", \"Pakistan\", \"United States\", \"United States\", \"United States\", \"United States\", \"United States\", \"Canada\", \"United States\", \"United States\", \"India\", \"Japan\", \"Japan\", \"Egypt\", \"India\", \"Mexico\", \"United Kingdom\", \"United Kingdom\", \"United States\", \"United States\", \"United States\", \"Brazil\", \"United Kingdom\", \"United States\", \"Mexico\", \"Ireland\", \"United States\", \"Canada\", \"Canada\", \"Australia\", \"Japan\", \"South Korea\", \"United States\", \"United States\", \"Australia\", \"United States\", \"India\", \"United Kingdom\", \"United States\", \"United Kingdom\", \"Taiwan\", \"United States\", \"Egypt\", \"United States\", \"United Kingdom\", \"India\", \"India\", \"United States\", \"United States\", \"United States\", \"United States\", \"United States\", \"United States\", \"United States\", \"United States\", \"United States\", \"United States\", \"Malaysia\", \"Canada\", \"United States\", \"United Kingdom\", \"Mexico\", \"South Korea\", \"South Korea\", \"South Korea\", \"Canada\", \"United Kingdom\", \"Germany\", \"United States\", \"United States\", \"Canada\", \"United States\", \"United States\", \"United States\", \"Turkey\", \"Peru\", \"United Kingdom\", \"Egypt\", \"Hong Kong\", \"India\", \"United States\", \"Hong Kong\", \"Singapore\", \"South Korea\", \"United States\", \"Japan\", \"United Kingdom\", \"United Kingdom\", \"South Korea\", \"United States\", \"Mexico\", \"United States\", \"United States\", \"United Kingdom\", \"United States\", \"United States\", \"Mexico\", \"Mexico\", \"Colombia\", \"United States\", \"Brazil\", \"United States\", \"United States\", \"United Kingdom\", \"Australia\", \"United States\", \"United States\", \"Germany\", \"United States\", \"Japan\", \"United States\", \"Malaysia\", \"India\", \"United States\", \"Australia\", \"Netherlands\", \"United Kingdom\", \"United States\", \"India\", \"Malaysia\", \"India\", \"Germany\", \"United Kingdom\", \"Denmark\", \"India\", \"Argentina\", \"Japan\", \"United States\", \"United States\", \"Japan\", \"Mexico\", \"India\", \"Nigeria\", \"United States\", \"United States\", \"Italy\", \"United Kingdom\", \"South Korea\", \"South Korea\", \"United States\", \"United Kingdom\", \"France\", \"Germany\", \"India\", \"United States\", \"United States\", \"India\", \"United States\", \"United States\", \"United States\", \"United States\", \"United States\", \"United States\", \"United States\", \"France\", \"United States\", \"United States\", \"Egypt\", \"United States\", \"United States\", \"United States\", \"United States\", \"Mexico\", \"Canada\", \"Japan\", \"South Korea\", \"Turkey\", \"Turkey\", \"India\", \"India\", \"Mexico\", \"United States\", \"United States\", \"United States\", \"South Korea\", \"Ireland\", \"France\", \"Canada\", \"United Kingdom\", \"Thailand\", \"India\", \"United States\", \"United States\", \"United States\", \"Mexico\", \"Italy\", \"United States\", \"United States\", \"United States\", \"United States\", \"India\", \"United States\", \"United States\", \"Mexico\", \"Indonesia\", \"South Korea\", \"Germany\", \"India\", \"Mexico\", \"Hong Kong\", \"United States\", \"India\", \"South Korea\", \"United States\", \"United States\", \"United States\", \"United States\", \"India\", \"Japan\", \"Canada\", \"United States\", \"United Kingdom\", \"United States\", \"United States\", \"United States\", \"United States\", \"United States\", \"United States\", \"Canada\", \"India\", \"United States\", \"Italy\", \"Hong Kong\", \"United States\", \"United States\", \"India\", \"India\", \"India\", \"India\", \"Pakistan\", \"India\", \"Indonesia\", \"India\", \"Italy\", \"Spain\", \"Turkey\", \"Canada\", \"India\", \"Pakistan\", \"India\", \"United Kingdom\", \"United States\", \"France\", \"India\", \"India\", \"Japan\", \"Japan\", \"India\", \"Philippines\", \"India\", \"Senegal\", \"India\", \"Egypt\", \"United States\", \"Egypt\", \"United States\", \"United States\", \"United States\", \"United States\", \"United States\", \"United States\", \"United States\", \"India\", \"Brazil\", \"India\", \"United States\", \"Egypt\", \"France\", \"United States\", \"South Africa\", \"United States\", \"Japan\", \"United States\", \"India\", \"United States\", \"Israel\", \"United States\", \"India\", \"India\", \"Italy\", \"India\", \"United States\", \"United States\", \"United States\", \"United States\", \"Australia\", \"South Africa\", \"Colombia\", \"Spain\", \"United States\", \"United States\", \"France\", \"Austria\", \"Canada\", \"Australia\", \"India\", \"United States\", \"United States\", \"India\", \"India\", \"India\", \"India\", \"United States\", \"United States\", \"India\", \"Indonesia\", \"India\", \"United States\", \"United States\", \"India\", \"United Kingdom\", \"United States\", \"Egypt\", \"South Korea\", \"United States\", \"Italy\", \"United States\", \"United States\", \"United States\", \"India\", \"United States\", \"United States\", \"United States\", \"United States\", \"Japan\", \"United States\", \"Italy\", \"United States\", \"Egypt\", \"United States\", \"United States\", \"United States\", \"Canada\", \"United States\", \"France\", \"Germany\", \"United States\", \"China\", \"United States\", \"United States\", \"United States\", \"United States\", \"United States\", \"United States\", \"United States\", \"United States\", \"Hong Kong\", \"Mexico\", \"United States\", \"United States\", \"United States\", \"Sweden\", \"United States\", \"Argentina\", \"United States\", \"United States\", \"United States\", \"South Korea\", \"Hong Kong\", \"South Korea\", \"Australia\", \"United States\", \"United States\", \"United States\", \"Egypt\", \"India\", \"Argentina\", \"Taiwan\", \"United States\", \"United States\", \"United Kingdom\", \"United States\", \"United Kingdom\", \"United States\", \"United Kingdom\", \"United States\", \"United States\", \"United Kingdom\", \"United Kingdom\", \"United States\", \"United States\", \"United States\", \"United States\", \"United States\", \"India\", \"United States\", \"India\", \"Mexico\", \"United States\", \"United States\", \"United States\", \"Mexico\", \"Turkey\", \"United Kingdom\", \"United States\", \"Canada\", \"South Korea\", \"United States\", \"Guatemala\", \"United States\", \"United Kingdom\", \"India\", \"South Africa\", \"Ukraine\", \"United States\", \"China\", \"United States\", \"United States\", \"United States\", \"India\", \"India\", \"India\", \"United States\", \"United States\", \"France\", \"United States\", \"United States\", \"United States\", \"Philippines\", \"Spain\", \"United States\", \"United States\", \"United States\", \"United Kingdom\", \"United States\", \"United Kingdom\", \"United States\", \"Mexico\", \"United States\", \"Hong Kong\", \"United States\", \"France\", \"India\", \"China\", \"Israel\", \"India\", \"India\", \"Italy\", \"India\", \"United States\", \"India\", \"China\", \"India\", \"Hong Kong\", \"United States\", \"United States\", \"United Kingdom\", \"United Kingdom\", \"United Kingdom\", \"India\", \"United States\", \"United Kingdom\", \"India\", \"United States\", \"Egypt\", \"United States\", \"Philippines\", \"United States\", \"United States\", \"Philippines\", \"United States\", \"United States\", \"South Africa\", \"United Kingdom\", \"United States\", \"India\", \"India\", \"Canada\", \"United States\", \"Brazil\", \"United States\", \"India\", \"India\", \"United States\", \"India\", \"United States\", \"United States\", \"Australia\", \"Australia\", \"India\", \"India\", \"United States\", \"India\", \"United States\", \"United States\", \"United States\", \"United Kingdom\", \"United States\", \"United States\", \"Israel\", \"India\", \"India\", \"Thailand\", \"Indonesia\", \"Indonesia\", \"Indonesia\", \"Colombia\", \"Italy\", \"United Kingdom\", \"United States\", \"India\", \"United States\", \"India\", \"South Korea\", \"Poland\", \"United States\", \"United States\", \"Canada\", \"United States\", \"India\", \"United States\", \"United States\", \"Russia\", \"France\", \"United Kingdom\", \"United States\", \"Mexico\", \"United States\", \"Colombia\", \"United States\", \"United States\", \"Bangladesh\", \"United States\", \"Germany\", \"Spain\", \"India\", \"Singapore\", \"India\", \"India\", \"Indonesia\", \"United States\", \"Australia\", \"China\", \"Switzerland\", \"United States\", \"Peru\", \"Brazil\", \"United States\", \"Japan\", \"United States\", \"United States\", \"United States\", \"Philippines\", \"Australia\", \"Pakistan\", \"Saudi Arabia\", \"Nigeria\", \"United States\", \"Thailand\", \"United States\", \"United States\", \"Spain\", \"China\", \"United States\", \"China\", \"Vietnam\", \"United States\", \"South Korea\", \"United States\", \"Germany\", \"Italy\", \"Canada\", \"United States\", \"United States\", \"Thailand\", \"Thailand\", \"Thailand\", \"United States\", \"United States\", \"United States\", \"United States\", \"Nigeria\", \"United Kingdom\", \"Canada\", \"United States\", \"United States\", \"United States\", \"United States\", \"Spain\", \"Japan\", \"United States\", \"United States\", \"United States\", \"United States\", \"United Kingdom\", \"South Korea\", \"Argentina\", \"India\", \"United States\", \"United States\", \"Indonesia\", \"Mexico\", \"Mexico\", \"United States\", \"India\", \"Japan\", \"India\", \"Spain\", \"Mexico\", \"United States\", \"United States\", \"Czech Republic\", \"Canada\", \"United States\", \"United States\", \"United States\", \"Mexico\", \"Taiwan\", \"Spain\", \"South Korea\", \"United States\", \"India\", \"United States\", \"China\", \"United States\", \"United States\", \"Australia\", \"Egypt\", \"United States\", \"India\", \"Japan\", \"United States\", \"Nigeria\", \"India\", \"Egypt\", \"Thailand\", \"Japan\", \"Mexico\", \"United States\", \"United States\", \"United States\", \"United Kingdom\", \"United States\", \"United States\", \"United States\", \"United States\", \"United States\", \"Spain\", \"South Korea\", \"United States\", \"France\", \"Russia\", \"United States\", \"United States\", \"India\", \"Canada\", \"United States\", \"Brazil\", \"United States\", \"United Kingdom\", \"United States\", \"United States\", \"United States\", \"United States\", \"United States\", \"United States\", \"United States\", \"United States\", \"United States\", \"United States\", \"United States\", \"United States\", \"United States\", \"United Kingdom\", \"United States\", \"United States\", \"United States\", \"United States\", \"United States\", \"United Kingdom\", \"United States\", \"United States\", \"United States\", \"Jamaica\", \"United States\", \"United States\", \"United States\", \"United States\", \"United States\", \"Spain\", \"India\", \"United States\", \"United States\", \"United States\", \"Canada\", \"Canada\", \"United States\", \"United States\", \"United States\", \"United States\", \"United States\", \"United States\", \"United States\", \"United States\", \"Canada\", \"United Kingdom\", \"United States\", \"United Kingdom\", \"United States\", \"United States\", \"South Korea\", \"Philippines\", \"Australia\", \"Switzerland\", \"United States\", \"Japan\", \"United States\", \"United States\", \"United States\", \"South Korea\", \"United States\", \"Egypt\", \"United States\", \"United States\", \"Germany\", \"United Kingdom\", \"United States\", \"India\", \"Thailand\", \"United Kingdom\", \"United States\", \"United States\", \"United States\", \"Spain\", \"South Korea\", \"United States\", \"Australia\", \"United States\", \"India\", \"India\", \"United States\", \"United States\", \"Canada\", \"United States\", \"United States\", \"South Korea\", \"United States\", \"United States\", \"South Korea\", \"France\", \"Lebanon\", \"India\", \"France\", \"United States\", \"United States\", \"United States\", \"United States\", \"Australia\", \"Netherlands\", \"United States\", \"United States\", \"United States\", \"South Korea\", \"United States\", \"Brazil\", \"South Korea\", \"United States\", \"Poland\", \"Germany\", \"United States\", \"Turkey\", \"United States\", \"Turkey\", \"United Kingdom\", \"United States\", \"United States\", \"United States\", \"Italy\", \"Italy\", \"Thailand\", \"India\", \"Singapore\", \"United Kingdom\", \"United States\", \"United States\", \"United States\", \"Israel\", \"United Kingdom\", \"South Korea\", \"United States\", \"Denmark\", \"Italy\", \"Mexico\", \"Spain\", \"United Kingdom\", \"India\", \"Belarus\", \"India\", \"India\", \"India\", \"United States\", \"India\", \"Brazil\", \"United States\", \"United States\", \"Canada\", \"United States\", \"United States\", \"United States\", \"United States\", \"United States\", \"Canada\", \"United States\", \"Canada\", \"United States\", \"India\", \"United States\", \"United States\", \"United States\", \"United States\", \"Spain\", \"United States\", \"United States\", \"United States\", \"United Kingdom\", \"United States\", \"India\", \"India\", \"Indonesia\", \"United States\", \"Indonesia\", \"Indonesia\", \"United States\", \"United States\", \"United States\", \"United States\", \"United States\", \"United States\", \"United States\", \"United States\", \"United States\", \"Indonesia\", \"South Korea\", \"India\", \"India\", \"United States\", \"Canada\", \"Canada\", \"United States\", \"United States\", \"United States\", \"United States\", \"United States\", \"United States\", \"Japan\", \"Japan\", \"Japan\", \"China\", \"Hong Kong\", \"United States\", \"Japan\", \"Nigeria\", \"United States\", \"Germany\", \"India\", \"India\", \"Belgium\", \"United States\", \"India\", \"India\", \"United States\", \"United States\", \"China\", \"United States\", \"Spain\", \"United States\", \"France\", \"United States\", \"Saudi Arabia\", \"India\", \"Malaysia\", \"Australia\", \"United States\", \"United States\", \"United Kingdom\", \"Cyprus\", \"United States\", \"United States\", \"India\", \"India\", \"United States\", \"Lebanon\", \"Argentina\", \"India\", \"India\", \"Egypt\", \"Indonesia\", \"France\", \"Indonesia\", \"United States\", \"United States\", \"Egypt\", \"Nigeria\", \"United States\", \"Lebanon\", \"United States\", \"Egypt\", \"United States\", \"United States\", \"South Korea\", \"United States\", \"India\", \"United States\", \"United States\", \"United States\", \"United States\", \"Japan\", \"Thailand\", \"Pakistan\", \"India\", \"United States\", \"India\", \"United States\", \"United States\", \"Hong Kong\", \"United States\", \"United States\", \"India\", \"United Kingdom\", \"United States\", \"Japan\", \"Argentina\", \"Hong Kong\", \"India\", \"Mexico\", \"United States\", \"United States\", \"United States\", \"France\", \"United States\", \"Japan\", \"Japan\", \"Japan\", \"United States\", \"United States\", \"India\", \"United Kingdom\", \"India\", \"India\", \"India\", \"India\", \"United States\", \"India\", \"India\", \"United States\", \"Philippines\", \"South Korea\", \"United States\", \"United States\", \"Sweden\", \"Norway\", \"United States\", \"United States\", \"United States\", \"Indonesia\", \"Indonesia\", \"United States\", \"United States\", \"Mexico\", \"Taiwan\", \"United Kingdom\", \"Nigeria\", \"Canada\", \"United States\", \"United States\", \"Canada\", \"Australia\", \"United States\", \"United States\", \"United States\", \"United States\", \"Argentina\", \"France\", \"United States\", \"South Korea\", \"Spain\", \"Philippines\", \"United States\", \"United States\", \"United States\", \"United States\", \"United States\", \"United States\", \"United States\", \"Israel\", \"Finland\", \"United States\", \"Egypt\", \"Singapore\", \"Spain\", \"Italy\", \"United States\", \"Nigeria\", \"Poland\", \"Canada\", \"United States\", \"France\", \"United States\", \"France\", \"United Kingdom\", \"Switzerland\", \"United States\", \"United States\", \"United States\", \"United States\", \"United States\", \"United States\", \"United States\", \"United States\", \"United Kingdom\", \"United States\", \"United States\", \"United States\", \"Spain\", \"Hong Kong\", \"Spain\", \"United States\", \"United States\", \"United States\", \"Egypt\", \"Italy\", \"Hong Kong\", \"United States\", \"United States\", \"Brazil\", \"Brazil\", \"United States\", \"United Kingdom\", \"United Kingdom\", \"United Kingdom\", \"United Kingdom\", \"United States\", \"United States\", \"Italy\", \"United States\", \"United States\", \"China\", \"United States\", \"United Kingdom\", \"United States\", \"Canada\", \"United States\", \"Egypt\", \"United States\", \"Australia\", \"Chile\", \"Nigeria\", \"United States\", \"Egypt\", \"United Kingdom\", \"India\", \"India\", \"Canada\", \"United States\", \"United Kingdom\", \"France\", \"United States\", \"Saudi Arabia\", \"United States\", \"United States\", \"United States\", \"France\", \"United States\", \"United States\", \"United States\", \"United States\", \"United Kingdom\", \"United States\", \"United Kingdom\", \"United States\", \"United States\", \"United States\", \"United States\", \"United States\", \"Ireland\", \"Belgium\", \"United States\", \"United States\", \"New Zealand\", \"Philippines\", \"South Korea\", \"Nigeria\", \"Taiwan\", \"South Korea\", \"United States\", \"United States\", \"United States\", \"Hong Kong\", \"Ghana\", \"United States\", \"Turkey\", \"United States\", \"United States\", \"United States\", \"United States\", \"Israel\", \"South Korea\", \"India\", \"Canada\", \"United States\", \"United States\", \"United States\", \"United States\", \"New Zealand\", \"Canada\", \"Egypt\", \"Nigeria\", \"France\", \"United States\", \"United States\", \"United States\", \"United States\", \"United States\", \"Australia\", \"Egypt\", \"Spain\", \"Brazil\", \"Mexico\", \"United Kingdom\", \"United States\", \"Canada\", \"United States\", \"United States\", \"United States\", \"Brazil\", \"United States\", \"United States\", \"United States\", \"France\", \"United States\", \"Mexico\", \"United Kingdom\", \"Poland\", \"United States\", \"France\", \"United States\", \"United States\", \"United States\", \"United States\", \"United States\", \"Canada\", \"United States\", \"Israel\", \"United States\", \"Egypt\", \"Japan\", \"United States\", \"South Korea\", \"United States\", \"India\", \"France\", \"Poland\", \"Argentina\", \"United States\", \"United States\", \"United Kingdom\", \"Poland\", \"United Kingdom\", \"United States\", \"France\", \"United States\", \"United States\", \"United Kingdom\", \"United States\", \"India\", \"Indonesia\", \"United Kingdom\", \"United States\", \"United Kingdom\", \"India\", \"United Kingdom\", \"United States\", \"Australia\", \"Austria\", \"United States\", \"Canada\", \"Mexico\", \"Denmark\", \"Egypt\", \"Greece\", \"Romania\", \"United Kingdom\", \"United Kingdom\", \"United States\", \"Canada\", \"Canada\", \"China\", \"United States\", \"Nigeria\", \"United States\", \"Argentina\", \"United States\", \"United States\", \"Italy\", \"United States\", \"Japan\", \"United States\", \"Taiwan\", \"United States\", \"Czech Republic\", \"United States\", \"United States\", \"United States\", \"United States\", \"Japan\", \"Japan\", \"United States\", \"Argentina\", \"United States\", \"Indonesia\", \"Indonesia\", \"United States\", \"Singapore\", \"Singapore\", \"Indonesia\", \"United States\", \"South Korea\", \"Canada\", \"United Kingdom\", \"United States\", \"United States\", \"United States\", \"United States\", \"United Kingdom\", \"Brazil\", \"United States\", \"United Kingdom\", \"United States\", \"Egypt\", \"Kuwait\", \"Japan\", \"United Kingdom\", \"United States\", \"United States\", \"Spain\", \"United Kingdom\", \"United States\", \"United States\", \"United States\", \"United Kingdom\", \"United States\", \"United States\", \"United States\", \"France\", \"United States\", \"United Kingdom\", \"United Kingdom\", \"United States\", \"Taiwan\", \"United States\", \"Nigeria\", \"United States\", \"United States\", \"United States\", \"United States\", \"Brazil\", \"United States\", \"United Kingdom\", \"Hong Kong\", \"United States\", \"United States\", \"United States\", \"United States\", \"United States\", \"Hong Kong\", \"United States\", \"United States\", \"United Kingdom\", \"United States\", \"Japan\", \"Japan\", \"United Kingdom\", \"United States\", \"United States\", \"United States\", \"United Kingdom\", \"New Zealand\", \"France\", \"United States\", \"United States\", \"United Kingdom\", \"Spain\", \"Norway\", \"United States\", \"United States\", \"Japan\", \"France\", \"Indonesia\", \"United States\", \"United States\", \"Nigeria\", \"Taiwan\", \"United States\", \"Spain\", \"Turkey\", \"Philippines\", \"Spain\", \"United States\", \"United States\", \"India\", \"Israel\", \"Colombia\", \"United States\", \"United States\", \"South Korea\", \"United States\", \"United States\", \"United States\", \"United States\", \"United Kingdom\", \"United States\", \"United States\", \"United States\", \"Nigeria\", \"Hong Kong\", \"South Korea\", \"United Kingdom\", \"United States\", \"United Kingdom\", \"United States\", \"India\", \"United States\", \"Colombia\", \"Hong Kong\", \"United States\", \"United Kingdom\", \"United States\", \"United States\", \"China\", \"United Kingdom\", \"South Korea\", \"United States\", \"United States\", \"United States\", \"United States\", \"United States\", \"United States\", \"Poland\", \"United States\", \"United States\", \"United States\", \"United States\", \"United States\", \"Spain\", \"United States\", \"Indonesia\", \"United States\", \"Canada\", \"United States\", \"Canada\", \"Spain\", \"United States\", \"United States\", \"United States\", \"Spain\", \"United States\", \"United States\", \"Canada\", \"United States\", \"United States\", \"Thailand\", \"United States\", \"United States\", \"France\", \"India\", \"Mexico\", \"United States\", \"United States\", \"India\", \"Philippines\", \"India\", \"Canada\", \"Canada\", \"United States\", \"United Kingdom\", \"United Kingdom\", \"United States\", \"United States\", \"Spain\", \"United States\", \"United Kingdom\", \"Spain\", \"Singapore\", \"Australia\", \"United Kingdom\", \"Mexico\", \"United States\", \"Denmark\", \"United States\", \"Canada\", \"United States\", \"Spain\", \"United States\", \"Mexico\", \"United States\", \"United States\", \"United Kingdom\", \"United Kingdom\", \"United Kingdom\", \"Egypt\", \"Australia\", \"France\", \"United States\", \"United Kingdom\", \"Spain\", \"Spain\", \"United States\", \"United States\", \"United States\", \"United States\", \"United Kingdom\", \"Japan\", \"Nigeria\", \"United Kingdom\", \"Austria\", \"France\", \"United States\", \"United States\", \"United States\", \"United States\", \"Thailand\", \"India\", \"Indonesia\", \"South Korea\", \"United States\", \"United States\", \"United States\", \"Brazil\", \"Ireland\", \"United States\", \"United States\", \"United Kingdom\", \"South Korea\", \"China\", \"United Kingdom\", \"Argentina\", \"United Kingdom\", \"United Kingdom\", \"Lebanon\", \"United States\", \"United States\", \"Canada\", \"South Korea\", \"United States\", \"United States\", \"Egypt\", \"India\", \"Egypt\", \"United States\", \"Belgium\", \"South Korea\", \"United States\", \"India\", \"United States\", \"United States\", \"United States\", \"United States\", \"Australia\", \"France\", \"United States\", \"Brazil\", \"Chile\", \"United States\", \"United Kingdom\", \"United States\", \"United Kingdom\", \"United States\", \"Egypt\", \"United States\", \"Paraguay\", \"United Kingdom\", \"United States\", \"United States\", \"United States\", \"Germany\", \"United States\", \"United States\", \"Spain\", \"United States\", \"United States\", \"Spain\", \"United States\", \"India\", \"China\", \"United States\", \"United States\", \"India\", \"China\", \"Australia\", \"United Kingdom\", \"South Africa\", \"United States\", \"South Korea\", \"United States\", \"South Korea\", \"Italy\", \"India\", \"United States\", \"Spain\", \"Norway\", \"Canada\", \"United States\", \"United States\", \"France\", \"Spain\", \"Netherlands\", \"France\", \"Germany\", \"United States\", \"Ireland\", \"Ireland\", \"United States\", \"United States\", \"United States\", \"United States\", \"United States\", \"Denmark\", \"New Zealand\", \"New Zealand\", \"Argentina\", \"United States\", \"Nigeria\", \"Philippines\", \"United Kingdom\", \"United States\", \"United States\", \"United Kingdom\", \"Poland\", \"Hong Kong\", \"United States\", \"Canada\", \"United States\", \"Canada\", \"United States\", \"Canada\", \"United States\", \"United States\", \"United Kingdom\", \"India\", \"United States\", \"Italy\", \"France\", \"Japan\", \"Egypt\", \"United States\", \"United States\", \"United States\", \"United States\", \"Italy\", \"United States\", \"United States\", \"United States\", \"Spain\", \"United States\", \"South Korea\", \"United Kingdom\", \"Brazil\", \"Chile\", \"United States\", \"United States\", \"Spain\", \"United States\", \"Russia\", \"United States\", \"Hong Kong\", \"United States\", \"United States\", \"Germany\", \"Nigeria\", \"United States\", \"United States\", \"United States\", \"France\", \"Spain\", \"Spain\", \"South Korea\", \"Poland\", \"United Kingdom\", \"United States\", \"Canada\", \"Philippines\", \"United Kingdom\", \"Denmark\", \"United States\", \"New Zealand\", \"United States\", \"Belgium\", \"Sweden\", \"United States\", \"United States\", \"Spain\", \"United States\", \"United States\", \"United States\", \"United Kingdom\", \"Italy\", \"Japan\", \"United States\", \"United States\", \"United States\", \"United States\", \"Spain\", \"United States\", \"United States\", \"Australia\", \"Canada\", \"United States\", \"Spain\", \"Canada\", \"United States\", \"Indonesia\", \"United States\", \"United States\", \"Germany\", \"Canada\", \"United States\", \"United States\", \"Singapore\", \"Spain\", \"United States\", \"United States\", \"Mexico\", \"France\", \"United States\", \"Philippines\", \"Canada\", \"United States\", \"United States\", \"United States\", \"France\", \"United States\", \"United States\", \"France\", \"Turkey\", \"United States\", \"United States\", \"United States\", \"Taiwan\", \"United States\", \"Philippines\", \"Croatia\", \"Spain\", \"United States\", \"United Kingdom\", \"United Kingdom\", \"United States\", \"United States\", \"United States\", \"United States\", \"Mexico\", \"United States\", \"Ghana\", \"United States\", \"United States\", \"United Kingdom\", \"United States\", \"Spain\", \"Germany\", \"United States\", \"United States\", \"Somalia\", \"United Kingdom\", \"United States\", \"United States\", \"Poland\", \"India\", \"United Arab Emirates\", \"United States\", \"Egypt\", \"Italy\", \"United States\", \"United States\", \"United States\", \"Canada\", \"South Korea\", \"France\", \"United States\", \"United States\", \"China\", \"Taiwan\", \"United States\", \"United States\", \"United States\", \"China\", \"South Korea\", \"Ireland\", \"United States\", \"Spain\", \"Japan\", \"Turkey\", \"United States\", \"United States\", \"United States\", \"Canada\", \"United States\", \"Colombia\", \"Colombia\", \"United States\", \"United States\", \"Denmark\", \"Indonesia\", \"United States\", \"United States\", \"United States\", \"India\", \"United Kingdom\", \"United States\", \"United States\", \"Spain\", \"Canada\", \"United States\", \"New Zealand\", \"United States\", \"United States\", \"United Kingdom\", \"United States\", \"South Korea\", \"Netherlands\", \"France\", \"United Kingdom\", \"United States\", \"Serbia\", \"Egypt\", \"United States\", \"United Kingdom\", \"United Kingdom\", \"China\", \"United Kingdom\", \"United States\", \"United States\", \"Russia\", \"United States\", \"Colombia\", \"United Kingdom\", \"United States\", \"Taiwan\", \"Australia\", \"India\", \"Nigeria\", \"United Kingdom\", \"United States\", \"United States\", \"United States\", \"United States\", \"United Kingdom\", \"Italy\", \"United States\", \"United States\", \"Denmark\", \"Australia\", \"South Korea\", \"Egypt\", \"Germany\", \"United States\", \"Mexico\", \"United States\", \"United States\", \"United States\", \"Nigeria\", \"Japan\", \"Japan\", \"United States\", \"United States\", \"United States\", \"India\", \"United States\", \"United States\", \"United Kingdom\", \"Ireland\", \"Italy\", \"United States\", \"Canada\", \"Spain\", \"Spain\", \"Spain\", \"Mexico\", \"Indonesia\", \"United States\", \"Spain\", \"India\", \"United States\", \"United States\", \"United States\", \"Ukraine\", \"United States\", \"United States\", \"United States\", \"Argentina\", \"South Korea\", \"South Korea\", \"United States\", \"United States\", \"United States\", \"United States\", \"Poland\", \"United States\", \"France\", \"United States\", \"United Kingdom\", \"United Kingdom\", \"United States\", \"France\", \"United States\", \"United States\", \"United States\", \"United Kingdom\", \"United States\", \"United States\", \"Thailand\", \"United Kingdom\", \"United States\", \"Egypt\", \"Egypt\", \"United Kingdom\", \"United States\", \"United States\", \"Philippines\", \"United States\", \"United States\", \"United Kingdom\", \"United States\", \"United States\", \"Argentina\", \"United States\", \"United States\", \"United Kingdom\", \"Egypt\", \"Philippines\", \"Mexico\", \"United States\", \"United Kingdom\", \"United States\", \"United States\", \"United Kingdom\", \"United States\", \"United States\", \"Georgia\", \"United States\", \"United States\", \"Spain\", \"Italy\", \"United States\", \"United States\", \"Spain\", \"United States\", \"United States\", \"United Kingdom\", \"United States\", \"United States\", \"United Kingdom\", \"Singapore\", \"Ireland\", \"United States\", \"Belgium\", \"United States\", \"Hong Kong\", \"United Kingdom\", \"United States\", \"Singapore\", \"United States\", \"Thailand\", \"South Korea\", \"Thailand\", \"United States\", \"United States\", \"United States\", \"United States\", \"Belgium\", \"United States\", \"Australia\", \"Philippines\", \"United States\", \"China\", \"United States\", \"Iceland\", \"United States\", \"United States\", \"United States\", \"United States\", \"United States\", \"Taiwan\", \"United States\", \"India\", \"United States\", \"United States\", \"Egypt\", \"China\", \"United States\", \"Spain\", \"Australia\", \"New Zealand\", \"United States\", \"Philippines\", \"Nigeria\", \"Nigeria\", \"United States\", \"United States\", \"United States\", \"United Kingdom\", \"United States\", \"Australia\", \"Canada\", \"United Kingdom\", \"India\", \"United Kingdom\", \"United States\", \"South Korea\", \"United States\", \"United States\", \"Egypt\", \"France\", \"China\", \"United Kingdom\", \"Israel\", \"Poland\", \"France\", \"United Kingdom\", \"France\", \"United States\", \"United Kingdom\", \"United Kingdom\", \"United Kingdom\", \"United Arab Emirates\", \"Lebanon\", \"Canada\", \"United States\", \"Turkey\", \"Taiwan\", \"United States\", \"Ireland\", \"Hong Kong\", \"India\", \"Canada\", \"India\", \"India\", \"United States\", \"United States\", \"United States\", \"United States\", \"United States\", \"Canada\", \"France\", \"United Kingdom\", \"United States\", \"Spain\", \"Brazil\", \"Belgium\", \"Thailand\", \"Indonesia\", \"Egypt\", \"South Korea\", \"China\", \"Belgium\", \"India\", \"United States\", \"United States\", \"United States\", \"United Kingdom\", \"Thailand\", \"United States\", \"United States\", \"United Kingdom\", \"United Kingdom\", \"India\", \"Hong Kong\", \"Spain\", \"United Kingdom\", \"Philippines\", \"United States\", \"United States\", \"Canada\", \"India\", \"United States\", \"United States\", \"Australia\", \"United States\", \"Spain\", \"China\", \"United States\", \"United States\", \"United States\", \"United States\", \"United States\", \"India\", \"United States\", \"United States\", \"Mexico\", \"China\", \"India\", \"Taiwan\", \"United States\", \"United States\", \"United Kingdom\", \"United Kingdom\", \"India\", \"India\", \"Mexico\", \"South Korea\", \"United States\", \"United States\", \"United States\", \"United States\", \"United Kingdom\", \"Spain\", \"United States\", \"United States\", \"United States\", \"United States\", \"United States\", \"Germany\", \"United States\", \"South Africa\", \"United States\", \"United States\", \"United States\", \"United States\", \"United States\", \"France\", \"United States\", \"Russia\", \"United States\", \"United Kingdom\", \"Canada\", \"Spain\", \"United States\", \"United States\", \"United States\", \"Argentina\", \"Argentina\", \"Singapore\", \"India\", \"India\", \"United Kingdom\", \"Canada\", \"Turkey\", \"United States\", \"United States\", \"United States\", \"United States\", \"United States\", \"United States\", \"United States\", \"United States\", \"United Kingdom\", \"South Korea\", \"South Korea\", \"France\", \"United States\", \"Indonesia\", \"United States\", \"United States\", \"Netherlands\", \"Thailand\", \"United Kingdom\", \"United States\", \"United States\", \"India\", \"Japan\", \"India\", \"Spain\", \"United States\", \"Canada\", \"United States\", \"United States\", \"India\", \"United States\", \"Spain\", \"United States\", \"United States\", \"India\", \"Canada\", \"Canada\", \"Canada\", \"Canada\", \"Canada\", \"Canada\", \"United States\", \"Canada\", \"Canada\", \"Canada\", \"Canada\", \"Thailand\", \"South Korea\", \"United Kingdom\", \"United States\", \"United Kingdom\", \"United States\", \"United Kingdom\", \"France\", \"Canada\", \"United States\", \"United States\", \"United States\", \"Canada\", \"United States\", \"United States\", \"United States\", \"United Kingdom\", \"United States\", \"United States\", \"Turkey\", \"Canada\", \"United States\", \"United States\", \"United Kingdom\", \"United States\", \"Canada\", \"South Korea\", \"United States\", \"United States\", \"United States\", \"United States\", \"South Africa\", \"United States\", \"United States\", \"United Kingdom\", \"United States\", \"United States\", \"United States\", \"United States\", \"United States\", \"United States\", \"United States\", \"India\", \"India\", \"United States\", \"United States\", \"India\", \"United States\", \"United States\", \"Thailand\", \"United States\", \"United States\", \"United States\", \"United States\", \"United States\", \"United Kingdom\", \"France\", \"Russia\", \"United Kingdom\", \"United States\", \"India\", \"United States\", \"United States\", \"United States\", \"United States\", \"United States\", \"Canada\", \"Canada\", \"United States\", \"United States\", \"Canada\", \"Canada\", \"Canada\", \"United States\", \"United States\", \"Canada\", \"United States\", \"United Kingdom\", \"United States\", \"India\", \"United States\", \"Canada\", \"India\", \"India\", \"United States\", \"Japan\", \"United States\", \"South Korea\", \"United States\", \"United States\", \"United States\", \"United States\", \"Turkey\", \"United Kingdom\", \"United States\", \"United States\", \"United States\", \"Japan\", \"France\", \"Spain\", \"United States\", \"Hong Kong\", \"United States\", \"United Kingdom\", \"India\", \"Spain\", \"Taiwan\", \"United Kingdom\", \"Canada\", \"United States\", \"South Korea\", \"Australia\", \"India\", \"United States\", \"India\", \"Philippines\", \"India\", \"India\", \"India\", \"India\", \"United States\", \"Thailand\", \"India\", \"United States\", \"United States\", \"United States\", \"Japan\", \"Italy\", \"Poland\", \"India\", \"India\", \"France\", \"United Kingdom\", \"Canada\", \"United States\", \"United States\", \"Spain\", \"United States\", \"United States\", \"United States\", \"Spain\", \"India\", \"Spain\", \"United States\", \"United States\", \"United Arab Emirates\", \"United States\", \"South Africa\", \"United States\", \"United States\", \"United States\", \"United States\", \"South Korea\", \"France\", \"United States\", \"Italy\", \"United Kingdom\", \"Switzerland\", \"Belgium\", \"United States\", \"Canada\", \"Colombia\", \"United States\", \"Argentina\", \"Philippines\", \"United Kingdom\", \"United States\", \"India\", \"United States\", \"Canada\", \"Belgium\", \"United Kingdom\", \"Spain\", \"United States\", \"United States\", \"Germany\", \"China\", \"United Kingdom\", \"Singapore\", \"Egypt\", \"United States\", \"United States\", \"United States\", \"Mexico\", \"Romania\", \"France\", \"Spain\", \"United States\", \"Nigeria\", \"Malaysia\", \"United States\", \"India\", \"India\", \"India\", \"Australia\", \"China\", \"Egypt\", \"United States\", \"India\", \"United States\", \"United States\", \"United States\", \"South Korea\", \"Brazil\", \"Egypt\", \"Spain\", \"United States\", \"Japan\", \"France\", \"United States\", \"United States\", \"India\", \"United States\", \"India\", \"South Africa\", \"India\", \"India\", \"United States\", \"United States\", \"United States\", \"Spain\", \"United States\", \"Spain\", \"United States\", \"Mexico\", \"Spain\", \"France\", \"Indonesia\", \"Indonesia\", \"Lebanon\", \"India\", \"United Kingdom\", \"United Kingdom\", \"Spain\", \"United States\", \"United States\", \"United States\", \"Argentina\", \"United Kingdom\", \"United States\", \"United Kingdom\", \"Philippines\", \"United States\", \"Japan\", \"Japan\", \"United States\", \"United States\", \"India\", \"United States\", \"India\", \"United States\", \"United States\", \"India\", \"United Kingdom\", \"United States\", \"India\", \"India\", \"India\", \"Turkey\", \"Turkey\", \"India\", \"South Korea\", \"United States\", \"United States\", \"France\", \"United States\", \"South Korea\", \"United Kingdom\", \"United States\", \"United Kingdom\", \"United States\", \"India\", \"United Kingdom\", \"Pakistan\", \"India\", \"United States\", \"Saudi Arabia\", \"China\", \"India\", \"United States\", \"United States\", \"United States\", \"India\", \"United States\", \"France\", \"United States\", \"United States\", \"United Kingdom\", \"United States\", \"United States\", \"United States\", \"United States\", \"France\", \"United Kingdom\", \"Australia\", \"United States\", \"United States\", \"India\", \"United States\", \"United States\", \"United Kingdom\", \"Egypt\", \"Mexico\", \"Denmark\", \"United States\", \"Poland\", \"South Korea\", \"France\", \"United States\", \"India\", \"United States\", \"United States\", \"United Kingdom\", \"Taiwan\", \"India\", \"Lebanon\", \"India\", \"Hong Kong\", \"France\", \"United States\", \"Germany\", \"Germany\", \"United Kingdom\", \"United States\", \"United States\", \"United States\", \"United States\", \"Spain\", \"United States\", \"United States\", \"United States\", \"United States\", \"Egypt\", \"United States\", \"United States\", \"Austria\", \"Poland\", \"France\", \"Kuwait\", \"United States\", \"United States\", \"Hong Kong\", \"United Kingdom\", \"India\", \"India\", \"Italy\", \"United States\", \"United States\", \"India\", \"United States\", \"Spain\", \"United States\", \"India\", \"China\", \"Australia\", \"France\", \"France\", \"United States\", \"Poland\", \"United States\", \"United States\", \"United States\", \"United States\", \"United States\", \"United States\", \"United States\", \"China\", \"India\", \"Lebanon\", \"United States\", \"United Kingdom\", \"South Korea\", \"United States\", \"Turkey\", \"United States\", \"South Korea\", \"Taiwan\", \"Canada\", \"United States\", \"United Kingdom\", \"Taiwan\", \"United States\", \"Spain\", \"India\", \"United States\", \"India\", \"United States\", \"United States\", \"Austria\", \"United States\", \"United States\", \"United States\", \"Indonesia\", \"Saudi Arabia\", \"India\", \"United States\", \"United States\", \"Spain\", \"United States\", \"United Kingdom\", \"Israel\", \"Taiwan\", \"Nigeria\", \"South Korea\", \"United States\", \"Peru\", \"United States\", \"Germany\", \"United States\", \"United States\", \"Brazil\", \"Indonesia\", \"Uruguay\", \"Lebanon\", \"United Kingdom\", \"United States\", \"France\", \"United States\", \"United Kingdom\", \"United Kingdom\", \"United Kingdom\", \"South Korea\", \"United States\", \"United States\", \"United States\", \"France\", \"United States\", \"United States\", \"Spain\", \"United States\", \"Taiwan\", \"United States\", \"United States\", \"United Kingdom\", \"Canada\", \"Romania\", \"United States\", \"United Kingdom\", \"United Kingdom\", \"United States\", \"Colombia\", \"Germany\", \"United States\", \"United States\", \"United States\", \"United States\", \"United Kingdom\", \"Hungary\", \"United States\", \"United States\", \"United Kingdom\", \"Australia\", \"United States\", \"France\", \"United States\", \"Australia\", \"United Kingdom\", \"Turkey\", \"United States\", \"Italy\", \"Malaysia\", \"United States\", \"United States\", \"United States\", \"United States\", \"United Kingdom\", \"Canada\", \"United Kingdom\", \"Nigeria\", \"United Kingdom\", \"United States\", \"Turkey\", \"United States\", \"United States\", \"Poland\", \"Netherlands\", \"United States\", \"United States\", \"United States\", \"United States\", \"United States\", \"United States\", \"United States\", \"Canada\", \"Singapore\", \"India\", \"Italy\", \"United States\", \"United Kingdom\", \"United Kingdom\", \"United States\", \"United States\", \"United States\", \"United States\", \"Australia\", \"Pakistan\", \"India\", \"United States\", \"United States\", \"United States\", \"United States\", \"United States\", \"Canada\", \"Egypt\", \"India\", \"United States\", \"United Kingdom\", \"Canada\", \"United States\", \"United States\", \"Mexico\", \"India\", \"United States\", \"India\", \"India\", \"India\", \"India\", \"India\", \"Mexico\", \"China\", \"Egypt\", \"India\", \"India\", \"India\", \"France\", \"United States\", \"Thailand\", \"Thailand\", \"Thailand\", \"Singapore\", \"United States\", \"South Korea\", \"United States\", \"Japan\", \"United States\", \"United States\", \"Russia\", \"United States\", \"South Korea\", \"United States\", \"South Korea\", \"United States\", \"United States\", \"United Kingdom\", \"United States\", \"Mexico\", \"Croatia\", \"Philippines\", \"United States\", \"United States\", \"United States\", \"Turkey\", \"Philippines\", \"Taiwan\", \"Mexico\", \"United States\", \"United States\", \"Hong Kong\", \"United Kingdom\", \"United States\", \"Japan\", \"Taiwan\", \"Spain\", \"Singapore\", \"India\", \"United States\", \"United States\", \"Egypt\", \"Egypt\", \"Japan\", \"Japan\", \"Spain\", \"Australia\", \"Turkey\", \"India\", \"United States\", \"Brazil\", \"United States\", \"United States\", \"United States\", \"Egypt\", \"Canada\", \"India\", \"India\", \"India\", \"United States\", \"France\", \"Pakistan\", \"Pakistan\", \"India\", \"United Arab Emirates\", \"United States\", \"Spain\", \"Mexico\", \"United States\", \"Japan\", \"India\", \"United States\", \"United States\", \"Mexico\", \"India\", \"United States\", \"Sweden\", \"India\", \"United States\", \"Australia\", \"United Kingdom\"], \"xaxis\": \"x\", \"yaxis\": \"y\"}],                        {\"barmode\": \"relative\", \"legend\": {\"tracegroupgap\": 0}, \"margin\": {\"t\": 60}, \"template\": {\"data\": {\"bar\": [{\"error_x\": {\"color\": \"#2a3f5f\"}, \"error_y\": {\"color\": \"#2a3f5f\"}, \"marker\": {\"line\": {\"color\": \"#E5ECF6\", \"width\": 0.5}}, \"type\": \"bar\"}], \"barpolar\": [{\"marker\": {\"line\": {\"color\": \"#E5ECF6\", \"width\": 0.5}}, \"type\": \"barpolar\"}], \"carpet\": [{\"aaxis\": {\"endlinecolor\": \"#2a3f5f\", \"gridcolor\": \"white\", \"linecolor\": \"white\", \"minorgridcolor\": \"white\", \"startlinecolor\": \"#2a3f5f\"}, \"baxis\": {\"endlinecolor\": \"#2a3f5f\", \"gridcolor\": \"white\", \"linecolor\": \"white\", \"minorgridcolor\": \"white\", \"startlinecolor\": \"#2a3f5f\"}, \"type\": \"carpet\"}], \"choropleth\": [{\"colorbar\": {\"outlinewidth\": 0, \"ticks\": \"\"}, \"type\": \"choropleth\"}], \"contour\": [{\"colorbar\": {\"outlinewidth\": 0, \"ticks\": \"\"}, \"colorscale\": [[0.0, \"#0d0887\"], [0.1111111111111111, \"#46039f\"], [0.2222222222222222, \"#7201a8\"], [0.3333333333333333, \"#9c179e\"], [0.4444444444444444, \"#bd3786\"], [0.5555555555555556, \"#d8576b\"], [0.6666666666666666, \"#ed7953\"], [0.7777777777777778, \"#fb9f3a\"], [0.8888888888888888, \"#fdca26\"], [1.0, \"#f0f921\"]], \"type\": \"contour\"}], \"contourcarpet\": [{\"colorbar\": {\"outlinewidth\": 0, \"ticks\": \"\"}, \"type\": \"contourcarpet\"}], \"heatmap\": [{\"colorbar\": {\"outlinewidth\": 0, \"ticks\": \"\"}, \"colorscale\": [[0.0, \"#0d0887\"], [0.1111111111111111, \"#46039f\"], [0.2222222222222222, \"#7201a8\"], [0.3333333333333333, \"#9c179e\"], [0.4444444444444444, \"#bd3786\"], [0.5555555555555556, \"#d8576b\"], [0.6666666666666666, \"#ed7953\"], [0.7777777777777778, \"#fb9f3a\"], [0.8888888888888888, \"#fdca26\"], [1.0, \"#f0f921\"]], \"type\": \"heatmap\"}], \"heatmapgl\": [{\"colorbar\": {\"outlinewidth\": 0, \"ticks\": \"\"}, \"colorscale\": [[0.0, \"#0d0887\"], [0.1111111111111111, \"#46039f\"], [0.2222222222222222, \"#7201a8\"], [0.3333333333333333, \"#9c179e\"], [0.4444444444444444, \"#bd3786\"], [0.5555555555555556, \"#d8576b\"], [0.6666666666666666, \"#ed7953\"], [0.7777777777777778, \"#fb9f3a\"], [0.8888888888888888, \"#fdca26\"], [1.0, \"#f0f921\"]], \"type\": \"heatmapgl\"}], \"histogram\": [{\"marker\": {\"colorbar\": {\"outlinewidth\": 0, \"ticks\": \"\"}}, \"type\": \"histogram\"}], \"histogram2d\": [{\"colorbar\": {\"outlinewidth\": 0, \"ticks\": \"\"}, \"colorscale\": [[0.0, \"#0d0887\"], [0.1111111111111111, \"#46039f\"], [0.2222222222222222, \"#7201a8\"], [0.3333333333333333, \"#9c179e\"], [0.4444444444444444, \"#bd3786\"], [0.5555555555555556, \"#d8576b\"], [0.6666666666666666, \"#ed7953\"], [0.7777777777777778, \"#fb9f3a\"], [0.8888888888888888, \"#fdca26\"], [1.0, \"#f0f921\"]], \"type\": \"histogram2d\"}], \"histogram2dcontour\": [{\"colorbar\": {\"outlinewidth\": 0, \"ticks\": \"\"}, \"colorscale\": [[0.0, \"#0d0887\"], [0.1111111111111111, \"#46039f\"], [0.2222222222222222, \"#7201a8\"], [0.3333333333333333, \"#9c179e\"], [0.4444444444444444, \"#bd3786\"], [0.5555555555555556, \"#d8576b\"], [0.6666666666666666, \"#ed7953\"], [0.7777777777777778, \"#fb9f3a\"], [0.8888888888888888, \"#fdca26\"], [1.0, \"#f0f921\"]], \"type\": \"histogram2dcontour\"}], \"mesh3d\": [{\"colorbar\": {\"outlinewidth\": 0, \"ticks\": \"\"}, \"type\": \"mesh3d\"}], \"parcoords\": [{\"line\": {\"colorbar\": {\"outlinewidth\": 0, \"ticks\": \"\"}}, \"type\": \"parcoords\"}], \"pie\": [{\"automargin\": true, \"type\": \"pie\"}], \"scatter\": [{\"marker\": {\"colorbar\": {\"outlinewidth\": 0, \"ticks\": \"\"}}, \"type\": \"scatter\"}], \"scatter3d\": [{\"line\": {\"colorbar\": {\"outlinewidth\": 0, \"ticks\": \"\"}}, \"marker\": {\"colorbar\": {\"outlinewidth\": 0, \"ticks\": \"\"}}, \"type\": \"scatter3d\"}], \"scattercarpet\": [{\"marker\": {\"colorbar\": {\"outlinewidth\": 0, \"ticks\": \"\"}}, \"type\": \"scattercarpet\"}], \"scattergeo\": [{\"marker\": {\"colorbar\": {\"outlinewidth\": 0, \"ticks\": \"\"}}, \"type\": \"scattergeo\"}], \"scattergl\": [{\"marker\": {\"colorbar\": {\"outlinewidth\": 0, \"ticks\": \"\"}}, \"type\": \"scattergl\"}], \"scattermapbox\": [{\"marker\": {\"colorbar\": {\"outlinewidth\": 0, \"ticks\": \"\"}}, \"type\": \"scattermapbox\"}], \"scatterpolar\": [{\"marker\": {\"colorbar\": {\"outlinewidth\": 0, \"ticks\": \"\"}}, \"type\": \"scatterpolar\"}], \"scatterpolargl\": [{\"marker\": {\"colorbar\": {\"outlinewidth\": 0, \"ticks\": \"\"}}, \"type\": \"scatterpolargl\"}], \"scatterternary\": [{\"marker\": {\"colorbar\": {\"outlinewidth\": 0, \"ticks\": \"\"}}, \"type\": \"scatterternary\"}], \"surface\": [{\"colorbar\": {\"outlinewidth\": 0, \"ticks\": \"\"}, \"colorscale\": [[0.0, \"#0d0887\"], [0.1111111111111111, \"#46039f\"], [0.2222222222222222, \"#7201a8\"], [0.3333333333333333, \"#9c179e\"], [0.4444444444444444, \"#bd3786\"], [0.5555555555555556, \"#d8576b\"], [0.6666666666666666, \"#ed7953\"], [0.7777777777777778, \"#fb9f3a\"], [0.8888888888888888, \"#fdca26\"], [1.0, \"#f0f921\"]], \"type\": \"surface\"}], \"table\": [{\"cells\": {\"fill\": {\"color\": \"#EBF0F8\"}, \"line\": {\"color\": \"white\"}}, \"header\": {\"fill\": {\"color\": \"#C8D4E3\"}, \"line\": {\"color\": \"white\"}}, \"type\": \"table\"}]}, \"layout\": {\"annotationdefaults\": {\"arrowcolor\": \"#2a3f5f\", \"arrowhead\": 0, \"arrowwidth\": 1}, \"autotypenumbers\": \"strict\", \"coloraxis\": {\"colorbar\": {\"outlinewidth\": 0, \"ticks\": \"\"}}, \"colorscale\": {\"diverging\": [[0, \"#8e0152\"], [0.1, \"#c51b7d\"], [0.2, \"#de77ae\"], [0.3, \"#f1b6da\"], [0.4, \"#fde0ef\"], [0.5, \"#f7f7f7\"], [0.6, \"#e6f5d0\"], [0.7, \"#b8e186\"], [0.8, \"#7fbc41\"], [0.9, \"#4d9221\"], [1, \"#276419\"]], \"sequential\": [[0.0, \"#0d0887\"], [0.1111111111111111, \"#46039f\"], [0.2222222222222222, \"#7201a8\"], [0.3333333333333333, \"#9c179e\"], [0.4444444444444444, \"#bd3786\"], [0.5555555555555556, \"#d8576b\"], [0.6666666666666666, \"#ed7953\"], [0.7777777777777778, \"#fb9f3a\"], [0.8888888888888888, \"#fdca26\"], [1.0, \"#f0f921\"]], \"sequentialminus\": [[0.0, \"#0d0887\"], [0.1111111111111111, \"#46039f\"], [0.2222222222222222, \"#7201a8\"], [0.3333333333333333, \"#9c179e\"], [0.4444444444444444, \"#bd3786\"], [0.5555555555555556, \"#d8576b\"], [0.6666666666666666, \"#ed7953\"], [0.7777777777777778, \"#fb9f3a\"], [0.8888888888888888, \"#fdca26\"], [1.0, \"#f0f921\"]]}, \"colorway\": [\"#636efa\", \"#EF553B\", \"#00cc96\", \"#ab63fa\", \"#FFA15A\", \"#19d3f3\", \"#FF6692\", \"#B6E880\", \"#FF97FF\", \"#FECB52\"], \"font\": {\"color\": \"#2a3f5f\"}, \"geo\": {\"bgcolor\": \"white\", \"lakecolor\": \"white\", \"landcolor\": \"#E5ECF6\", \"showlakes\": true, \"showland\": true, \"subunitcolor\": \"white\"}, \"hoverlabel\": {\"align\": \"left\"}, \"hovermode\": \"closest\", \"mapbox\": {\"style\": \"light\"}, \"paper_bgcolor\": \"white\", \"plot_bgcolor\": \"#E5ECF6\", \"polar\": {\"angularaxis\": {\"gridcolor\": \"white\", \"linecolor\": \"white\", \"ticks\": \"\"}, \"bgcolor\": \"#E5ECF6\", \"radialaxis\": {\"gridcolor\": \"white\", \"linecolor\": \"white\", \"ticks\": \"\"}}, \"scene\": {\"xaxis\": {\"backgroundcolor\": \"#E5ECF6\", \"gridcolor\": \"white\", \"gridwidth\": 2, \"linecolor\": \"white\", \"showbackground\": true, \"ticks\": \"\", \"zerolinecolor\": \"white\"}, \"yaxis\": {\"backgroundcolor\": \"#E5ECF6\", \"gridcolor\": \"white\", \"gridwidth\": 2, \"linecolor\": \"white\", \"showbackground\": true, \"ticks\": \"\", \"zerolinecolor\": \"white\"}, \"zaxis\": {\"backgroundcolor\": \"#E5ECF6\", \"gridcolor\": \"white\", \"gridwidth\": 2, \"linecolor\": \"white\", \"showbackground\": true, \"ticks\": \"\", \"zerolinecolor\": \"white\"}}, \"shapedefaults\": {\"line\": {\"color\": \"#2a3f5f\"}}, \"ternary\": {\"aaxis\": {\"gridcolor\": \"white\", \"linecolor\": \"white\", \"ticks\": \"\"}, \"baxis\": {\"gridcolor\": \"white\", \"linecolor\": \"white\", \"ticks\": \"\"}, \"bgcolor\": \"#E5ECF6\", \"caxis\": {\"gridcolor\": \"white\", \"linecolor\": \"white\", \"ticks\": \"\"}}, \"title\": {\"x\": 0.05}, \"xaxis\": {\"automargin\": true, \"gridcolor\": \"white\", \"linecolor\": \"white\", \"ticks\": \"\", \"title\": {\"standoff\": 15}, \"zerolinecolor\": \"white\", \"zerolinewidth\": 2}, \"yaxis\": {\"automargin\": true, \"gridcolor\": \"white\", \"linecolor\": \"white\", \"ticks\": \"\", \"title\": {\"standoff\": 15}, \"zerolinecolor\": \"white\", \"zerolinewidth\": 2}}}, \"xaxis\": {\"anchor\": \"y\", \"categoryorder\": \"total ascending\", \"domain\": [0.0, 1.0], \"title\": {\"text\": \"country_main\"}}, \"yaxis\": {\"anchor\": \"x\", \"domain\": [0.0, 1.0], \"title\": {\"text\": \"count\"}}},                        {\"responsive\": true}                    ).then(function(){\n",
       "                            \n",
       "var gd = document.getElementById('b0d2545f-1268-43d6-8f01-e7c43f069893');\n",
       "var x = new MutationObserver(function (mutations, observer) {{\n",
       "        var display = window.getComputedStyle(gd).display;\n",
       "        if (!display || display === 'none') {{\n",
       "            console.log([gd, 'removed!']);\n",
       "            Plotly.purge(gd);\n",
       "            observer.disconnect();\n",
       "        }}\n",
       "}});\n",
       "\n",
       "// Listen for the removal of the full notebook cells\n",
       "var notebookContainer = gd.closest('#notebook-container');\n",
       "if (notebookContainer) {{\n",
       "    x.observe(notebookContainer, {childList: true});\n",
       "}}\n",
       "\n",
       "// Listen for the clearing of the current output cell\n",
       "var outputEl = gd.closest('.output');\n",
       "if (outputEl) {{\n",
       "    x.observe(outputEl, {childList: true});\n",
       "}}\n",
       "\n",
       "                        })                };                });            </script>        </div>"
      ]
     },
     "metadata": {},
     "output_type": "display_data"
    }
   ],
   "source": [
    "fig = px.histogram(data, x='country_main',color_discrete_sequence=['indianred'])\n",
    "fig.update_xaxes(categoryorder='total ascending')\n",
    "fig.show()"
   ]
  },
  {
   "cell_type": "markdown",
   "id": "expected-production",
   "metadata": {
    "papermill": {
     "duration": 0.051532,
     "end_time": "2021-06-22T09:27:07.044109",
     "exception": false,
     "start_time": "2021-06-22T09:27:06.992577",
     "status": "completed"
    },
    "tags": []
   },
   "source": [
    "Conclusion: The above histogram represents the content added with respect to the country_main column."
   ]
  },
  {
   "cell_type": "code",
   "execution_count": 23,
   "id": "nearby-columbia",
   "metadata": {
    "execution": {
     "iopub.execute_input": "2021-06-22T09:27:07.156499Z",
     "iopub.status.busy": "2021-06-22T09:27:07.155510Z",
     "iopub.status.idle": "2021-06-22T09:27:07.158599Z",
     "shell.execute_reply": "2021-06-22T09:27:07.158057Z",
     "shell.execute_reply.started": "2021-06-22T09:18:27.022514Z"
    },
    "papermill": {
     "duration": 0.062679,
     "end_time": "2021-06-22T09:27:07.158757",
     "exception": false,
     "start_time": "2021-06-22T09:27:07.096078",
     "status": "completed"
    },
    "tags": []
   },
   "outputs": [],
   "source": [
    "def generate_age_df(df):\n",
    "    new_df = df.groupby(['target_age']).agg({'show_id': 'count'}).reset_index()\n",
    "    new_df = new_df[new_df['show_id'] != 0]\n",
    "    new_df.columns = ['target_age', 'counts']\n",
    "    new_df = new_df.sort_values('target_age')\n",
    "    \n",
    "    return new_df"
   ]
  },
  {
   "cell_type": "code",
   "execution_count": 24,
   "id": "secure-fleece",
   "metadata": {
    "execution": {
     "iopub.execute_input": "2021-06-22T09:27:07.291480Z",
     "iopub.status.busy": "2021-06-22T09:27:07.273188Z",
     "iopub.status.idle": "2021-06-22T09:27:07.332957Z",
     "shell.execute_reply": "2021-06-22T09:27:07.332286Z",
     "shell.execute_reply.started": "2021-06-22T09:18:27.031821Z"
    },
    "papermill": {
     "duration": 0.120786,
     "end_time": "2021-06-22T09:27:07.333100",
     "exception": false,
     "start_time": "2021-06-22T09:27:07.212314",
     "status": "completed"
    },
    "tags": []
   },
   "outputs": [
    {
     "data": {
      "text/html": [
       "<div>                            <div id=\"fcc903c2-b16e-4410-854d-f99ba0c8b6d8\" class=\"plotly-graph-div\" style=\"height:550px; width:550px;\"></div>            <script type=\"text/javascript\">                require([\"plotly\"], function(Plotly) {                    window.PLOTLYENV=window.PLOTLYENV || {};                                    if (document.getElementById(\"fcc903c2-b16e-4410-854d-f99ba0c8b6d8\")) {                    Plotly.newPlot(                        \"fcc903c2-b16e-4410-854d-f99ba0c8b6d8\",                        [{\"domain\": {\"x\": [0.0, 1.0], \"y\": [0.0, 1.0]}, \"hole\": 0.75, \"hovertemplate\": \"label=%{label}<br>value=%{value}<extra></extra>\", \"labels\": [\"Adults\", \"Kids\", \"Older Kids\", \"Teens\", \"United States\"], \"legendgroup\": \"\", \"marker\": {\"colors\": [\"#3D0C02\", \"#800000\", \"#C11B17\", \"#C0C0C0\"], \"line\": {\"color\": \"white\", \"width\": 2}}, \"name\": \"\", \"showlegend\": true, \"textinfo\": \"percent+label\", \"textposition\": \"inside\", \"type\": \"pie\", \"values\": [2595, 267, 852, 1658, 5]}],                        {\"annotations\": [{\"font\": {\"color\": \"black\", \"size\": 40}, \"showarrow\": false, \"text\": \"Movies\", \"x\": 0.5, \"y\": 0.5}], \"height\": 550, \"legend\": {\"tracegroupgap\": 0}, \"margin\": {\"t\": 60}, \"showlegend\": false, \"template\": {\"data\": {\"bar\": [{\"error_x\": {\"color\": \"#2a3f5f\"}, \"error_y\": {\"color\": \"#2a3f5f\"}, \"marker\": {\"line\": {\"color\": \"#E5ECF6\", \"width\": 0.5}}, \"type\": \"bar\"}], \"barpolar\": [{\"marker\": {\"line\": {\"color\": \"#E5ECF6\", \"width\": 0.5}}, \"type\": \"barpolar\"}], \"carpet\": [{\"aaxis\": {\"endlinecolor\": \"#2a3f5f\", \"gridcolor\": \"white\", \"linecolor\": \"white\", \"minorgridcolor\": \"white\", \"startlinecolor\": \"#2a3f5f\"}, \"baxis\": {\"endlinecolor\": \"#2a3f5f\", \"gridcolor\": \"white\", \"linecolor\": \"white\", \"minorgridcolor\": \"white\", \"startlinecolor\": \"#2a3f5f\"}, \"type\": \"carpet\"}], \"choropleth\": [{\"colorbar\": {\"outlinewidth\": 0, \"ticks\": \"\"}, \"type\": \"choropleth\"}], \"contour\": [{\"colorbar\": {\"outlinewidth\": 0, \"ticks\": \"\"}, \"colorscale\": [[0.0, \"#0d0887\"], [0.1111111111111111, \"#46039f\"], [0.2222222222222222, \"#7201a8\"], [0.3333333333333333, \"#9c179e\"], [0.4444444444444444, \"#bd3786\"], [0.5555555555555556, \"#d8576b\"], [0.6666666666666666, \"#ed7953\"], [0.7777777777777778, \"#fb9f3a\"], [0.8888888888888888, \"#fdca26\"], [1.0, \"#f0f921\"]], \"type\": \"contour\"}], \"contourcarpet\": [{\"colorbar\": {\"outlinewidth\": 0, \"ticks\": \"\"}, \"type\": \"contourcarpet\"}], \"heatmap\": [{\"colorbar\": {\"outlinewidth\": 0, \"ticks\": \"\"}, \"colorscale\": [[0.0, \"#0d0887\"], [0.1111111111111111, \"#46039f\"], [0.2222222222222222, \"#7201a8\"], [0.3333333333333333, \"#9c179e\"], [0.4444444444444444, \"#bd3786\"], [0.5555555555555556, \"#d8576b\"], [0.6666666666666666, \"#ed7953\"], [0.7777777777777778, \"#fb9f3a\"], [0.8888888888888888, \"#fdca26\"], [1.0, \"#f0f921\"]], \"type\": \"heatmap\"}], \"heatmapgl\": [{\"colorbar\": {\"outlinewidth\": 0, \"ticks\": \"\"}, \"colorscale\": [[0.0, \"#0d0887\"], [0.1111111111111111, \"#46039f\"], [0.2222222222222222, \"#7201a8\"], [0.3333333333333333, \"#9c179e\"], [0.4444444444444444, \"#bd3786\"], [0.5555555555555556, \"#d8576b\"], [0.6666666666666666, \"#ed7953\"], [0.7777777777777778, \"#fb9f3a\"], [0.8888888888888888, \"#fdca26\"], [1.0, \"#f0f921\"]], \"type\": \"heatmapgl\"}], \"histogram\": [{\"marker\": {\"colorbar\": {\"outlinewidth\": 0, \"ticks\": \"\"}}, \"type\": \"histogram\"}], \"histogram2d\": [{\"colorbar\": {\"outlinewidth\": 0, \"ticks\": \"\"}, \"colorscale\": [[0.0, \"#0d0887\"], [0.1111111111111111, \"#46039f\"], [0.2222222222222222, \"#7201a8\"], [0.3333333333333333, \"#9c179e\"], [0.4444444444444444, \"#bd3786\"], [0.5555555555555556, \"#d8576b\"], [0.6666666666666666, \"#ed7953\"], [0.7777777777777778, \"#fb9f3a\"], [0.8888888888888888, \"#fdca26\"], [1.0, \"#f0f921\"]], \"type\": \"histogram2d\"}], \"histogram2dcontour\": [{\"colorbar\": {\"outlinewidth\": 0, \"ticks\": \"\"}, \"colorscale\": [[0.0, \"#0d0887\"], [0.1111111111111111, \"#46039f\"], [0.2222222222222222, \"#7201a8\"], [0.3333333333333333, \"#9c179e\"], [0.4444444444444444, \"#bd3786\"], [0.5555555555555556, \"#d8576b\"], [0.6666666666666666, \"#ed7953\"], [0.7777777777777778, \"#fb9f3a\"], [0.8888888888888888, \"#fdca26\"], [1.0, \"#f0f921\"]], \"type\": \"histogram2dcontour\"}], \"mesh3d\": [{\"colorbar\": {\"outlinewidth\": 0, \"ticks\": \"\"}, \"type\": \"mesh3d\"}], \"parcoords\": [{\"line\": {\"colorbar\": {\"outlinewidth\": 0, \"ticks\": \"\"}}, \"type\": \"parcoords\"}], \"pie\": [{\"automargin\": true, \"type\": \"pie\"}], \"scatter\": [{\"marker\": {\"colorbar\": {\"outlinewidth\": 0, \"ticks\": \"\"}}, \"type\": \"scatter\"}], \"scatter3d\": [{\"line\": {\"colorbar\": {\"outlinewidth\": 0, \"ticks\": \"\"}}, \"marker\": {\"colorbar\": {\"outlinewidth\": 0, \"ticks\": \"\"}}, \"type\": \"scatter3d\"}], \"scattercarpet\": [{\"marker\": {\"colorbar\": {\"outlinewidth\": 0, \"ticks\": \"\"}}, \"type\": \"scattercarpet\"}], \"scattergeo\": [{\"marker\": {\"colorbar\": {\"outlinewidth\": 0, \"ticks\": \"\"}}, \"type\": \"scattergeo\"}], \"scattergl\": [{\"marker\": {\"colorbar\": {\"outlinewidth\": 0, \"ticks\": \"\"}}, \"type\": \"scattergl\"}], \"scattermapbox\": [{\"marker\": {\"colorbar\": {\"outlinewidth\": 0, \"ticks\": \"\"}}, \"type\": \"scattermapbox\"}], \"scatterpolar\": [{\"marker\": {\"colorbar\": {\"outlinewidth\": 0, \"ticks\": \"\"}}, \"type\": \"scatterpolar\"}], \"scatterpolargl\": [{\"marker\": {\"colorbar\": {\"outlinewidth\": 0, \"ticks\": \"\"}}, \"type\": \"scatterpolargl\"}], \"scatterternary\": [{\"marker\": {\"colorbar\": {\"outlinewidth\": 0, \"ticks\": \"\"}}, \"type\": \"scatterternary\"}], \"surface\": [{\"colorbar\": {\"outlinewidth\": 0, \"ticks\": \"\"}, \"colorscale\": [[0.0, \"#0d0887\"], [0.1111111111111111, \"#46039f\"], [0.2222222222222222, \"#7201a8\"], [0.3333333333333333, \"#9c179e\"], [0.4444444444444444, \"#bd3786\"], [0.5555555555555556, \"#d8576b\"], [0.6666666666666666, \"#ed7953\"], [0.7777777777777778, \"#fb9f3a\"], [0.8888888888888888, \"#fdca26\"], [1.0, \"#f0f921\"]], \"type\": \"surface\"}], \"table\": [{\"cells\": {\"fill\": {\"color\": \"#EBF0F8\"}, \"line\": {\"color\": \"white\"}}, \"header\": {\"fill\": {\"color\": \"#C8D4E3\"}, \"line\": {\"color\": \"white\"}}, \"type\": \"table\"}]}, \"layout\": {\"annotationdefaults\": {\"arrowcolor\": \"#2a3f5f\", \"arrowhead\": 0, \"arrowwidth\": 1}, \"autotypenumbers\": \"strict\", \"coloraxis\": {\"colorbar\": {\"outlinewidth\": 0, \"ticks\": \"\"}}, \"colorscale\": {\"diverging\": [[0, \"#8e0152\"], [0.1, \"#c51b7d\"], [0.2, \"#de77ae\"], [0.3, \"#f1b6da\"], [0.4, \"#fde0ef\"], [0.5, \"#f7f7f7\"], [0.6, \"#e6f5d0\"], [0.7, \"#b8e186\"], [0.8, \"#7fbc41\"], [0.9, \"#4d9221\"], [1, \"#276419\"]], \"sequential\": [[0.0, \"#0d0887\"], [0.1111111111111111, \"#46039f\"], [0.2222222222222222, \"#7201a8\"], [0.3333333333333333, \"#9c179e\"], [0.4444444444444444, \"#bd3786\"], [0.5555555555555556, \"#d8576b\"], [0.6666666666666666, \"#ed7953\"], [0.7777777777777778, \"#fb9f3a\"], [0.8888888888888888, \"#fdca26\"], [1.0, \"#f0f921\"]], \"sequentialminus\": [[0.0, \"#0d0887\"], [0.1111111111111111, \"#46039f\"], [0.2222222222222222, \"#7201a8\"], [0.3333333333333333, \"#9c179e\"], [0.4444444444444444, \"#bd3786\"], [0.5555555555555556, \"#d8576b\"], [0.6666666666666666, \"#ed7953\"], [0.7777777777777778, \"#fb9f3a\"], [0.8888888888888888, \"#fdca26\"], [1.0, \"#f0f921\"]]}, \"colorway\": [\"#636efa\", \"#EF553B\", \"#00cc96\", \"#ab63fa\", \"#FFA15A\", \"#19d3f3\", \"#FF6692\", \"#B6E880\", \"#FF97FF\", \"#FECB52\"], \"font\": {\"color\": \"#2a3f5f\"}, \"geo\": {\"bgcolor\": \"white\", \"lakecolor\": \"white\", \"landcolor\": \"#E5ECF6\", \"showlakes\": true, \"showland\": true, \"subunitcolor\": \"white\"}, \"hoverlabel\": {\"align\": \"left\"}, \"hovermode\": \"closest\", \"mapbox\": {\"style\": \"light\"}, \"paper_bgcolor\": \"white\", \"plot_bgcolor\": \"#E5ECF6\", \"polar\": {\"angularaxis\": {\"gridcolor\": \"white\", \"linecolor\": \"white\", \"ticks\": \"\"}, \"bgcolor\": \"#E5ECF6\", \"radialaxis\": {\"gridcolor\": \"white\", \"linecolor\": \"white\", \"ticks\": \"\"}}, \"scene\": {\"xaxis\": {\"backgroundcolor\": \"#E5ECF6\", \"gridcolor\": \"white\", \"gridwidth\": 2, \"linecolor\": \"white\", \"showbackground\": true, \"ticks\": \"\", \"zerolinecolor\": \"white\"}, \"yaxis\": {\"backgroundcolor\": \"#E5ECF6\", \"gridcolor\": \"white\", \"gridwidth\": 2, \"linecolor\": \"white\", \"showbackground\": true, \"ticks\": \"\", \"zerolinecolor\": \"white\"}, \"zaxis\": {\"backgroundcolor\": \"#E5ECF6\", \"gridcolor\": \"white\", \"gridwidth\": 2, \"linecolor\": \"white\", \"showbackground\": true, \"ticks\": \"\", \"zerolinecolor\": \"white\"}}, \"shapedefaults\": {\"line\": {\"color\": \"#2a3f5f\"}}, \"ternary\": {\"aaxis\": {\"gridcolor\": \"white\", \"linecolor\": \"white\", \"ticks\": \"\"}, \"baxis\": {\"gridcolor\": \"white\", \"linecolor\": \"white\", \"ticks\": \"\"}, \"bgcolor\": \"#E5ECF6\", \"caxis\": {\"gridcolor\": \"white\", \"linecolor\": \"white\", \"ticks\": \"\"}}, \"title\": {\"x\": 0.05}, \"xaxis\": {\"automargin\": true, \"gridcolor\": \"white\", \"linecolor\": \"white\", \"ticks\": \"\", \"title\": {\"standoff\": 15}, \"zerolinecolor\": \"white\", \"zerolinewidth\": 2}, \"yaxis\": {\"automargin\": true, \"gridcolor\": \"white\", \"linecolor\": \"white\", \"ticks\": \"\", \"title\": {\"standoff\": 15}, \"zerolinecolor\": \"white\", \"zerolinewidth\": 2}}}, \"width\": 550},                        {\"responsive\": true}                    ).then(function(){\n",
       "                            \n",
       "var gd = document.getElementById('fcc903c2-b16e-4410-854d-f99ba0c8b6d8');\n",
       "var x = new MutationObserver(function (mutations, observer) {{\n",
       "        var display = window.getComputedStyle(gd).display;\n",
       "        if (!display || display === 'none') {{\n",
       "            console.log([gd, 'removed!']);\n",
       "            Plotly.purge(gd);\n",
       "            observer.disconnect();\n",
       "        }}\n",
       "}});\n",
       "\n",
       "// Listen for the removal of the full notebook cells\n",
       "var notebookContainer = gd.closest('#notebook-container');\n",
       "if (notebookContainer) {{\n",
       "    x.observe(notebookContainer, {childList: true});\n",
       "}}\n",
       "\n",
       "// Listen for the clearing of the current output cell\n",
       "var outputEl = gd.closest('.output');\n",
       "if (outputEl) {{\n",
       "    x.observe(outputEl, {childList: true});\n",
       "}}\n",
       "\n",
       "                        })                };                });            </script>        </div>"
      ]
     },
     "metadata": {},
     "output_type": "display_data"
    }
   ],
   "source": [
    "movie_age_df = generate_age_df(movie_df)\n",
    "fig = px.pie(labels = movie_age_df['target_age'], values = movie_age_df['counts'], names = movie_age_df['target_age'], width = 550, height = 550)\n",
    "\n",
    "fig.update_traces(textposition = 'inside', \n",
    "                  textinfo = 'percent + label', \n",
    "                  hole = 0.75, \n",
    "                  marker = dict(colors = ['#3D0C02', '#800000'  , '#C11B17','#C0C0C0'], \n",
    "                                line = dict(color = 'white', width = 2)))\n",
    "\n",
    "fig.update_layout(annotations = [dict(text = 'Movies', \n",
    "                                      x = 0.5, y = 0.5, font_size = 40, showarrow = False,                                       \n",
    "                                      font_color = 'black')],\n",
    "                  showlegend = False)\n",
    "\n",
    "fig.show()"
   ]
  },
  {
   "cell_type": "markdown",
   "id": "municipal-effects",
   "metadata": {
    "papermill": {
     "duration": 0.060791,
     "end_time": "2021-06-22T09:27:07.448234",
     "exception": false,
     "start_time": "2021-06-22T09:27:07.387443",
     "status": "completed"
    },
    "tags": []
   },
   "source": [
    "Conclusion: The above plot shows the percentage of movies added based upon the target age. As one can see, the Adults section scores the highest number with 43.8%."
   ]
  },
  {
   "cell_type": "code",
   "execution_count": 25,
   "id": "extensive-joyce",
   "metadata": {
    "execution": {
     "iopub.execute_input": "2021-06-22T09:27:07.585785Z",
     "iopub.status.busy": "2021-06-22T09:27:07.584966Z",
     "iopub.status.idle": "2021-06-22T09:27:07.663386Z",
     "shell.execute_reply": "2021-06-22T09:27:07.663903Z",
     "shell.execute_reply.started": "2021-06-22T09:18:27.101796Z"
    },
    "papermill": {
     "duration": 0.150924,
     "end_time": "2021-06-22T09:27:07.664106",
     "exception": false,
     "start_time": "2021-06-22T09:27:07.513182",
     "status": "completed"
    },
    "tags": []
   },
   "outputs": [
    {
     "data": {
      "text/html": [
       "<div>                            <div id=\"b469f91a-d0e3-42ff-8794-c11a56e5ca9d\" class=\"plotly-graph-div\" style=\"height:550px; width:550px;\"></div>            <script type=\"text/javascript\">                require([\"plotly\"], function(Plotly) {                    window.PLOTLYENV=window.PLOTLYENV || {};                                    if (document.getElementById(\"b469f91a-d0e3-42ff-8794-c11a56e5ca9d\")) {                    Plotly.newPlot(                        \"b469f91a-d0e3-42ff-8794-c11a56e5ca9d\",                        [{\"domain\": {\"x\": [0.0, 1.0], \"y\": [0.0, 1.0]}, \"hole\": 0.75, \"hovertemplate\": \"label=%{label}<br>value=%{value}<extra></extra>\", \"labels\": [\"Adults\", \"Kids\", \"Older Kids\", \"Teens\", \"United States\"], \"legendgroup\": \"\", \"marker\": {\"colors\": [\"#3D0C02\", \"#800000\", \"#C11B17\", \"#C0C0C0\"], \"line\": {\"color\": \"white\", \"width\": 2}}, \"name\": \"\", \"showlegend\": true, \"textinfo\": \"percent+label\", \"textposition\": \"inside\", \"type\": \"pie\", \"values\": [1025, 246, 478, 659, 2]}],                        {\"annotations\": [{\"font\": {\"color\": \"black\", \"size\": 36}, \"showarrow\": false, \"text\": \"TV Series\", \"x\": 0.5, \"y\": 0.5}], \"height\": 550, \"legend\": {\"tracegroupgap\": 0}, \"margin\": {\"t\": 60}, \"showlegend\": false, \"template\": {\"data\": {\"bar\": [{\"error_x\": {\"color\": \"#2a3f5f\"}, \"error_y\": {\"color\": \"#2a3f5f\"}, \"marker\": {\"line\": {\"color\": \"#E5ECF6\", \"width\": 0.5}}, \"type\": \"bar\"}], \"barpolar\": [{\"marker\": {\"line\": {\"color\": \"#E5ECF6\", \"width\": 0.5}}, \"type\": \"barpolar\"}], \"carpet\": [{\"aaxis\": {\"endlinecolor\": \"#2a3f5f\", \"gridcolor\": \"white\", \"linecolor\": \"white\", \"minorgridcolor\": \"white\", \"startlinecolor\": \"#2a3f5f\"}, \"baxis\": {\"endlinecolor\": \"#2a3f5f\", \"gridcolor\": \"white\", \"linecolor\": \"white\", \"minorgridcolor\": \"white\", \"startlinecolor\": \"#2a3f5f\"}, \"type\": \"carpet\"}], \"choropleth\": [{\"colorbar\": {\"outlinewidth\": 0, \"ticks\": \"\"}, \"type\": \"choropleth\"}], \"contour\": [{\"colorbar\": {\"outlinewidth\": 0, \"ticks\": \"\"}, \"colorscale\": [[0.0, \"#0d0887\"], [0.1111111111111111, \"#46039f\"], [0.2222222222222222, \"#7201a8\"], [0.3333333333333333, \"#9c179e\"], [0.4444444444444444, \"#bd3786\"], [0.5555555555555556, \"#d8576b\"], [0.6666666666666666, \"#ed7953\"], [0.7777777777777778, \"#fb9f3a\"], [0.8888888888888888, \"#fdca26\"], [1.0, \"#f0f921\"]], \"type\": \"contour\"}], \"contourcarpet\": [{\"colorbar\": {\"outlinewidth\": 0, \"ticks\": \"\"}, \"type\": \"contourcarpet\"}], \"heatmap\": [{\"colorbar\": {\"outlinewidth\": 0, \"ticks\": \"\"}, \"colorscale\": [[0.0, \"#0d0887\"], [0.1111111111111111, \"#46039f\"], [0.2222222222222222, \"#7201a8\"], [0.3333333333333333, \"#9c179e\"], [0.4444444444444444, \"#bd3786\"], [0.5555555555555556, \"#d8576b\"], [0.6666666666666666, \"#ed7953\"], [0.7777777777777778, \"#fb9f3a\"], [0.8888888888888888, \"#fdca26\"], [1.0, \"#f0f921\"]], \"type\": \"heatmap\"}], \"heatmapgl\": [{\"colorbar\": {\"outlinewidth\": 0, \"ticks\": \"\"}, \"colorscale\": [[0.0, \"#0d0887\"], [0.1111111111111111, \"#46039f\"], [0.2222222222222222, \"#7201a8\"], [0.3333333333333333, \"#9c179e\"], [0.4444444444444444, \"#bd3786\"], [0.5555555555555556, \"#d8576b\"], [0.6666666666666666, \"#ed7953\"], [0.7777777777777778, \"#fb9f3a\"], [0.8888888888888888, \"#fdca26\"], [1.0, \"#f0f921\"]], \"type\": \"heatmapgl\"}], \"histogram\": [{\"marker\": {\"colorbar\": {\"outlinewidth\": 0, \"ticks\": \"\"}}, \"type\": \"histogram\"}], \"histogram2d\": [{\"colorbar\": {\"outlinewidth\": 0, \"ticks\": \"\"}, \"colorscale\": [[0.0, \"#0d0887\"], [0.1111111111111111, \"#46039f\"], [0.2222222222222222, \"#7201a8\"], [0.3333333333333333, \"#9c179e\"], [0.4444444444444444, \"#bd3786\"], [0.5555555555555556, \"#d8576b\"], [0.6666666666666666, \"#ed7953\"], [0.7777777777777778, \"#fb9f3a\"], [0.8888888888888888, \"#fdca26\"], [1.0, \"#f0f921\"]], \"type\": \"histogram2d\"}], \"histogram2dcontour\": [{\"colorbar\": {\"outlinewidth\": 0, \"ticks\": \"\"}, \"colorscale\": [[0.0, \"#0d0887\"], [0.1111111111111111, \"#46039f\"], [0.2222222222222222, \"#7201a8\"], [0.3333333333333333, \"#9c179e\"], [0.4444444444444444, \"#bd3786\"], [0.5555555555555556, \"#d8576b\"], [0.6666666666666666, \"#ed7953\"], [0.7777777777777778, \"#fb9f3a\"], [0.8888888888888888, \"#fdca26\"], [1.0, \"#f0f921\"]], \"type\": \"histogram2dcontour\"}], \"mesh3d\": [{\"colorbar\": {\"outlinewidth\": 0, \"ticks\": \"\"}, \"type\": \"mesh3d\"}], \"parcoords\": [{\"line\": {\"colorbar\": {\"outlinewidth\": 0, \"ticks\": \"\"}}, \"type\": \"parcoords\"}], \"pie\": [{\"automargin\": true, \"type\": \"pie\"}], \"scatter\": [{\"marker\": {\"colorbar\": {\"outlinewidth\": 0, \"ticks\": \"\"}}, \"type\": \"scatter\"}], \"scatter3d\": [{\"line\": {\"colorbar\": {\"outlinewidth\": 0, \"ticks\": \"\"}}, \"marker\": {\"colorbar\": {\"outlinewidth\": 0, \"ticks\": \"\"}}, \"type\": \"scatter3d\"}], \"scattercarpet\": [{\"marker\": {\"colorbar\": {\"outlinewidth\": 0, \"ticks\": \"\"}}, \"type\": \"scattercarpet\"}], \"scattergeo\": [{\"marker\": {\"colorbar\": {\"outlinewidth\": 0, \"ticks\": \"\"}}, \"type\": \"scattergeo\"}], \"scattergl\": [{\"marker\": {\"colorbar\": {\"outlinewidth\": 0, \"ticks\": \"\"}}, \"type\": \"scattergl\"}], \"scattermapbox\": [{\"marker\": {\"colorbar\": {\"outlinewidth\": 0, \"ticks\": \"\"}}, \"type\": \"scattermapbox\"}], \"scatterpolar\": [{\"marker\": {\"colorbar\": {\"outlinewidth\": 0, \"ticks\": \"\"}}, \"type\": \"scatterpolar\"}], \"scatterpolargl\": [{\"marker\": {\"colorbar\": {\"outlinewidth\": 0, \"ticks\": \"\"}}, \"type\": \"scatterpolargl\"}], \"scatterternary\": [{\"marker\": {\"colorbar\": {\"outlinewidth\": 0, \"ticks\": \"\"}}, \"type\": \"scatterternary\"}], \"surface\": [{\"colorbar\": {\"outlinewidth\": 0, \"ticks\": \"\"}, \"colorscale\": [[0.0, \"#0d0887\"], [0.1111111111111111, \"#46039f\"], [0.2222222222222222, \"#7201a8\"], [0.3333333333333333, \"#9c179e\"], [0.4444444444444444, \"#bd3786\"], [0.5555555555555556, \"#d8576b\"], [0.6666666666666666, \"#ed7953\"], [0.7777777777777778, \"#fb9f3a\"], [0.8888888888888888, \"#fdca26\"], [1.0, \"#f0f921\"]], \"type\": \"surface\"}], \"table\": [{\"cells\": {\"fill\": {\"color\": \"#EBF0F8\"}, \"line\": {\"color\": \"white\"}}, \"header\": {\"fill\": {\"color\": \"#C8D4E3\"}, \"line\": {\"color\": \"white\"}}, \"type\": \"table\"}]}, \"layout\": {\"annotationdefaults\": {\"arrowcolor\": \"#2a3f5f\", \"arrowhead\": 0, \"arrowwidth\": 1}, \"autotypenumbers\": \"strict\", \"coloraxis\": {\"colorbar\": {\"outlinewidth\": 0, \"ticks\": \"\"}}, \"colorscale\": {\"diverging\": [[0, \"#8e0152\"], [0.1, \"#c51b7d\"], [0.2, \"#de77ae\"], [0.3, \"#f1b6da\"], [0.4, \"#fde0ef\"], [0.5, \"#f7f7f7\"], [0.6, \"#e6f5d0\"], [0.7, \"#b8e186\"], [0.8, \"#7fbc41\"], [0.9, \"#4d9221\"], [1, \"#276419\"]], \"sequential\": [[0.0, \"#0d0887\"], [0.1111111111111111, \"#46039f\"], [0.2222222222222222, \"#7201a8\"], [0.3333333333333333, \"#9c179e\"], [0.4444444444444444, \"#bd3786\"], [0.5555555555555556, \"#d8576b\"], [0.6666666666666666, \"#ed7953\"], [0.7777777777777778, \"#fb9f3a\"], [0.8888888888888888, \"#fdca26\"], [1.0, \"#f0f921\"]], \"sequentialminus\": [[0.0, \"#0d0887\"], [0.1111111111111111, \"#46039f\"], [0.2222222222222222, \"#7201a8\"], [0.3333333333333333, \"#9c179e\"], [0.4444444444444444, \"#bd3786\"], [0.5555555555555556, \"#d8576b\"], [0.6666666666666666, \"#ed7953\"], [0.7777777777777778, \"#fb9f3a\"], [0.8888888888888888, \"#fdca26\"], [1.0, \"#f0f921\"]]}, \"colorway\": [\"#636efa\", \"#EF553B\", \"#00cc96\", \"#ab63fa\", \"#FFA15A\", \"#19d3f3\", \"#FF6692\", \"#B6E880\", \"#FF97FF\", \"#FECB52\"], \"font\": {\"color\": \"#2a3f5f\"}, \"geo\": {\"bgcolor\": \"white\", \"lakecolor\": \"white\", \"landcolor\": \"#E5ECF6\", \"showlakes\": true, \"showland\": true, \"subunitcolor\": \"white\"}, \"hoverlabel\": {\"align\": \"left\"}, \"hovermode\": \"closest\", \"mapbox\": {\"style\": \"light\"}, \"paper_bgcolor\": \"white\", \"plot_bgcolor\": \"#E5ECF6\", \"polar\": {\"angularaxis\": {\"gridcolor\": \"white\", \"linecolor\": \"white\", \"ticks\": \"\"}, \"bgcolor\": \"#E5ECF6\", \"radialaxis\": {\"gridcolor\": \"white\", \"linecolor\": \"white\", \"ticks\": \"\"}}, \"scene\": {\"xaxis\": {\"backgroundcolor\": \"#E5ECF6\", \"gridcolor\": \"white\", \"gridwidth\": 2, \"linecolor\": \"white\", \"showbackground\": true, \"ticks\": \"\", \"zerolinecolor\": \"white\"}, \"yaxis\": {\"backgroundcolor\": \"#E5ECF6\", \"gridcolor\": \"white\", \"gridwidth\": 2, \"linecolor\": \"white\", \"showbackground\": true, \"ticks\": \"\", \"zerolinecolor\": \"white\"}, \"zaxis\": {\"backgroundcolor\": \"#E5ECF6\", \"gridcolor\": \"white\", \"gridwidth\": 2, \"linecolor\": \"white\", \"showbackground\": true, \"ticks\": \"\", \"zerolinecolor\": \"white\"}}, \"shapedefaults\": {\"line\": {\"color\": \"#2a3f5f\"}}, \"ternary\": {\"aaxis\": {\"gridcolor\": \"white\", \"linecolor\": \"white\", \"ticks\": \"\"}, \"baxis\": {\"gridcolor\": \"white\", \"linecolor\": \"white\", \"ticks\": \"\"}, \"bgcolor\": \"#E5ECF6\", \"caxis\": {\"gridcolor\": \"white\", \"linecolor\": \"white\", \"ticks\": \"\"}}, \"title\": {\"x\": 0.05}, \"xaxis\": {\"automargin\": true, \"gridcolor\": \"white\", \"linecolor\": \"white\", \"ticks\": \"\", \"title\": {\"standoff\": 15}, \"zerolinecolor\": \"white\", \"zerolinewidth\": 2}, \"yaxis\": {\"automargin\": true, \"gridcolor\": \"white\", \"linecolor\": \"white\", \"ticks\": \"\", \"title\": {\"standoff\": 15}, \"zerolinecolor\": \"white\", \"zerolinewidth\": 2}}}, \"width\": 550},                        {\"responsive\": true}                    ).then(function(){\n",
       "                            \n",
       "var gd = document.getElementById('b469f91a-d0e3-42ff-8794-c11a56e5ca9d');\n",
       "var x = new MutationObserver(function (mutations, observer) {{\n",
       "        var display = window.getComputedStyle(gd).display;\n",
       "        if (!display || display === 'none') {{\n",
       "            console.log([gd, 'removed!']);\n",
       "            Plotly.purge(gd);\n",
       "            observer.disconnect();\n",
       "        }}\n",
       "}});\n",
       "\n",
       "// Listen for the removal of the full notebook cells\n",
       "var notebookContainer = gd.closest('#notebook-container');\n",
       "if (notebookContainer) {{\n",
       "    x.observe(notebookContainer, {childList: true});\n",
       "}}\n",
       "\n",
       "// Listen for the clearing of the current output cell\n",
       "var outputEl = gd.closest('.output');\n",
       "if (outputEl) {{\n",
       "    x.observe(outputEl, {childList: true});\n",
       "}}\n",
       "\n",
       "                        })                };                });            </script>        </div>"
      ]
     },
     "metadata": {},
     "output_type": "display_data"
    }
   ],
   "source": [
    "tv_age_df = generate_age_df(tv_df)\n",
    "fig = px.pie(labels = tv_age_df['target_age'], values = tv_age_df['counts'], names = tv_age_df['target_age'], width = 550, height = 550)\n",
    "\n",
    "fig.update_traces(textposition = 'inside', \n",
    "                  textinfo = 'percent + label', \n",
    "                  hole = 0.75, \n",
    "                  marker = dict(colors = ['#3D0C02', '#800000'  , '#C11B17','#C0C0C0'], \n",
    "                                line = dict(color = 'white', width = 2)))\n",
    "\n",
    "fig.update_layout(annotations = [dict(text = 'TV Series', \n",
    "                                      x = 0.5, y = 0.5, font_size = 36, showarrow = False,                                       \n",
    "                                      font_color = 'black')],\n",
    "                  showlegend = False)\n",
    "\n",
    "fig.show()"
   ]
  },
  {
   "cell_type": "markdown",
   "id": "portable-effectiveness",
   "metadata": {
    "papermill": {
     "duration": 0.058125,
     "end_time": "2021-06-22T09:27:07.784559",
     "exception": false,
     "start_time": "2021-06-22T09:27:07.726434",
     "status": "completed"
    },
    "tags": []
   },
   "source": [
    "Conclusion: The above plot shows the percentage of TV series added based upon the target age. As one can see, the Adults section scores the highest number with 42.5%."
   ]
  },
  {
   "cell_type": "code",
   "execution_count": 26,
   "id": "cognitive-tender",
   "metadata": {
    "execution": {
     "iopub.execute_input": "2021-06-22T09:27:07.919595Z",
     "iopub.status.busy": "2021-06-22T09:27:07.918848Z",
     "iopub.status.idle": "2021-06-22T09:27:08.240873Z",
     "shell.execute_reply": "2021-06-22T09:27:08.240277Z",
     "shell.execute_reply.started": "2021-06-22T09:18:27.167105Z"
    },
    "papermill": {
     "duration": 0.393153,
     "end_time": "2021-06-22T09:27:08.241038",
     "exception": false,
     "start_time": "2021-06-22T09:27:07.847885",
     "status": "completed"
    },
    "tags": []
   },
   "outputs": [
    {
     "data": {
      "text/plain": [
       "<AxesSubplot:xlabel='release_year'>"
      ]
     },
     "execution_count": 26,
     "metadata": {},
     "output_type": "execute_result"
    },
    {
     "data": {
      "image/png": "[encoded data removed]",
      "text/plain": [
       "<Figure size 432x288 with 1 Axes>"
      ]
     },
     "metadata": {},
     "output_type": "display_data"
    }
   ],
   "source": [
    "from scipy.stats import norm\n",
    "\n",
    "sns.distplot(data.loc[data['release_year'] > 2000, 'release_year'],fit= norm, kde=False,\n",
    "             color='#827839')"
   ]
  },
  {
   "cell_type": "markdown",
   "id": "congressional-intervention",
   "metadata": {
    "papermill": {
     "duration": 0.062455,
     "end_time": "2021-06-22T09:27:08.361053",
     "exception": false,
     "start_time": "2021-06-22T09:27:08.298598",
     "status": "completed"
    },
    "tags": []
   },
   "source": [
    "Conclusion: The above distplot is based upon the release_year of the movies/shows."
   ]
  },
  {
   "cell_type": "markdown",
   "id": "wrapped-conclusion",
   "metadata": {
    "execution": {
     "iopub.execute_input": "2021-06-14T17:31:30.750748Z",
     "iopub.status.busy": "2021-06-14T17:31:30.750302Z",
     "iopub.status.idle": "2021-06-14T17:31:30.772256Z",
     "shell.execute_reply": "2021-06-14T17:31:30.770922Z",
     "shell.execute_reply.started": "2021-06-14T17:31:30.750708Z"
    },
    "papermill": {
     "duration": 0.060945,
     "end_time": "2021-06-22T09:27:08.481685",
     "exception": false,
     "start_time": "2021-06-22T09:27:08.420740",
     "status": "completed"
    },
    "tags": []
   },
   "source": [
    "data.head()"
   ]
  },
  {
   "cell_type": "code",
   "execution_count": 27,
   "id": "adult-adelaide",
   "metadata": {
    "execution": {
     "iopub.execute_input": "2021-06-22T09:27:08.608211Z",
     "iopub.status.busy": "2021-06-22T09:27:08.607127Z",
     "iopub.status.idle": "2021-06-22T09:27:08.610927Z",
     "shell.execute_reply": "2021-06-22T09:27:08.610225Z",
     "shell.execute_reply.started": "2021-06-22T09:18:27.436723Z"
    },
    "papermill": {
     "duration": 0.070153,
     "end_time": "2021-06-22T09:27:08.611082",
     "exception": false,
     "start_time": "2021-06-22T09:27:08.540929",
     "status": "completed"
    },
    "tags": []
   },
   "outputs": [],
   "source": [
    "def generate_duration_df(df):\n",
    "    new_df = df.groupby(['duration']).agg({'show_id': 'count'}).reset_index()\n",
    "    new_df = new_df[new_df['show_id'] != 0]\n",
    "    new_df.columns = ['duration', 'counts']\n",
    "    new_df = new_df.sort_values('duration')\n",
    "    return new_df"
   ]
  },
  {
   "cell_type": "code",
   "execution_count": 28,
   "id": "forty-moisture",
   "metadata": {
    "execution": {
     "iopub.execute_input": "2021-06-22T09:27:08.736596Z",
     "iopub.status.busy": "2021-06-22T09:27:08.735647Z",
     "iopub.status.idle": "2021-06-22T09:27:08.832872Z",
     "shell.execute_reply": "2021-06-22T09:27:08.831989Z",
     "shell.execute_reply.started": "2021-06-22T09:18:27.442766Z"
    },
    "papermill": {
     "duration": 0.164142,
     "end_time": "2021-06-22T09:27:08.833069",
     "exception": false,
     "start_time": "2021-06-22T09:27:08.668927",
     "status": "completed"
    },
    "tags": []
   },
   "outputs": [
    {
     "data": {
      "text/html": [
       "<div>                            <div id=\"014b11ee-b30a-466b-b424-ee774224a771\" class=\"plotly-graph-div\" style=\"height:525px; width:100%;\"></div>            <script type=\"text/javascript\">                require([\"plotly\"], function(Plotly) {                    window.PLOTLYENV=window.PLOTLYENV || {};                                    if (document.getElementById(\"014b11ee-b30a-466b-b424-ee774224a771\")) {                    Plotly.newPlot(                        \"014b11ee-b30a-466b-b424-ee774224a771\",                        [{\"alignmentgroup\": \"True\", \"hovertemplate\": \"x=%{x}<br>y=%{y}<extra></extra>\", \"legendgroup\": \"\", \"marker\": {\"color\": \"#FFA62F\"}, \"name\": \"\", \"offsetgroup\": \"\", \"orientation\": \"v\", \"showlegend\": false, \"textposition\": \"auto\", \"type\": \"bar\", \"x\": [\"10 min\", \"100 min\", \"101 min\", \"102 min\", \"103 min\", \"104 min\", \"105 min\", \"106 min\", \"107 min\", \"108 min\", \"109 min\", \"11 min\", \"110 min\", \"111 min\", \"112 min\", \"113 min\", \"114 min\", \"115 min\", \"116 min\", \"117 min\", \"118 min\", \"119 min\", \"12 min\", \"120 min\", \"121 min\", \"122 min\", \"123 min\", \"124 min\", \"125 min\", \"126 min\", \"127 min\", \"128 min\", \"129 min\", \"13 min\", \"130 min\", \"131 min\", \"132 min\", \"133 min\", \"134 min\", \"135 min\", \"136 min\", \"137 min\", \"138 min\", \"139 min\", \"14 min\", \"140 min\", \"141 min\", \"142 min\", \"143 min\", \"144 min\", \"145 min\", \"146 min\", \"147 min\", \"148 min\", \"149 min\", \"15 min\", \"150 min\", \"151 min\", \"152 min\", \"153 min\", \"154 min\", \"155 min\", \"156 min\", \"157 min\", \"158 min\", \"159 min\", \"16 min\", \"160 min\", \"161 min\", \"162 min\", \"163 min\", \"164 min\", \"165 min\", \"166 min\", \"167 min\", \"168 min\", \"169 min\", \"17 min\", \"170 min\", \"171 min\", \"172 min\", \"173 min\", \"174 min\", \"176 min\", \"177 min\", \"178 min\", \"179 min\", \"18 min\", \"180 min\", \"181 min\", \"182 min\", \"185 min\", \"186 min\", \"187 min\", \"189 min\", \"19 min\", \"190 min\", \"191 min\", \"192 min\", \"193 min\", \"194 min\", \"195 min\", \"196 min\", \"20 min\", \"200 min\", \"201 min\", \"203 min\", \"204 min\", \"205 min\", \"208 min\", \"209 min\", \"21 min\", \"214 min\", \"22 min\", \"224 min\", \"228 min\", \"23 min\", \"230 min\", \"233 min\", \"237 min\", \"24 min\", \"25 min\", \"253 min\", \"26 min\", \"27 min\", \"28 min\", \"29 min\", \"3 min\", \"30 min\", \"31 min\", \"312 min\", \"32 min\", \"33 min\", \"34 min\", \"35 min\", \"36 min\", \"37 min\", \"38 min\", \"40 min\", \"41 min\", \"42 min\", \"43 min\", \"44 min\", \"45 min\", \"46 min\", \"47 min\", \"48 min\", \"49 min\", \"5 min\", \"50 min\", \"51 min\", \"52 min\", \"53 min\", \"54 min\", \"55 min\", \"56 min\", \"57 min\", \"58 min\", \"59 min\", \"60 min\", \"61 min\", \"62 min\", \"63 min\", \"64 min\", \"65 min\", \"66 min\", \"67 min\", \"68 min\", \"69 min\", \"70 min\", \"71 min\", \"72 min\", \"73 min\", \"74 min\", \"75 min\", \"76 min\", \"77 min\", \"78 min\", \"79 min\", \"8 min\", \"80 min\", \"81 min\", \"82 min\", \"83 min\", \"84 min\", \"85 min\", \"86 min\", \"87 min\", \"88 min\", \"89 min\", \"9 min\", \"90 min\", \"91 min\", \"92 min\", \"93 min\", \"94 min\", \"95 min\", \"96 min\", \"97 min\", \"98 min\", \"99 min\"], \"xaxis\": \"x\", \"y\": [1, 97, 96, 98, 101, 89, 91, 97, 85, 74, 61, 2, 86, 61, 65, 54, 45, 47, 65, 56, 51, 54, 2, 47, 44, 38, 35, 46, 32, 40, 40, 38, 30, 1, 38, 28, 33, 36, 21, 37, 18, 37, 17, 17, 3, 22, 18, 11, 18, 8, 12, 13, 10, 18, 13, 2, 17, 14, 5, 11, 12, 9, 9, 6, 11, 6, 1, 6, 9, 13, 11, 4, 8, 7, 1, 7, 2, 3, 5, 7, 4, 5, 2, 5, 4, 1, 2, 1, 2, 2, 1, 5, 1, 2, 1, 2, 2, 1, 2, 1, 1, 2, 1, 2, 1, 1, 1, 1, 1, 1, 2, 2, 1, 15, 1, 1, 12, 1, 1, 1, 22, 10, 1, 6, 3, 10, 10, 1, 6, 2, 1, 7, 5, 2, 3, 1, 2, 4, 13, 3, 8, 1, 19, 10, 23, 10, 7, 8, 1, 10, 10, 19, 24, 23, 15, 12, 14, 21, 24, 26, 28, 23, 29, 16, 22, 29, 19, 20, 27, 22, 26, 32, 28, 29, 33, 24, 28, 40, 34, 1, 39, 58, 48, 61, 60, 63, 93, 87, 101, 88, 1, 136, 125, 118, 131, 125, 119, 115, 117, 106, 101], \"yaxis\": \"y\"}],                        {\"barmode\": \"relative\", \"legend\": {\"tracegroupgap\": 0}, \"margin\": {\"t\": 60}, \"template\": {\"data\": {\"bar\": [{\"error_x\": {\"color\": \"#2a3f5f\"}, \"error_y\": {\"color\": \"#2a3f5f\"}, \"marker\": {\"line\": {\"color\": \"#E5ECF6\", \"width\": 0.5}}, \"type\": \"bar\"}], \"barpolar\": [{\"marker\": {\"line\": {\"color\": \"#E5ECF6\", \"width\": 0.5}}, \"type\": \"barpolar\"}], \"carpet\": [{\"aaxis\": {\"endlinecolor\": \"#2a3f5f\", \"gridcolor\": \"white\", \"linecolor\": \"white\", \"minorgridcolor\": \"white\", \"startlinecolor\": \"#2a3f5f\"}, \"baxis\": {\"endlinecolor\": \"#2a3f5f\", \"gridcolor\": \"white\", \"linecolor\": \"white\", \"minorgridcolor\": \"white\", \"startlinecolor\": \"#2a3f5f\"}, \"type\": \"carpet\"}], \"choropleth\": [{\"colorbar\": {\"outlinewidth\": 0, \"ticks\": \"\"}, \"type\": \"choropleth\"}], \"contour\": [{\"colorbar\": {\"outlinewidth\": 0, \"ticks\": \"\"}, \"colorscale\": [[0.0, \"#0d0887\"], [0.1111111111111111, \"#46039f\"], [0.2222222222222222, \"#7201a8\"], [0.3333333333333333, \"#9c179e\"], [0.4444444444444444, \"#bd3786\"], [0.5555555555555556, \"#d8576b\"], [0.6666666666666666, \"#ed7953\"], [0.7777777777777778, \"#fb9f3a\"], [0.8888888888888888, \"#fdca26\"], [1.0, \"#f0f921\"]], \"type\": \"contour\"}], \"contourcarpet\": [{\"colorbar\": {\"outlinewidth\": 0, \"ticks\": \"\"}, \"type\": \"contourcarpet\"}], \"heatmap\": [{\"colorbar\": {\"outlinewidth\": 0, \"ticks\": \"\"}, \"colorscale\": [[0.0, \"#0d0887\"], [0.1111111111111111, \"#46039f\"], [0.2222222222222222, \"#7201a8\"], [0.3333333333333333, \"#9c179e\"], [0.4444444444444444, \"#bd3786\"], [0.5555555555555556, \"#d8576b\"], [0.6666666666666666, \"#ed7953\"], [0.7777777777777778, \"#fb9f3a\"], [0.8888888888888888, \"#fdca26\"], [1.0, \"#f0f921\"]], \"type\": \"heatmap\"}], \"heatmapgl\": [{\"colorbar\": {\"outlinewidth\": 0, \"ticks\": \"\"}, \"colorscale\": [[0.0, \"#0d0887\"], [0.1111111111111111, \"#46039f\"], [0.2222222222222222, \"#7201a8\"], [0.3333333333333333, \"#9c179e\"], [0.4444444444444444, \"#bd3786\"], [0.5555555555555556, \"#d8576b\"], [0.6666666666666666, \"#ed7953\"], [0.7777777777777778, \"#fb9f3a\"], [0.8888888888888888, \"#fdca26\"], [1.0, \"#f0f921\"]], \"type\": \"heatmapgl\"}], \"histogram\": [{\"marker\": {\"colorbar\": {\"outlinewidth\": 0, \"ticks\": \"\"}}, \"type\": \"histogram\"}], \"histogram2d\": [{\"colorbar\": {\"outlinewidth\": 0, \"ticks\": \"\"}, \"colorscale\": [[0.0, \"#0d0887\"], [0.1111111111111111, \"#46039f\"], [0.2222222222222222, \"#7201a8\"], [0.3333333333333333, \"#9c179e\"], [0.4444444444444444, \"#bd3786\"], [0.5555555555555556, \"#d8576b\"], [0.6666666666666666, \"#ed7953\"], [0.7777777777777778, \"#fb9f3a\"], [0.8888888888888888, \"#fdca26\"], [1.0, \"#f0f921\"]], \"type\": \"histogram2d\"}], \"histogram2dcontour\": [{\"colorbar\": {\"outlinewidth\": 0, \"ticks\": \"\"}, \"colorscale\": [[0.0, \"#0d0887\"], [0.1111111111111111, \"#46039f\"], [0.2222222222222222, \"#7201a8\"], [0.3333333333333333, \"#9c179e\"], [0.4444444444444444, \"#bd3786\"], [0.5555555555555556, \"#d8576b\"], [0.6666666666666666, \"#ed7953\"], [0.7777777777777778, \"#fb9f3a\"], [0.8888888888888888, \"#fdca26\"], [1.0, \"#f0f921\"]], \"type\": \"histogram2dcontour\"}], \"mesh3d\": [{\"colorbar\": {\"outlinewidth\": 0, \"ticks\": \"\"}, \"type\": \"mesh3d\"}], \"parcoords\": [{\"line\": {\"colorbar\": {\"outlinewidth\": 0, \"ticks\": \"\"}}, \"type\": \"parcoords\"}], \"pie\": [{\"automargin\": true, \"type\": \"pie\"}], \"scatter\": [{\"marker\": {\"colorbar\": {\"outlinewidth\": 0, \"ticks\": \"\"}}, \"type\": \"scatter\"}], \"scatter3d\": [{\"line\": {\"colorbar\": {\"outlinewidth\": 0, \"ticks\": \"\"}}, \"marker\": {\"colorbar\": {\"outlinewidth\": 0, \"ticks\": \"\"}}, \"type\": \"scatter3d\"}], \"scattercarpet\": [{\"marker\": {\"colorbar\": {\"outlinewidth\": 0, \"ticks\": \"\"}}, \"type\": \"scattercarpet\"}], \"scattergeo\": [{\"marker\": {\"colorbar\": {\"outlinewidth\": 0, \"ticks\": \"\"}}, \"type\": \"scattergeo\"}], \"scattergl\": [{\"marker\": {\"colorbar\": {\"outlinewidth\": 0, \"ticks\": \"\"}}, \"type\": \"scattergl\"}], \"scattermapbox\": [{\"marker\": {\"colorbar\": {\"outlinewidth\": 0, \"ticks\": \"\"}}, \"type\": \"scattermapbox\"}], \"scatterpolar\": [{\"marker\": {\"colorbar\": {\"outlinewidth\": 0, \"ticks\": \"\"}}, \"type\": \"scatterpolar\"}], \"scatterpolargl\": [{\"marker\": {\"colorbar\": {\"outlinewidth\": 0, \"ticks\": \"\"}}, \"type\": \"scatterpolargl\"}], \"scatterternary\": [{\"marker\": {\"colorbar\": {\"outlinewidth\": 0, \"ticks\": \"\"}}, \"type\": \"scatterternary\"}], \"surface\": [{\"colorbar\": {\"outlinewidth\": 0, \"ticks\": \"\"}, \"colorscale\": [[0.0, \"#0d0887\"], [0.1111111111111111, \"#46039f\"], [0.2222222222222222, \"#7201a8\"], [0.3333333333333333, \"#9c179e\"], [0.4444444444444444, \"#bd3786\"], [0.5555555555555556, \"#d8576b\"], [0.6666666666666666, \"#ed7953\"], [0.7777777777777778, \"#fb9f3a\"], [0.8888888888888888, \"#fdca26\"], [1.0, \"#f0f921\"]], \"type\": \"surface\"}], \"table\": [{\"cells\": {\"fill\": {\"color\": \"#EBF0F8\"}, \"line\": {\"color\": \"white\"}}, \"header\": {\"fill\": {\"color\": \"#C8D4E3\"}, \"line\": {\"color\": \"white\"}}, \"type\": \"table\"}]}, \"layout\": {\"annotationdefaults\": {\"arrowcolor\": \"#2a3f5f\", \"arrowhead\": 0, \"arrowwidth\": 1}, \"autotypenumbers\": \"strict\", \"coloraxis\": {\"colorbar\": {\"outlinewidth\": 0, \"ticks\": \"\"}}, \"colorscale\": {\"diverging\": [[0, \"#8e0152\"], [0.1, \"#c51b7d\"], [0.2, \"#de77ae\"], [0.3, \"#f1b6da\"], [0.4, \"#fde0ef\"], [0.5, \"#f7f7f7\"], [0.6, \"#e6f5d0\"], [0.7, \"#b8e186\"], [0.8, \"#7fbc41\"], [0.9, \"#4d9221\"], [1, \"#276419\"]], \"sequential\": [[0.0, \"#0d0887\"], [0.1111111111111111, \"#46039f\"], [0.2222222222222222, \"#7201a8\"], [0.3333333333333333, \"#9c179e\"], [0.4444444444444444, \"#bd3786\"], [0.5555555555555556, \"#d8576b\"], [0.6666666666666666, \"#ed7953\"], [0.7777777777777778, \"#fb9f3a\"], [0.8888888888888888, \"#fdca26\"], [1.0, \"#f0f921\"]], \"sequentialminus\": [[0.0, \"#0d0887\"], [0.1111111111111111, \"#46039f\"], [0.2222222222222222, \"#7201a8\"], [0.3333333333333333, \"#9c179e\"], [0.4444444444444444, \"#bd3786\"], [0.5555555555555556, \"#d8576b\"], [0.6666666666666666, \"#ed7953\"], [0.7777777777777778, \"#fb9f3a\"], [0.8888888888888888, \"#fdca26\"], [1.0, \"#f0f921\"]]}, \"colorway\": [\"#636efa\", \"#EF553B\", \"#00cc96\", \"#ab63fa\", \"#FFA15A\", \"#19d3f3\", \"#FF6692\", \"#B6E880\", \"#FF97FF\", \"#FECB52\"], \"font\": {\"color\": \"#2a3f5f\"}, \"geo\": {\"bgcolor\": \"white\", \"lakecolor\": \"white\", \"landcolor\": \"#E5ECF6\", \"showlakes\": true, \"showland\": true, \"subunitcolor\": \"white\"}, \"hoverlabel\": {\"align\": \"left\"}, \"hovermode\": \"closest\", \"mapbox\": {\"style\": \"light\"}, \"paper_bgcolor\": \"white\", \"plot_bgcolor\": \"#E5ECF6\", \"polar\": {\"angularaxis\": {\"gridcolor\": \"white\", \"linecolor\": \"white\", \"ticks\": \"\"}, \"bgcolor\": \"#E5ECF6\", \"radialaxis\": {\"gridcolor\": \"white\", \"linecolor\": \"white\", \"ticks\": \"\"}}, \"scene\": {\"xaxis\": {\"backgroundcolor\": \"#E5ECF6\", \"gridcolor\": \"white\", \"gridwidth\": 2, \"linecolor\": \"white\", \"showbackground\": true, \"ticks\": \"\", \"zerolinecolor\": \"white\"}, \"yaxis\": {\"backgroundcolor\": \"#E5ECF6\", \"gridcolor\": \"white\", \"gridwidth\": 2, \"linecolor\": \"white\", \"showbackground\": true, \"ticks\": \"\", \"zerolinecolor\": \"white\"}, \"zaxis\": {\"backgroundcolor\": \"#E5ECF6\", \"gridcolor\": \"white\", \"gridwidth\": 2, \"linecolor\": \"white\", \"showbackground\": true, \"ticks\": \"\", \"zerolinecolor\": \"white\"}}, \"shapedefaults\": {\"line\": {\"color\": \"#2a3f5f\"}}, \"ternary\": {\"aaxis\": {\"gridcolor\": \"white\", \"linecolor\": \"white\", \"ticks\": \"\"}, \"baxis\": {\"gridcolor\": \"white\", \"linecolor\": \"white\", \"ticks\": \"\"}, \"bgcolor\": \"#E5ECF6\", \"caxis\": {\"gridcolor\": \"white\", \"linecolor\": \"white\", \"ticks\": \"\"}}, \"title\": {\"x\": 0.05}, \"xaxis\": {\"automargin\": true, \"gridcolor\": \"white\", \"linecolor\": \"white\", \"ticks\": \"\", \"title\": {\"standoff\": 15}, \"zerolinecolor\": \"white\", \"zerolinewidth\": 2}, \"yaxis\": {\"automargin\": true, \"gridcolor\": \"white\", \"linecolor\": \"white\", \"ticks\": \"\", \"title\": {\"standoff\": 15}, \"zerolinecolor\": \"white\", \"zerolinewidth\": 2}}}, \"xaxis\": {\"anchor\": \"y\", \"categoryorder\": \"total ascending\", \"domain\": [0.0, 1.0], \"title\": {\"text\": \"x\"}, \"type\": \"category\"}, \"yaxis\": {\"anchor\": \"x\", \"domain\": [0.0, 1.0], \"title\": {\"text\": \"y\"}}},                        {\"responsive\": true}                    ).then(function(){\n",
       "                            \n",
       "var gd = document.getElementById('014b11ee-b30a-466b-b424-ee774224a771');\n",
       "var x = new MutationObserver(function (mutations, observer) {{\n",
       "        var display = window.getComputedStyle(gd).display;\n",
       "        if (!display || display === 'none') {{\n",
       "            console.log([gd, 'removed!']);\n",
       "            Plotly.purge(gd);\n",
       "            observer.disconnect();\n",
       "        }}\n",
       "}});\n",
       "\n",
       "// Listen for the removal of the full notebook cells\n",
       "var notebookContainer = gd.closest('#notebook-container');\n",
       "if (notebookContainer) {{\n",
       "    x.observe(notebookContainer, {childList: true});\n",
       "}}\n",
       "\n",
       "// Listen for the clearing of the current output cell\n",
       "var outputEl = gd.closest('.output');\n",
       "if (outputEl) {{\n",
       "    x.observe(outputEl, {childList: true});\n",
       "}}\n",
       "\n",
       "                        })                };                });            </script>        </div>"
      ]
     },
     "metadata": {},
     "output_type": "display_data"
    }
   ],
   "source": [
    "new_movie_df = generate_duration_df(movie_df)\n",
    "fig = px.bar(x=new_movie_df['duration'], y = new_movie_df['counts'])\n",
    "fig.update_traces(marker = dict(color= '#FFA62F'))\n",
    "\n",
    "fig.update_xaxes(type='category',categoryorder='total ascending')\n",
    "\n",
    "fig.show()\n"
   ]
  },
  {
   "cell_type": "markdown",
   "id": "norwegian-extension",
   "metadata": {
    "papermill": {
     "duration": 0.08419,
     "end_time": "2021-06-22T09:27:08.989877",
     "exception": false,
     "start_time": "2021-06-22T09:27:08.905687",
     "status": "completed"
    },
    "tags": []
   },
   "source": [
    "Conclusion: The above plot is based upon the duration of Movies. As we can see, the duration of 90 minutes records the highest number of movies."
   ]
  },
  {
   "cell_type": "code",
   "execution_count": 29,
   "id": "actual-toronto",
   "metadata": {
    "execution": {
     "iopub.execute_input": "2021-06-22T09:27:09.143706Z",
     "iopub.status.busy": "2021-06-22T09:27:09.142898Z",
     "iopub.status.idle": "2021-06-22T09:27:09.223466Z",
     "shell.execute_reply": "2021-06-22T09:27:09.222864Z",
     "shell.execute_reply.started": "2021-06-22T09:18:27.522689Z"
    },
    "papermill": {
     "duration": 0.162443,
     "end_time": "2021-06-22T09:27:09.223657",
     "exception": false,
     "start_time": "2021-06-22T09:27:09.061214",
     "status": "completed"
    },
    "tags": []
   },
   "outputs": [
    {
     "data": {
      "text/html": [
       "<div>                            <div id=\"3a2260df-3547-4092-8c55-69b5bfd43fad\" class=\"plotly-graph-div\" style=\"height:525px; width:100%;\"></div>            <script type=\"text/javascript\">                require([\"plotly\"], function(Plotly) {                    window.PLOTLYENV=window.PLOTLYENV || {};                                    if (document.getElementById(\"3a2260df-3547-4092-8c55-69b5bfd43fad\")) {                    Plotly.newPlot(                        \"3a2260df-3547-4092-8c55-69b5bfd43fad\",                        [{\"alignmentgroup\": \"True\", \"hovertemplate\": \"x=%{x}<br>y=%{y}<extra></extra>\", \"legendgroup\": \"\", \"marker\": {\"color\": \"#E55451\"}, \"name\": \"\", \"offsetgroup\": \"\", \"orientation\": \"v\", \"showlegend\": false, \"textposition\": \"auto\", \"type\": \"bar\", \"x\": [\"1 Season\", \"10 Seasons\", \"11 Seasons\", \"12 Seasons\", \"13 Seasons\", \"15 Seasons\", \"16 Seasons\", \"2 Seasons\", \"3 Seasons\", \"4 Seasons\", \"5 Seasons\", \"6 Seasons\", \"7 Seasons\", \"8 Seasons\", \"9 Seasons\"], \"xaxis\": \"x\", \"y\": [1608, 6, 3, 2, 2, 2, 1, 382, 184, 87, 58, 30, 19, 18, 8], \"yaxis\": \"y\"}],                        {\"barmode\": \"relative\", \"legend\": {\"tracegroupgap\": 0}, \"margin\": {\"t\": 60}, \"template\": {\"data\": {\"bar\": [{\"error_x\": {\"color\": \"#2a3f5f\"}, \"error_y\": {\"color\": \"#2a3f5f\"}, \"marker\": {\"line\": {\"color\": \"#E5ECF6\", \"width\": 0.5}}, \"type\": \"bar\"}], \"barpolar\": [{\"marker\": {\"line\": {\"color\": \"#E5ECF6\", \"width\": 0.5}}, \"type\": \"barpolar\"}], \"carpet\": [{\"aaxis\": {\"endlinecolor\": \"#2a3f5f\", \"gridcolor\": \"white\", \"linecolor\": \"white\", \"minorgridcolor\": \"white\", \"startlinecolor\": \"#2a3f5f\"}, \"baxis\": {\"endlinecolor\": \"#2a3f5f\", \"gridcolor\": \"white\", \"linecolor\": \"white\", \"minorgridcolor\": \"white\", \"startlinecolor\": \"#2a3f5f\"}, \"type\": \"carpet\"}], \"choropleth\": [{\"colorbar\": {\"outlinewidth\": 0, \"ticks\": \"\"}, \"type\": \"choropleth\"}], \"contour\": [{\"colorbar\": {\"outlinewidth\": 0, \"ticks\": \"\"}, \"colorscale\": [[0.0, \"#0d0887\"], [0.1111111111111111, \"#46039f\"], [0.2222222222222222, \"#7201a8\"], [0.3333333333333333, \"#9c179e\"], [0.4444444444444444, \"#bd3786\"], [0.5555555555555556, \"#d8576b\"], [0.6666666666666666, \"#ed7953\"], [0.7777777777777778, \"#fb9f3a\"], [0.8888888888888888, \"#fdca26\"], [1.0, \"#f0f921\"]], \"type\": \"contour\"}], \"contourcarpet\": [{\"colorbar\": {\"outlinewidth\": 0, \"ticks\": \"\"}, \"type\": \"contourcarpet\"}], \"heatmap\": [{\"colorbar\": {\"outlinewidth\": 0, \"ticks\": \"\"}, \"colorscale\": [[0.0, \"#0d0887\"], [0.1111111111111111, \"#46039f\"], [0.2222222222222222, \"#7201a8\"], [0.3333333333333333, \"#9c179e\"], [0.4444444444444444, \"#bd3786\"], [0.5555555555555556, \"#d8576b\"], [0.6666666666666666, \"#ed7953\"], [0.7777777777777778, \"#fb9f3a\"], [0.8888888888888888, \"#fdca26\"], [1.0, \"#f0f921\"]], \"type\": \"heatmap\"}], \"heatmapgl\": [{\"colorbar\": {\"outlinewidth\": 0, \"ticks\": \"\"}, \"colorscale\": [[0.0, \"#0d0887\"], [0.1111111111111111, \"#46039f\"], [0.2222222222222222, \"#7201a8\"], [0.3333333333333333, \"#9c179e\"], [0.4444444444444444, \"#bd3786\"], [0.5555555555555556, \"#d8576b\"], [0.6666666666666666, \"#ed7953\"], [0.7777777777777778, \"#fb9f3a\"], [0.8888888888888888, \"#fdca26\"], [1.0, \"#f0f921\"]], \"type\": \"heatmapgl\"}], \"histogram\": [{\"marker\": {\"colorbar\": {\"outlinewidth\": 0, \"ticks\": \"\"}}, \"type\": \"histogram\"}], \"histogram2d\": [{\"colorbar\": {\"outlinewidth\": 0, \"ticks\": \"\"}, \"colorscale\": [[0.0, \"#0d0887\"], [0.1111111111111111, \"#46039f\"], [0.2222222222222222, \"#7201a8\"], [0.3333333333333333, \"#9c179e\"], [0.4444444444444444, \"#bd3786\"], [0.5555555555555556, \"#d8576b\"], [0.6666666666666666, \"#ed7953\"], [0.7777777777777778, \"#fb9f3a\"], [0.8888888888888888, \"#fdca26\"], [1.0, \"#f0f921\"]], \"type\": \"histogram2d\"}], \"histogram2dcontour\": [{\"colorbar\": {\"outlinewidth\": 0, \"ticks\": \"\"}, \"colorscale\": [[0.0, \"#0d0887\"], [0.1111111111111111, \"#46039f\"], [0.2222222222222222, \"#7201a8\"], [0.3333333333333333, \"#9c179e\"], [0.4444444444444444, \"#bd3786\"], [0.5555555555555556, \"#d8576b\"], [0.6666666666666666, \"#ed7953\"], [0.7777777777777778, \"#fb9f3a\"], [0.8888888888888888, \"#fdca26\"], [1.0, \"#f0f921\"]], \"type\": \"histogram2dcontour\"}], \"mesh3d\": [{\"colorbar\": {\"outlinewidth\": 0, \"ticks\": \"\"}, \"type\": \"mesh3d\"}], \"parcoords\": [{\"line\": {\"colorbar\": {\"outlinewidth\": 0, \"ticks\": \"\"}}, \"type\": \"parcoords\"}], \"pie\": [{\"automargin\": true, \"type\": \"pie\"}], \"scatter\": [{\"marker\": {\"colorbar\": {\"outlinewidth\": 0, \"ticks\": \"\"}}, \"type\": \"scatter\"}], \"scatter3d\": [{\"line\": {\"colorbar\": {\"outlinewidth\": 0, \"ticks\": \"\"}}, \"marker\": {\"colorbar\": {\"outlinewidth\": 0, \"ticks\": \"\"}}, \"type\": \"scatter3d\"}], \"scattercarpet\": [{\"marker\": {\"colorbar\": {\"outlinewidth\": 0, \"ticks\": \"\"}}, \"type\": \"scattercarpet\"}], \"scattergeo\": [{\"marker\": {\"colorbar\": {\"outlinewidth\": 0, \"ticks\": \"\"}}, \"type\": \"scattergeo\"}], \"scattergl\": [{\"marker\": {\"colorbar\": {\"outlinewidth\": 0, \"ticks\": \"\"}}, \"type\": \"scattergl\"}], \"scattermapbox\": [{\"marker\": {\"colorbar\": {\"outlinewidth\": 0, \"ticks\": \"\"}}, \"type\": \"scattermapbox\"}], \"scatterpolar\": [{\"marker\": {\"colorbar\": {\"outlinewidth\": 0, \"ticks\": \"\"}}, \"type\": \"scatterpolar\"}], \"scatterpolargl\": [{\"marker\": {\"colorbar\": {\"outlinewidth\": 0, \"ticks\": \"\"}}, \"type\": \"scatterpolargl\"}], \"scatterternary\": [{\"marker\": {\"colorbar\": {\"outlinewidth\": 0, \"ticks\": \"\"}}, \"type\": \"scatterternary\"}], \"surface\": [{\"colorbar\": {\"outlinewidth\": 0, \"ticks\": \"\"}, \"colorscale\": [[0.0, \"#0d0887\"], [0.1111111111111111, \"#46039f\"], [0.2222222222222222, \"#7201a8\"], [0.3333333333333333, \"#9c179e\"], [0.4444444444444444, \"#bd3786\"], [0.5555555555555556, \"#d8576b\"], [0.6666666666666666, \"#ed7953\"], [0.7777777777777778, \"#fb9f3a\"], [0.8888888888888888, \"#fdca26\"], [1.0, \"#f0f921\"]], \"type\": \"surface\"}], \"table\": [{\"cells\": {\"fill\": {\"color\": \"#EBF0F8\"}, \"line\": {\"color\": \"white\"}}, \"header\": {\"fill\": {\"color\": \"#C8D4E3\"}, \"line\": {\"color\": \"white\"}}, \"type\": \"table\"}]}, \"layout\": {\"annotationdefaults\": {\"arrowcolor\": \"#2a3f5f\", \"arrowhead\": 0, \"arrowwidth\": 1}, \"autotypenumbers\": \"strict\", \"coloraxis\": {\"colorbar\": {\"outlinewidth\": 0, \"ticks\": \"\"}}, \"colorscale\": {\"diverging\": [[0, \"#8e0152\"], [0.1, \"#c51b7d\"], [0.2, \"#de77ae\"], [0.3, \"#f1b6da\"], [0.4, \"#fde0ef\"], [0.5, \"#f7f7f7\"], [0.6, \"#e6f5d0\"], [0.7, \"#b8e186\"], [0.8, \"#7fbc41\"], [0.9, \"#4d9221\"], [1, \"#276419\"]], \"sequential\": [[0.0, \"#0d0887\"], [0.1111111111111111, \"#46039f\"], [0.2222222222222222, \"#7201a8\"], [0.3333333333333333, \"#9c179e\"], [0.4444444444444444, \"#bd3786\"], [0.5555555555555556, \"#d8576b\"], [0.6666666666666666, \"#ed7953\"], [0.7777777777777778, \"#fb9f3a\"], [0.8888888888888888, \"#fdca26\"], [1.0, \"#f0f921\"]], \"sequentialminus\": [[0.0, \"#0d0887\"], [0.1111111111111111, \"#46039f\"], [0.2222222222222222, \"#7201a8\"], [0.3333333333333333, \"#9c179e\"], [0.4444444444444444, \"#bd3786\"], [0.5555555555555556, \"#d8576b\"], [0.6666666666666666, \"#ed7953\"], [0.7777777777777778, \"#fb9f3a\"], [0.8888888888888888, \"#fdca26\"], [1.0, \"#f0f921\"]]}, \"colorway\": [\"#636efa\", \"#EF553B\", \"#00cc96\", \"#ab63fa\", \"#FFA15A\", \"#19d3f3\", \"#FF6692\", \"#B6E880\", \"#FF97FF\", \"#FECB52\"], \"font\": {\"color\": \"#2a3f5f\"}, \"geo\": {\"bgcolor\": \"white\", \"lakecolor\": \"white\", \"landcolor\": \"#E5ECF6\", \"showlakes\": true, \"showland\": true, \"subunitcolor\": \"white\"}, \"hoverlabel\": {\"align\": \"left\"}, \"hovermode\": \"closest\", \"mapbox\": {\"style\": \"light\"}, \"paper_bgcolor\": \"white\", \"plot_bgcolor\": \"#E5ECF6\", \"polar\": {\"angularaxis\": {\"gridcolor\": \"white\", \"linecolor\": \"white\", \"ticks\": \"\"}, \"bgcolor\": \"#E5ECF6\", \"radialaxis\": {\"gridcolor\": \"white\", \"linecolor\": \"white\", \"ticks\": \"\"}}, \"scene\": {\"xaxis\": {\"backgroundcolor\": \"#E5ECF6\", \"gridcolor\": \"white\", \"gridwidth\": 2, \"linecolor\": \"white\", \"showbackground\": true, \"ticks\": \"\", \"zerolinecolor\": \"white\"}, \"yaxis\": {\"backgroundcolor\": \"#E5ECF6\", \"gridcolor\": \"white\", \"gridwidth\": 2, \"linecolor\": \"white\", \"showbackground\": true, \"ticks\": \"\", \"zerolinecolor\": \"white\"}, \"zaxis\": {\"backgroundcolor\": \"#E5ECF6\", \"gridcolor\": \"white\", \"gridwidth\": 2, \"linecolor\": \"white\", \"showbackground\": true, \"ticks\": \"\", \"zerolinecolor\": \"white\"}}, \"shapedefaults\": {\"line\": {\"color\": \"#2a3f5f\"}}, \"ternary\": {\"aaxis\": {\"gridcolor\": \"white\", \"linecolor\": \"white\", \"ticks\": \"\"}, \"baxis\": {\"gridcolor\": \"white\", \"linecolor\": \"white\", \"ticks\": \"\"}, \"bgcolor\": \"#E5ECF6\", \"caxis\": {\"gridcolor\": \"white\", \"linecolor\": \"white\", \"ticks\": \"\"}}, \"title\": {\"x\": 0.05}, \"xaxis\": {\"automargin\": true, \"gridcolor\": \"white\", \"linecolor\": \"white\", \"ticks\": \"\", \"title\": {\"standoff\": 15}, \"zerolinecolor\": \"white\", \"zerolinewidth\": 2}, \"yaxis\": {\"automargin\": true, \"gridcolor\": \"white\", \"linecolor\": \"white\", \"ticks\": \"\", \"title\": {\"standoff\": 15}, \"zerolinecolor\": \"white\", \"zerolinewidth\": 2}}}, \"xaxis\": {\"anchor\": \"y\", \"categoryorder\": \"total ascending\", \"domain\": [0.0, 1.0], \"title\": {\"text\": \"x\"}, \"type\": \"category\"}, \"yaxis\": {\"anchor\": \"x\", \"domain\": [0.0, 1.0], \"title\": {\"text\": \"y\"}}},                        {\"responsive\": true}                    ).then(function(){\n",
       "                            \n",
       "var gd = document.getElementById('3a2260df-3547-4092-8c55-69b5bfd43fad');\n",
       "var x = new MutationObserver(function (mutations, observer) {{\n",
       "        var display = window.getComputedStyle(gd).display;\n",
       "        if (!display || display === 'none') {{\n",
       "            console.log([gd, 'removed!']);\n",
       "            Plotly.purge(gd);\n",
       "            observer.disconnect();\n",
       "        }}\n",
       "}});\n",
       "\n",
       "// Listen for the removal of the full notebook cells\n",
       "var notebookContainer = gd.closest('#notebook-container');\n",
       "if (notebookContainer) {{\n",
       "    x.observe(notebookContainer, {childList: true});\n",
       "}}\n",
       "\n",
       "// Listen for the clearing of the current output cell\n",
       "var outputEl = gd.closest('.output');\n",
       "if (outputEl) {{\n",
       "    x.observe(outputEl, {childList: true});\n",
       "}}\n",
       "\n",
       "                        })                };                });            </script>        </div>"
      ]
     },
     "metadata": {},
     "output_type": "display_data"
    }
   ],
   "source": [
    "new_tv_df = generate_duration_df(tv_df)\n",
    "fig = px.bar(x=new_tv_df['duration'], y = new_tv_df['counts'])\n",
    "fig.update_traces(marker = dict(color= '#E55451'))\n",
    "fig.update_xaxes(type='category',categoryorder='total ascending')\n",
    "fig.show()\n"
   ]
  },
  {
   "cell_type": "markdown",
   "id": "sporting-chart",
   "metadata": {
    "papermill": {
     "duration": 0.061778,
     "end_time": "2021-06-22T09:27:09.347712",
     "exception": false,
     "start_time": "2021-06-22T09:27:09.285934",
     "status": "completed"
    },
    "tags": []
   },
   "source": [
    "Conclusion: The above plot is based upon the seasons of TV series. As we can see, only 1 season records the highest number of Tv series. Discontinuation of shows due to less popularity or pending release of next season might be a contributing factor.|"
   ]
  },
  {
   "cell_type": "code",
   "execution_count": 30,
   "id": "welsh-xerox",
   "metadata": {
    "execution": {
     "iopub.execute_input": "2021-06-22T09:27:09.489046Z",
     "iopub.status.busy": "2021-06-22T09:27:09.487844Z",
     "iopub.status.idle": "2021-06-22T09:27:09.491331Z",
     "shell.execute_reply": "2021-06-22T09:27:09.490733Z",
     "shell.execute_reply.started": "2021-06-22T09:18:27.593700Z"
    },
    "papermill": {
     "duration": 0.079547,
     "end_time": "2021-06-22T09:27:09.491546",
     "exception": false,
     "start_time": "2021-06-22T09:27:09.411999",
     "status": "completed"
    },
    "tags": []
   },
   "outputs": [],
   "source": [
    "def generate_country_df(df):\n",
    "    new_df = df.groupby(['country_main']).agg({'show_id': 'count'}).reset_index()\n",
    "    new_df = new_df[new_df['show_id'] != 0]\n",
    "    new_df.columns = ['country_main', 'counts']\n",
    "    new_df = new_df.sort_values('country_main')\n",
    "    return new_df"
   ]
  },
  {
   "cell_type": "code",
   "execution_count": 31,
   "id": "adjusted-fiction",
   "metadata": {
    "execution": {
     "iopub.execute_input": "2021-06-22T09:27:09.660698Z",
     "iopub.status.busy": "2021-06-22T09:27:09.659924Z",
     "iopub.status.idle": "2021-06-22T09:27:09.945060Z",
     "shell.execute_reply": "2021-06-22T09:27:09.944183Z",
     "shell.execute_reply.started": "2021-06-22T09:18:27.601868Z"
    },
    "papermill": {
     "duration": 0.379359,
     "end_time": "2021-06-22T09:27:09.945230",
     "exception": false,
     "start_time": "2021-06-22T09:27:09.565871",
     "status": "completed"
    },
    "tags": []
   },
   "outputs": [
    {
     "data": {
      "text/html": [
       "<div>                            <div id=\"e732ab77-81bd-4505-bc82-52cd11a184db\" class=\"plotly-graph-div\" style=\"height:550px; width:550px;\"></div>            <script type=\"text/javascript\">                require([\"plotly\"], function(Plotly) {                    window.PLOTLYENV=window.PLOTLYENV || {};                                    if (document.getElementById(\"e732ab77-81bd-4505-bc82-52cd11a184db\")) {                    Plotly.newPlot(                        \"e732ab77-81bd-4505-bc82-52cd11a184db\",                        [{\"domain\": {\"x\": [0.0, 1.0], \"y\": [0.0, 1.0]}, \"hole\": 0.75, \"hovertemplate\": \"label=%{label}<br>value=%{value}<extra></extra>\", \"labels\": [\"Argentina\", \"Australia\", \"Austria\", \"Belarus\", \"Belgium\", \"Brazil\", \"Canada\", \"Chile\", \"China\", \"Colombia\", \"Croatia\", \"Cyprus\", \"Czech Republic\", \"Denmark\", \"Egypt\", \"Finland\", \"France\", \"Germany\", \"Hong Kong\", \"Iceland\", \"India\", \"Indonesia\", \"Ireland\", \"Israel\", \"Italy\", \"Japan\", \"Jordan\", \"Kuwait\", \"Lebanon\", \"Malaysia\", \"Mauritius\", \"Mexico\", \"Netherlands\", \"New Zealand\", \"Nigeria\", \"Norway\", \"Pakistan\", \"Philippines\", \"Poland\", \"Puerto Rico\", \"Russia\", \"Saudi Arabia\", \"Senegal\", \"Singapore\", \"South Africa\", \"South Korea\", \"Spain\", \"Sweden\", \"Switzerland\", \"Taiwan\", \"Thailand\", \"Turkey\", \"Ukraine\", \"United Arab Emirates\", \"United Kingdom\", \"United States\", \"Uruguay\"], \"legendgroup\": \"\", \"marker\": {\"line\": {\"color\": \"white\", \"width\": 2}}, \"name\": \"\", \"showlegend\": true, \"textinfo\": \"percent+label\", \"textposition\": \"inside\", \"type\": \"pie\", \"values\": [18, 52, 1, 1, 8, 27, 84, 4, 38, 23, 1, 1, 1, 11, 12, 3, 59, 24, 3, 2, 73, 2, 6, 7, 17, 162, 1, 2, 6, 7, 1, 44, 5, 2, 8, 9, 4, 1, 7, 1, 15, 4, 1, 18, 5, 152, 49, 7, 1, 70, 22, 28, 2, 1, 236, 1060, 1]}],                        {\"annotations\": [{\"font\": {\"color\": \"black\", \"size\": 40}, \"showarrow\": false, \"text\": \"TV Series\", \"x\": 0.5, \"y\": 0.5}], \"height\": 550, \"legend\": {\"tracegroupgap\": 0}, \"margin\": {\"t\": 60}, \"showlegend\": false, \"template\": {\"data\": {\"bar\": [{\"error_x\": {\"color\": \"#2a3f5f\"}, \"error_y\": {\"color\": \"#2a3f5f\"}, \"marker\": {\"line\": {\"color\": \"#E5ECF6\", \"width\": 0.5}}, \"type\": \"bar\"}], \"barpolar\": [{\"marker\": {\"line\": {\"color\": \"#E5ECF6\", \"width\": 0.5}}, \"type\": \"barpolar\"}], \"carpet\": [{\"aaxis\": {\"endlinecolor\": \"#2a3f5f\", \"gridcolor\": \"white\", \"linecolor\": \"white\", \"minorgridcolor\": \"white\", \"startlinecolor\": \"#2a3f5f\"}, \"baxis\": {\"endlinecolor\": \"#2a3f5f\", \"gridcolor\": \"white\", \"linecolor\": \"white\", \"minorgridcolor\": \"white\", \"startlinecolor\": \"#2a3f5f\"}, \"type\": \"carpet\"}], \"choropleth\": [{\"colorbar\": {\"outlinewidth\": 0, \"ticks\": \"\"}, \"type\": \"choropleth\"}], \"contour\": [{\"colorbar\": {\"outlinewidth\": 0, \"ticks\": \"\"}, \"colorscale\": [[0.0, \"#0d0887\"], [0.1111111111111111, \"#46039f\"], [0.2222222222222222, \"#7201a8\"], [0.3333333333333333, \"#9c179e\"], [0.4444444444444444, \"#bd3786\"], [0.5555555555555556, \"#d8576b\"], [0.6666666666666666, \"#ed7953\"], [0.7777777777777778, \"#fb9f3a\"], [0.8888888888888888, \"#fdca26\"], [1.0, \"#f0f921\"]], \"type\": \"contour\"}], \"contourcarpet\": [{\"colorbar\": {\"outlinewidth\": 0, \"ticks\": \"\"}, \"type\": \"contourcarpet\"}], \"heatmap\": [{\"colorbar\": {\"outlinewidth\": 0, \"ticks\": \"\"}, \"colorscale\": [[0.0, \"#0d0887\"], [0.1111111111111111, \"#46039f\"], [0.2222222222222222, \"#7201a8\"], [0.3333333333333333, \"#9c179e\"], [0.4444444444444444, \"#bd3786\"], [0.5555555555555556, \"#d8576b\"], [0.6666666666666666, \"#ed7953\"], [0.7777777777777778, \"#fb9f3a\"], [0.8888888888888888, \"#fdca26\"], [1.0, \"#f0f921\"]], \"type\": \"heatmap\"}], \"heatmapgl\": [{\"colorbar\": {\"outlinewidth\": 0, \"ticks\": \"\"}, \"colorscale\": [[0.0, \"#0d0887\"], [0.1111111111111111, \"#46039f\"], [0.2222222222222222, \"#7201a8\"], [0.3333333333333333, \"#9c179e\"], [0.4444444444444444, \"#bd3786\"], [0.5555555555555556, \"#d8576b\"], [0.6666666666666666, \"#ed7953\"], [0.7777777777777778, \"#fb9f3a\"], [0.8888888888888888, \"#fdca26\"], [1.0, \"#f0f921\"]], \"type\": \"heatmapgl\"}], \"histogram\": [{\"marker\": {\"colorbar\": {\"outlinewidth\": 0, \"ticks\": \"\"}}, \"type\": \"histogram\"}], \"histogram2d\": [{\"colorbar\": {\"outlinewidth\": 0, \"ticks\": \"\"}, \"colorscale\": [[0.0, \"#0d0887\"], [0.1111111111111111, \"#46039f\"], [0.2222222222222222, \"#7201a8\"], [0.3333333333333333, \"#9c179e\"], [0.4444444444444444, \"#bd3786\"], [0.5555555555555556, \"#d8576b\"], [0.6666666666666666, \"#ed7953\"], [0.7777777777777778, \"#fb9f3a\"], [0.8888888888888888, \"#fdca26\"], [1.0, \"#f0f921\"]], \"type\": \"histogram2d\"}], \"histogram2dcontour\": [{\"colorbar\": {\"outlinewidth\": 0, \"ticks\": \"\"}, \"colorscale\": [[0.0, \"#0d0887\"], [0.1111111111111111, \"#46039f\"], [0.2222222222222222, \"#7201a8\"], [0.3333333333333333, \"#9c179e\"], [0.4444444444444444, \"#bd3786\"], [0.5555555555555556, \"#d8576b\"], [0.6666666666666666, \"#ed7953\"], [0.7777777777777778, \"#fb9f3a\"], [0.8888888888888888, \"#fdca26\"], [1.0, \"#f0f921\"]], \"type\": \"histogram2dcontour\"}], \"mesh3d\": [{\"colorbar\": {\"outlinewidth\": 0, \"ticks\": \"\"}, \"type\": \"mesh3d\"}], \"parcoords\": [{\"line\": {\"colorbar\": {\"outlinewidth\": 0, \"ticks\": \"\"}}, \"type\": \"parcoords\"}], \"pie\": [{\"automargin\": true, \"type\": \"pie\"}], \"scatter\": [{\"marker\": {\"colorbar\": {\"outlinewidth\": 0, \"ticks\": \"\"}}, \"type\": \"scatter\"}], \"scatter3d\": [{\"line\": {\"colorbar\": {\"outlinewidth\": 0, \"ticks\": \"\"}}, \"marker\": {\"colorbar\": {\"outlinewidth\": 0, \"ticks\": \"\"}}, \"type\": \"scatter3d\"}], \"scattercarpet\": [{\"marker\": {\"colorbar\": {\"outlinewidth\": 0, \"ticks\": \"\"}}, \"type\": \"scattercarpet\"}], \"scattergeo\": [{\"marker\": {\"colorbar\": {\"outlinewidth\": 0, \"ticks\": \"\"}}, \"type\": \"scattergeo\"}], \"scattergl\": [{\"marker\": {\"colorbar\": {\"outlinewidth\": 0, \"ticks\": \"\"}}, \"type\": \"scattergl\"}], \"scattermapbox\": [{\"marker\": {\"colorbar\": {\"outlinewidth\": 0, \"ticks\": \"\"}}, \"type\": \"scattermapbox\"}], \"scatterpolar\": [{\"marker\": {\"colorbar\": {\"outlinewidth\": 0, \"ticks\": \"\"}}, \"type\": \"scatterpolar\"}], \"scatterpolargl\": [{\"marker\": {\"colorbar\": {\"outlinewidth\": 0, \"ticks\": \"\"}}, \"type\": \"scatterpolargl\"}], \"scatterternary\": [{\"marker\": {\"colorbar\": {\"outlinewidth\": 0, \"ticks\": \"\"}}, \"type\": \"scatterternary\"}], \"surface\": [{\"colorbar\": {\"outlinewidth\": 0, \"ticks\": \"\"}, \"colorscale\": [[0.0, \"#0d0887\"], [0.1111111111111111, \"#46039f\"], [0.2222222222222222, \"#7201a8\"], [0.3333333333333333, \"#9c179e\"], [0.4444444444444444, \"#bd3786\"], [0.5555555555555556, \"#d8576b\"], [0.6666666666666666, \"#ed7953\"], [0.7777777777777778, \"#fb9f3a\"], [0.8888888888888888, \"#fdca26\"], [1.0, \"#f0f921\"]], \"type\": \"surface\"}], \"table\": [{\"cells\": {\"fill\": {\"color\": \"#EBF0F8\"}, \"line\": {\"color\": \"white\"}}, \"header\": {\"fill\": {\"color\": \"#C8D4E3\"}, \"line\": {\"color\": \"white\"}}, \"type\": \"table\"}]}, \"layout\": {\"annotationdefaults\": {\"arrowcolor\": \"#2a3f5f\", \"arrowhead\": 0, \"arrowwidth\": 1}, \"autotypenumbers\": \"strict\", \"coloraxis\": {\"colorbar\": {\"outlinewidth\": 0, \"ticks\": \"\"}}, \"colorscale\": {\"diverging\": [[0, \"#8e0152\"], [0.1, \"#c51b7d\"], [0.2, \"#de77ae\"], [0.3, \"#f1b6da\"], [0.4, \"#fde0ef\"], [0.5, \"#f7f7f7\"], [0.6, \"#e6f5d0\"], [0.7, \"#b8e186\"], [0.8, \"#7fbc41\"], [0.9, \"#4d9221\"], [1, \"#276419\"]], \"sequential\": [[0.0, \"#0d0887\"], [0.1111111111111111, \"#46039f\"], [0.2222222222222222, \"#7201a8\"], [0.3333333333333333, \"#9c179e\"], [0.4444444444444444, \"#bd3786\"], [0.5555555555555556, \"#d8576b\"], [0.6666666666666666, \"#ed7953\"], [0.7777777777777778, \"#fb9f3a\"], [0.8888888888888888, \"#fdca26\"], [1.0, \"#f0f921\"]], \"sequentialminus\": [[0.0, \"#0d0887\"], [0.1111111111111111, \"#46039f\"], [0.2222222222222222, \"#7201a8\"], [0.3333333333333333, \"#9c179e\"], [0.4444444444444444, \"#bd3786\"], [0.5555555555555556, \"#d8576b\"], [0.6666666666666666, \"#ed7953\"], [0.7777777777777778, \"#fb9f3a\"], [0.8888888888888888, \"#fdca26\"], [1.0, \"#f0f921\"]]}, \"colorway\": [\"#636efa\", \"#EF553B\", \"#00cc96\", \"#ab63fa\", \"#FFA15A\", \"#19d3f3\", \"#FF6692\", \"#B6E880\", \"#FF97FF\", \"#FECB52\"], \"font\": {\"color\": \"#2a3f5f\"}, \"geo\": {\"bgcolor\": \"white\", \"lakecolor\": \"white\", \"landcolor\": \"#E5ECF6\", \"showlakes\": true, \"showland\": true, \"subunitcolor\": \"white\"}, \"hoverlabel\": {\"align\": \"left\"}, \"hovermode\": \"closest\", \"mapbox\": {\"style\": \"light\"}, \"paper_bgcolor\": \"white\", \"plot_bgcolor\": \"#E5ECF6\", \"polar\": {\"angularaxis\": {\"gridcolor\": \"white\", \"linecolor\": \"white\", \"ticks\": \"\"}, \"bgcolor\": \"#E5ECF6\", \"radialaxis\": {\"gridcolor\": \"white\", \"linecolor\": \"white\", \"ticks\": \"\"}}, \"scene\": {\"xaxis\": {\"backgroundcolor\": \"#E5ECF6\", \"gridcolor\": \"white\", \"gridwidth\": 2, \"linecolor\": \"white\", \"showbackground\": true, \"ticks\": \"\", \"zerolinecolor\": \"white\"}, \"yaxis\": {\"backgroundcolor\": \"#E5ECF6\", \"gridcolor\": \"white\", \"gridwidth\": 2, \"linecolor\": \"white\", \"showbackground\": true, \"ticks\": \"\", \"zerolinecolor\": \"white\"}, \"zaxis\": {\"backgroundcolor\": \"#E5ECF6\", \"gridcolor\": \"white\", \"gridwidth\": 2, \"linecolor\": \"white\", \"showbackground\": true, \"ticks\": \"\", \"zerolinecolor\": \"white\"}}, \"shapedefaults\": {\"line\": {\"color\": \"#2a3f5f\"}}, \"ternary\": {\"aaxis\": {\"gridcolor\": \"white\", \"linecolor\": \"white\", \"ticks\": \"\"}, \"baxis\": {\"gridcolor\": \"white\", \"linecolor\": \"white\", \"ticks\": \"\"}, \"bgcolor\": \"#E5ECF6\", \"caxis\": {\"gridcolor\": \"white\", \"linecolor\": \"white\", \"ticks\": \"\"}}, \"title\": {\"x\": 0.05}, \"xaxis\": {\"automargin\": true, \"gridcolor\": \"white\", \"linecolor\": \"white\", \"ticks\": \"\", \"title\": {\"standoff\": 15}, \"zerolinecolor\": \"white\", \"zerolinewidth\": 2}, \"yaxis\": {\"automargin\": true, \"gridcolor\": \"white\", \"linecolor\": \"white\", \"ticks\": \"\", \"title\": {\"standoff\": 15}, \"zerolinecolor\": \"white\", \"zerolinewidth\": 2}}}, \"width\": 550},                        {\"responsive\": true}                    ).then(function(){\n",
       "                            \n",
       "var gd = document.getElementById('e732ab77-81bd-4505-bc82-52cd11a184db');\n",
       "var x = new MutationObserver(function (mutations, observer) {{\n",
       "        var display = window.getComputedStyle(gd).display;\n",
       "        if (!display || display === 'none') {{\n",
       "            console.log([gd, 'removed!']);\n",
       "            Plotly.purge(gd);\n",
       "            observer.disconnect();\n",
       "        }}\n",
       "}});\n",
       "\n",
       "// Listen for the removal of the full notebook cells\n",
       "var notebookContainer = gd.closest('#notebook-container');\n",
       "if (notebookContainer) {{\n",
       "    x.observe(notebookContainer, {childList: true});\n",
       "}}\n",
       "\n",
       "// Listen for the clearing of the current output cell\n",
       "var outputEl = gd.closest('.output');\n",
       "if (outputEl) {{\n",
       "    x.observe(outputEl, {childList: true});\n",
       "}}\n",
       "\n",
       "                        })                };                });            </script>        </div>"
      ]
     },
     "metadata": {},
     "output_type": "display_data"
    }
   ],
   "source": [
    "tv_country_df = generate_country_df(tv_df)\n",
    "fig = px.pie(labels = tv_country_df['country_main'], values = tv_country_df['counts'], names = tv_country_df['country_main'], width = 550, height = 550)\n",
    "\n",
    "fig.update_traces(textposition = 'inside', \n",
    "                  textinfo = 'percent + label', \n",
    "                  hole = 0.75, \n",
    "                  marker = dict(line = dict(color = 'white', width = 2)))\n",
    "\n",
    "fig.update_layout(annotations = [dict(text = 'TV Series', \n",
    "                                      x = 0.5, y = 0.5, font_size = 40, showarrow = False,                                       \n",
    "                                      font_color = 'black')],\n",
    "                  showlegend = False)\n",
    "\n",
    "fig.show()"
   ]
  },
  {
   "cell_type": "markdown",
   "id": "capable-glossary",
   "metadata": {
    "papermill": {
     "duration": 0.073637,
     "end_time": "2021-06-22T09:27:10.085814",
     "exception": false,
     "start_time": "2021-06-22T09:27:10.012177",
     "status": "completed"
    },
    "tags": []
   },
   "source": [
    "Conclusion: Here is another pie plot depicting the percentage of TV series originating from a country. As noticed from the above, United States holds the highest percentage, i.e approx.44%."
   ]
  },
  {
   "cell_type": "code",
   "execution_count": 32,
   "id": "appreciated-glossary",
   "metadata": {
    "execution": {
     "iopub.execute_input": "2021-06-22T09:27:10.241069Z",
     "iopub.status.busy": "2021-06-22T09:27:10.239939Z",
     "iopub.status.idle": "2021-06-22T09:27:10.311308Z",
     "shell.execute_reply": "2021-06-22T09:27:10.311904Z",
     "shell.execute_reply.started": "2021-06-22T09:18:27.670808Z"
    },
    "papermill": {
     "duration": 0.151843,
     "end_time": "2021-06-22T09:27:10.312121",
     "exception": false,
     "start_time": "2021-06-22T09:27:10.160278",
     "status": "completed"
    },
    "tags": []
   },
   "outputs": [
    {
     "data": {
      "text/html": [
       "<div>                            <div id=\"a7e36560-56a5-4b3a-b6d4-d5558f41fe3d\" class=\"plotly-graph-div\" style=\"height:550px; width:550px;\"></div>            <script type=\"text/javascript\">                require([\"plotly\"], function(Plotly) {                    window.PLOTLYENV=window.PLOTLYENV || {};                                    if (document.getElementById(\"a7e36560-56a5-4b3a-b6d4-d5558f41fe3d\")) {                    Plotly.newPlot(                        \"a7e36560-56a5-4b3a-b6d4-d5558f41fe3d\",                        [{\"domain\": {\"x\": [0.0, 1.0], \"y\": [0.0, 1.0]}, \"hole\": 0.75, \"hovertemplate\": \"label=%{label}<br>value=%{value}<extra></extra>\", \"labels\": [\"Argentina\", \"Australia\", \"Austria\", \"Bangladesh\", \"Belgium\", \"Brazil\", \"Bulgaria\", \"Cambodia\", \"Canada\", \"Chile\", \"China\", \"Colombia\", \"Croatia\", \"Czech Republic\", \"Denmark\", \"Egypt\", \"Finland\", \"France\", \"Georgia\", \"Germany\", \"Ghana\", \"Greece\", \"Guatemala\", \"Hong Kong\", \"Hungary\", \"Iceland\", \"India\", \"Indonesia\", \"Iran\", \"Ireland\", \"Israel\", \"Italy\", \"Jamaica\", \"Japan\", \"Kenya\", \"Kuwait\", \"Lebanon\", \"Malaysia\", \"Mexico\", \"Namibia\", \"Netherlands\", \"New Zealand\", \"Nigeria\", \"Norway\", \"Pakistan\", \"Paraguay\", \"Peru\", \"Philippines\", \"Poland\", \"Portugal\", \"Romania\", \"Russia\", \"Saudi Arabia\", \"Serbia\", \"Singapore\", \"Slovenia\", \"Somalia\", \"South Africa\", \"South Korea\", \"Soviet Union\", \"Spain\", \"Sweden\", \"Switzerland\", \"Taiwan\", \"Thailand\", \"Turkey\", \"United Arab Emirates\", \"United Kingdom\", \"United States\", \"Uruguay\", \"Venezuela\", \"Vietnam\", \"West Germany\", \"Zimbabwe\"], \"legendgroup\": \"\", \"marker\": {\"line\": {\"color\": \"white\", \"width\": 2}}, \"name\": \"\", \"showlegend\": true, \"textinfo\": \"percent+label\", \"textposition\": \"inside\", \"type\": \"pie\", \"values\": [50, 56, 7, 2, 6, 52, 5, 2, 175, 17, 48, 13, 1, 4, 19, 93, 3, 137, 2, 68, 4, 1, 1, 74, 4, 3, 883, 74, 1, 20, 12, 42, 1, 75, 3, 4, 14, 16, 79, 1, 20, 13, 63, 11, 18, 1, 6, 74, 19, 2, 10, 5, 6, 3, 10, 1, 1, 30, 42, 1, 119, 9, 6, 12, 39, 78, 18, 341, 2330, 8, 2, 5, 1, 1]}],                        {\"annotations\": [{\"font\": {\"color\": \"black\", \"size\": 32}, \"showarrow\": false, \"text\": \"Movies\", \"x\": 0.5, \"y\": 0.5}], \"height\": 550, \"legend\": {\"tracegroupgap\": 0}, \"margin\": {\"t\": 60}, \"showlegend\": false, \"template\": {\"data\": {\"bar\": [{\"error_x\": {\"color\": \"#2a3f5f\"}, \"error_y\": {\"color\": \"#2a3f5f\"}, \"marker\": {\"line\": {\"color\": \"#E5ECF6\", \"width\": 0.5}}, \"type\": \"bar\"}], \"barpolar\": [{\"marker\": {\"line\": {\"color\": \"#E5ECF6\", \"width\": 0.5}}, \"type\": \"barpolar\"}], \"carpet\": [{\"aaxis\": {\"endlinecolor\": \"#2a3f5f\", \"gridcolor\": \"white\", \"linecolor\": \"white\", \"minorgridcolor\": \"white\", \"startlinecolor\": \"#2a3f5f\"}, \"baxis\": {\"endlinecolor\": \"#2a3f5f\", \"gridcolor\": \"white\", \"linecolor\": \"white\", \"minorgridcolor\": \"white\", \"startlinecolor\": \"#2a3f5f\"}, \"type\": \"carpet\"}], \"choropleth\": [{\"colorbar\": {\"outlinewidth\": 0, \"ticks\": \"\"}, \"type\": \"choropleth\"}], \"contour\": [{\"colorbar\": {\"outlinewidth\": 0, \"ticks\": \"\"}, \"colorscale\": [[0.0, \"#0d0887\"], [0.1111111111111111, \"#46039f\"], [0.2222222222222222, \"#7201a8\"], [0.3333333333333333, \"#9c179e\"], [0.4444444444444444, \"#bd3786\"], [0.5555555555555556, \"#d8576b\"], [0.6666666666666666, \"#ed7953\"], [0.7777777777777778, \"#fb9f3a\"], [0.8888888888888888, \"#fdca26\"], [1.0, \"#f0f921\"]], \"type\": \"contour\"}], \"contourcarpet\": [{\"colorbar\": {\"outlinewidth\": 0, \"ticks\": \"\"}, \"type\": \"contourcarpet\"}], \"heatmap\": [{\"colorbar\": {\"outlinewidth\": 0, \"ticks\": \"\"}, \"colorscale\": [[0.0, \"#0d0887\"], [0.1111111111111111, \"#46039f\"], [0.2222222222222222, \"#7201a8\"], [0.3333333333333333, \"#9c179e\"], [0.4444444444444444, \"#bd3786\"], [0.5555555555555556, \"#d8576b\"], [0.6666666666666666, \"#ed7953\"], [0.7777777777777778, \"#fb9f3a\"], [0.8888888888888888, \"#fdca26\"], [1.0, \"#f0f921\"]], \"type\": \"heatmap\"}], \"heatmapgl\": [{\"colorbar\": {\"outlinewidth\": 0, \"ticks\": \"\"}, \"colorscale\": [[0.0, \"#0d0887\"], [0.1111111111111111, \"#46039f\"], [0.2222222222222222, \"#7201a8\"], [0.3333333333333333, \"#9c179e\"], [0.4444444444444444, \"#bd3786\"], [0.5555555555555556, \"#d8576b\"], [0.6666666666666666, \"#ed7953\"], [0.7777777777777778, \"#fb9f3a\"], [0.8888888888888888, \"#fdca26\"], [1.0, \"#f0f921\"]], \"type\": \"heatmapgl\"}], \"histogram\": [{\"marker\": {\"colorbar\": {\"outlinewidth\": 0, \"ticks\": \"\"}}, \"type\": \"histogram\"}], \"histogram2d\": [{\"colorbar\": {\"outlinewidth\": 0, \"ticks\": \"\"}, \"colorscale\": [[0.0, \"#0d0887\"], [0.1111111111111111, \"#46039f\"], [0.2222222222222222, \"#7201a8\"], [0.3333333333333333, \"#9c179e\"], [0.4444444444444444, \"#bd3786\"], [0.5555555555555556, \"#d8576b\"], [0.6666666666666666, \"#ed7953\"], [0.7777777777777778, \"#fb9f3a\"], [0.8888888888888888, \"#fdca26\"], [1.0, \"#f0f921\"]], \"type\": \"histogram2d\"}], \"histogram2dcontour\": [{\"colorbar\": {\"outlinewidth\": 0, \"ticks\": \"\"}, \"colorscale\": [[0.0, \"#0d0887\"], [0.1111111111111111, \"#46039f\"], [0.2222222222222222, \"#7201a8\"], [0.3333333333333333, \"#9c179e\"], [0.4444444444444444, \"#bd3786\"], [0.5555555555555556, \"#d8576b\"], [0.6666666666666666, \"#ed7953\"], [0.7777777777777778, \"#fb9f3a\"], [0.8888888888888888, \"#fdca26\"], [1.0, \"#f0f921\"]], \"type\": \"histogram2dcontour\"}], \"mesh3d\": [{\"colorbar\": {\"outlinewidth\": 0, \"ticks\": \"\"}, \"type\": \"mesh3d\"}], \"parcoords\": [{\"line\": {\"colorbar\": {\"outlinewidth\": 0, \"ticks\": \"\"}}, \"type\": \"parcoords\"}], \"pie\": [{\"automargin\": true, \"type\": \"pie\"}], \"scatter\": [{\"marker\": {\"colorbar\": {\"outlinewidth\": 0, \"ticks\": \"\"}}, \"type\": \"scatter\"}], \"scatter3d\": [{\"line\": {\"colorbar\": {\"outlinewidth\": 0, \"ticks\": \"\"}}, \"marker\": {\"colorbar\": {\"outlinewidth\": 0, \"ticks\": \"\"}}, \"type\": \"scatter3d\"}], \"scattercarpet\": [{\"marker\": {\"colorbar\": {\"outlinewidth\": 0, \"ticks\": \"\"}}, \"type\": \"scattercarpet\"}], \"scattergeo\": [{\"marker\": {\"colorbar\": {\"outlinewidth\": 0, \"ticks\": \"\"}}, \"type\": \"scattergeo\"}], \"scattergl\": [{\"marker\": {\"colorbar\": {\"outlinewidth\": 0, \"ticks\": \"\"}}, \"type\": \"scattergl\"}], \"scattermapbox\": [{\"marker\": {\"colorbar\": {\"outlinewidth\": 0, \"ticks\": \"\"}}, \"type\": \"scattermapbox\"}], \"scatterpolar\": [{\"marker\": {\"colorbar\": {\"outlinewidth\": 0, \"ticks\": \"\"}}, \"type\": \"scatterpolar\"}], \"scatterpolargl\": [{\"marker\": {\"colorbar\": {\"outlinewidth\": 0, \"ticks\": \"\"}}, \"type\": \"scatterpolargl\"}], \"scatterternary\": [{\"marker\": {\"colorbar\": {\"outlinewidth\": 0, \"ticks\": \"\"}}, \"type\": \"scatterternary\"}], \"surface\": [{\"colorbar\": {\"outlinewidth\": 0, \"ticks\": \"\"}, \"colorscale\": [[0.0, \"#0d0887\"], [0.1111111111111111, \"#46039f\"], [0.2222222222222222, \"#7201a8\"], [0.3333333333333333, \"#9c179e\"], [0.4444444444444444, \"#bd3786\"], [0.5555555555555556, \"#d8576b\"], [0.6666666666666666, \"#ed7953\"], [0.7777777777777778, \"#fb9f3a\"], [0.8888888888888888, \"#fdca26\"], [1.0, \"#f0f921\"]], \"type\": \"surface\"}], \"table\": [{\"cells\": {\"fill\": {\"color\": \"#EBF0F8\"}, \"line\": {\"color\": \"white\"}}, \"header\": {\"fill\": {\"color\": \"#C8D4E3\"}, \"line\": {\"color\": \"white\"}}, \"type\": \"table\"}]}, \"layout\": {\"annotationdefaults\": {\"arrowcolor\": \"#2a3f5f\", \"arrowhead\": 0, \"arrowwidth\": 1}, \"autotypenumbers\": \"strict\", \"coloraxis\": {\"colorbar\": {\"outlinewidth\": 0, \"ticks\": \"\"}}, \"colorscale\": {\"diverging\": [[0, \"#8e0152\"], [0.1, \"#c51b7d\"], [0.2, \"#de77ae\"], [0.3, \"#f1b6da\"], [0.4, \"#fde0ef\"], [0.5, \"#f7f7f7\"], [0.6, \"#e6f5d0\"], [0.7, \"#b8e186\"], [0.8, \"#7fbc41\"], [0.9, \"#4d9221\"], [1, \"#276419\"]], \"sequential\": [[0.0, \"#0d0887\"], [0.1111111111111111, \"#46039f\"], [0.2222222222222222, \"#7201a8\"], [0.3333333333333333, \"#9c179e\"], [0.4444444444444444, \"#bd3786\"], [0.5555555555555556, \"#d8576b\"], [0.6666666666666666, \"#ed7953\"], [0.7777777777777778, \"#fb9f3a\"], [0.8888888888888888, \"#fdca26\"], [1.0, \"#f0f921\"]], \"sequentialminus\": [[0.0, \"#0d0887\"], [0.1111111111111111, \"#46039f\"], [0.2222222222222222, \"#7201a8\"], [0.3333333333333333, \"#9c179e\"], [0.4444444444444444, \"#bd3786\"], [0.5555555555555556, \"#d8576b\"], [0.6666666666666666, \"#ed7953\"], [0.7777777777777778, \"#fb9f3a\"], [0.8888888888888888, \"#fdca26\"], [1.0, \"#f0f921\"]]}, \"colorway\": [\"#636efa\", \"#EF553B\", \"#00cc96\", \"#ab63fa\", \"#FFA15A\", \"#19d3f3\", \"#FF6692\", \"#B6E880\", \"#FF97FF\", \"#FECB52\"], \"font\": {\"color\": \"#2a3f5f\"}, \"geo\": {\"bgcolor\": \"white\", \"lakecolor\": \"white\", \"landcolor\": \"#E5ECF6\", \"showlakes\": true, \"showland\": true, \"subunitcolor\": \"white\"}, \"hoverlabel\": {\"align\": \"left\"}, \"hovermode\": \"closest\", \"mapbox\": {\"style\": \"light\"}, \"paper_bgcolor\": \"white\", \"plot_bgcolor\": \"#E5ECF6\", \"polar\": {\"angularaxis\": {\"gridcolor\": \"white\", \"linecolor\": \"white\", \"ticks\": \"\"}, \"bgcolor\": \"#E5ECF6\", \"radialaxis\": {\"gridcolor\": \"white\", \"linecolor\": \"white\", \"ticks\": \"\"}}, \"scene\": {\"xaxis\": {\"backgroundcolor\": \"#E5ECF6\", \"gridcolor\": \"white\", \"gridwidth\": 2, \"linecolor\": \"white\", \"showbackground\": true, \"ticks\": \"\", \"zerolinecolor\": \"white\"}, \"yaxis\": {\"backgroundcolor\": \"#E5ECF6\", \"gridcolor\": \"white\", \"gridwidth\": 2, \"linecolor\": \"white\", \"showbackground\": true, \"ticks\": \"\", \"zerolinecolor\": \"white\"}, \"zaxis\": {\"backgroundcolor\": \"#E5ECF6\", \"gridcolor\": \"white\", \"gridwidth\": 2, \"linecolor\": \"white\", \"showbackground\": true, \"ticks\": \"\", \"zerolinecolor\": \"white\"}}, \"shapedefaults\": {\"line\": {\"color\": \"#2a3f5f\"}}, \"ternary\": {\"aaxis\": {\"gridcolor\": \"white\", \"linecolor\": \"white\", \"ticks\": \"\"}, \"baxis\": {\"gridcolor\": \"white\", \"linecolor\": \"white\", \"ticks\": \"\"}, \"bgcolor\": \"#E5ECF6\", \"caxis\": {\"gridcolor\": \"white\", \"linecolor\": \"white\", \"ticks\": \"\"}}, \"title\": {\"x\": 0.05}, \"xaxis\": {\"automargin\": true, \"gridcolor\": \"white\", \"linecolor\": \"white\", \"ticks\": \"\", \"title\": {\"standoff\": 15}, \"zerolinecolor\": \"white\", \"zerolinewidth\": 2}, \"yaxis\": {\"automargin\": true, \"gridcolor\": \"white\", \"linecolor\": \"white\", \"ticks\": \"\", \"title\": {\"standoff\": 15}, \"zerolinecolor\": \"white\", \"zerolinewidth\": 2}}}, \"width\": 550},                        {\"responsive\": true}                    ).then(function(){\n",
       "                            \n",
       "var gd = document.getElementById('a7e36560-56a5-4b3a-b6d4-d5558f41fe3d');\n",
       "var x = new MutationObserver(function (mutations, observer) {{\n",
       "        var display = window.getComputedStyle(gd).display;\n",
       "        if (!display || display === 'none') {{\n",
       "            console.log([gd, 'removed!']);\n",
       "            Plotly.purge(gd);\n",
       "            observer.disconnect();\n",
       "        }}\n",
       "}});\n",
       "\n",
       "// Listen for the removal of the full notebook cells\n",
       "var notebookContainer = gd.closest('#notebook-container');\n",
       "if (notebookContainer) {{\n",
       "    x.observe(notebookContainer, {childList: true});\n",
       "}}\n",
       "\n",
       "// Listen for the clearing of the current output cell\n",
       "var outputEl = gd.closest('.output');\n",
       "if (outputEl) {{\n",
       "    x.observe(outputEl, {childList: true});\n",
       "}}\n",
       "\n",
       "                        })                };                });            </script>        </div>"
      ]
     },
     "metadata": {},
     "output_type": "display_data"
    }
   ],
   "source": [
    "movie_country_df = generate_country_df(movie_df)\n",
    "fig = px.pie(labels = movie_country_df['country_main'], values = movie_country_df['counts'], names = movie_country_df['country_main'], width = 550, height = 550)\n",
    "\n",
    "fig.update_traces(textposition = 'inside', \n",
    "                  textinfo = 'percent + label', \n",
    "                  hole = 0.75, \n",
    "                  marker = dict(line = dict(color = 'white', width = 2)))\n",
    "                                \n",
    "\n",
    "fig.update_layout(annotations = [dict(text = 'Movies', \n",
    "                                      x = 0.5, y = 0.5, font_size = 32, showarrow = False,                                       \n",
    "                                      font_color = 'black')],\n",
    "                  showlegend = False)\n",
    "\n",
    "fig.show()"
   ]
  },
  {
   "cell_type": "markdown",
   "id": "finished-hotel",
   "metadata": {
    "papermill": {
     "duration": 0.067398,
     "end_time": "2021-06-22T09:27:10.449846",
     "exception": false,
     "start_time": "2021-06-22T09:27:10.382448",
     "status": "completed"
    },
    "tags": []
   },
   "source": [
    "Conclusion: Here is another pie plot depicting the percentage of Movies originating from a country. As noticed from the above, United States holds the highest percentage, i.e approx.43.3%."
   ]
  },
  {
   "cell_type": "markdown",
   "id": "fuzzy-andrew",
   "metadata": {
    "execution": {
     "iopub.execute_input": "2021-06-22T08:43:39.865612Z",
     "iopub.status.busy": "2021-06-22T08:43:39.865098Z",
     "iopub.status.idle": "2021-06-22T08:43:39.871928Z",
     "shell.execute_reply": "2021-06-22T08:43:39.870511Z",
     "shell.execute_reply.started": "2021-06-22T08:43:39.865572Z"
    },
    "papermill": {
     "duration": 0.056987,
     "end_time": "2021-06-22T09:27:10.564579",
     "exception": false,
     "start_time": "2021-06-22T09:27:10.507592",
     "status": "completed"
    },
    "tags": []
   },
   "source": [
    "## ENDING NOTE:"
   ]
  },
  {
   "cell_type": "markdown",
   "id": "tight-baghdad",
   "metadata": {
    "papermill": {
     "duration": 0.062714,
     "end_time": "2021-06-22T09:27:10.689026",
     "exception": false,
     "start_time": "2021-06-22T09:27:10.626312",
     "status": "completed"
    },
    "tags": []
   },
   "source": [
    "This notebook is a compilation of my learnings from various articles/notebooks/tutorials. You might notice a slight resemblace in the way of creating function/plots as they have been inspired by the work of other more experienced people. However, I have tried to change and input my own ideations and variations. Constructive criticism is always welcome.\n",
    "\n",
    "Attaching some of the inspiring works:\n",
    "https://www.kaggle.com/dmitryuarov/netflix-eda-with-plotly#Distribution-of-main-genres-in-US,-India-and-Japan"
   ]
  },
  {
   "cell_type": "code",
   "execution_count": null,
   "id": "latter-drink",
   "metadata": {
    "papermill": {
     "duration": 0.059138,
     "end_time": "2021-06-22T09:27:10.807387",
     "exception": false,
     "start_time": "2021-06-22T09:27:10.748249",
     "status": "completed"
    },
    "tags": []
   },
   "outputs": [],
   "source": []
  }
 ],
 "metadata": {
  "kernelspec": {
   "display_name": "Python 3 (ipykernel)",
   "language": "python",
   "name": "python3"
  },
  "language_info": {
   "codemirror_mode": {
    "name": "ipython",
    "version": 3
   },
   "file_extension": ".py",
   "mimetype": "text/x-python",
   "name": "python",
   "nbconvert_exporter": "python",
   "pygments_lexer": "ipython3",
   "version": "3.9.7"
  },
  "papermill": {
   "default_parameters": {},
   "duration": 22.930685,
   "end_time": "2021-06-22T09:27:12.178495",
   "environment_variables": {},
   "exception": null,
   "input_path": "__notebook__.ipynb",
   "output_path": "__notebook__.ipynb",
   "parameters": {},
   "start_time": "2021-06-22T09:26:49.247810",
   "version": "2.3.3"
  }
 },
 "nbformat": 4,
 "nbformat_minor": 5
}
